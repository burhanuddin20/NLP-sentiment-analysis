{
 "cells": [
  {
   "attachments": {},
   "cell_type": "markdown",
   "metadata": {},
   "source": [
    "# Assignment Two:  Sentiment Classification\n"
   ]
  },
  {
   "cell_type": "markdown",
   "metadata": {},
   "source": [
    "#### Import necessary packages\n",
    "You may import more packages here."
   ]
  },
  {
   "cell_type": "code",
   "execution_count": 42,
   "metadata": {},
   "outputs": [],
   "source": [
    "# Import necessary packages\n",
    "import re\n",
    "from  os.path import join\n",
    "import os\n",
    "import numpy as np\n",
    "\n",
    "from nltk.tokenize import word_tokenize\n",
    "\n",
    "import torch\n"
   ]
  },
  {
   "cell_type": "code",
   "execution_count": 43,
   "metadata": {},
   "outputs": [],
   "source": [
    "# Set the device to GPU if available\n",
    "device = ('cuda' if torch.cuda.is_available() else 'cpu') "
   ]
  },
  {
   "attachments": {},
   "cell_type": "markdown",
   "metadata": {},
   "source": [
    "Get the stopwords and lemmatiser from NLTK"
   ]
  },
  {
   "cell_type": "code",
   "execution_count": 44,
   "metadata": {},
   "outputs": [],
   "source": [
    "#import nltk\n",
    "#nltk.download('all') "
   ]
  },
  {
   "cell_type": "code",
   "execution_count": 45,
   "metadata": {},
   "outputs": [],
   "source": [
    "from nltk.corpus import stopwords\n",
    "from nltk.stem import WordNetLemmatizer\n",
    "# Global paramaters\n",
    "stop_words = set(stopwords.words('english'))\n",
    "lemma = WordNetLemmatizer()"
   ]
  },
  {
   "cell_type": "code",
   "execution_count": 46,
   "metadata": {},
   "outputs": [],
   "source": [
    "# Define test sets\n",
    "testsets = ['twitter-test1.txt', 'twitter-test2.txt', 'twitter-test3.txt']"
   ]
  },
  {
   "cell_type": "code",
   "execution_count": 47,
   "metadata": {},
   "outputs": [],
   "source": [
    "# Skeleton: Evaluation code for the test sets\n",
    "def read_test(testset):\n",
    "    '''\n",
    "    readin the testset and return a dictionary\n",
    "    :param testset: str, the file name of the testset to compare\n",
    "    '''\n",
    "    id_gts = {}\n",
    "    with open(testset, 'r', encoding='utf8') as fh:\n",
    "        for line in fh:\n",
    "            fields = line.split('\\t')\n",
    "            tweetid = fields[0]\n",
    "            gt = fields[1]\n",
    "\n",
    "            id_gts[tweetid] = gt\n",
    "\n",
    "    return id_gts\n",
    "\n",
    "\n",
    "def confusion(id_preds, testset, classifier):\n",
    "    '''\n",
    "    print the confusion matrix of {'positive', 'netative'} between preds and testset\n",
    "    :param id_preds: a dictionary of predictions formated as {<tweetid>:<sentiment>, ... }\n",
    "    :param testset: str, the file name of the testset to compare\n",
    "    :classifier: str, the name of the classifier\n",
    "    '''\n",
    "    id_gts = read_test(testset)\n",
    "\n",
    "    gts = []\n",
    "    for m, c1 in id_gts.items():\n",
    "        if c1 not in gts:\n",
    "            gts.append(c1)\n",
    "\n",
    "    gts = ['positive', 'negative', 'neutral']\n",
    "\n",
    "    conf = {}\n",
    "    for c1 in gts:\n",
    "        conf[c1] = {}\n",
    "        for c2 in gts:\n",
    "            conf[c1][c2] = 0\n",
    "\n",
    "    for tweetid, gt in id_gts.items():\n",
    "        if tweetid in id_preds:\n",
    "            pred = id_preds[tweetid]\n",
    "        else:\n",
    "            pred = 'neutral'\n",
    "        conf[pred][gt] += 1\n",
    "\n",
    "    print(''.ljust(12) + '  '.join(gts))\n",
    "\n",
    "    for c1 in gts:\n",
    "        print(c1.ljust(12), end='')\n",
    "        for c2 in gts:\n",
    "            if sum(conf[c1].values()) > 0:\n",
    "                print('%.3f     ' % (conf[c1][c2] / float(sum(conf[c1].values()))), end='')\n",
    "            else:\n",
    "                print('0.000     ', end='')\n",
    "        print('')\n",
    "\n",
    "    print('')\n",
    "\n",
    "\n",
    "def evaluate(id_preds, testset, classifier):\n",
    "    '''\n",
    "    print the macro-F1 score of {'positive', 'netative'} between preds and testset\n",
    "    :param id_preds: a dictionary of predictions formated as {<tweetid>:<sentiment>, ... }\n",
    "    :param testset: str, the file name of the testset to compare\n",
    "    :classifier: str, the name of the classifier\n",
    "    '''\n",
    "    id_gts = read_test(testset)\n",
    "\n",
    "    acc_by_class = {}\n",
    "    for gt in ['positive', 'negative', 'neutral']:\n",
    "        acc_by_class[gt] = {'tp': 0, 'fp': 0, 'tn': 0, 'fn': 0}\n",
    "\n",
    "    catf1s = {}\n",
    "\n",
    "    ok = 0\n",
    "    for tweetid, gt in id_gts.items():\n",
    "        if tweetid in id_preds:\n",
    "            pred = id_preds[tweetid]\n",
    "        else:\n",
    "            pred = 'neutral'\n",
    "\n",
    "        if gt == pred:\n",
    "            ok += 1\n",
    "            acc_by_class[gt]['tp'] += 1\n",
    "        else:\n",
    "            acc_by_class[gt]['fn'] += 1\n",
    "            acc_by_class[pred]['fp'] += 1\n",
    "\n",
    "    catcount = 0\n",
    "    itemcount = 0\n",
    "    macro = {'p': 0, 'r': 0, 'f1': 0}\n",
    "    micro = {'p': 0, 'r': 0, 'f1': 0}\n",
    "    semevalmacro = {'p': 0, 'r': 0, 'f1': 0}\n",
    "\n",
    "    microtp = 0\n",
    "    microfp = 0\n",
    "    microtn = 0\n",
    "    microfn = 0\n",
    "    for cat, acc in acc_by_class.items():\n",
    "        catcount += 1\n",
    "\n",
    "        microtp += acc['tp']\n",
    "        microfp += acc['fp']\n",
    "        microtn += acc['tn']\n",
    "        microfn += acc['fn']\n",
    "\n",
    "        p = 0\n",
    "        if (acc['tp'] + acc['fp']) > 0:\n",
    "            p = float(acc['tp']) / (acc['tp'] + acc['fp'])\n",
    "\n",
    "        r = 0\n",
    "        if (acc['tp'] + acc['fn']) > 0:\n",
    "            r = float(acc['tp']) / (acc['tp'] + acc['fn'])\n",
    "\n",
    "        f1 = 0\n",
    "        if (p + r) > 0:\n",
    "            f1 = 2 * p * r / (p + r)\n",
    "\n",
    "        catf1s[cat] = f1\n",
    "\n",
    "        n = acc['tp'] + acc['fn']\n",
    "\n",
    "        macro['p'] += p\n",
    "        macro['r'] += r\n",
    "        macro['f1'] += f1\n",
    "\n",
    "        if cat in ['positive', 'negative']:\n",
    "            semevalmacro['p'] += p\n",
    "            semevalmacro['r'] += r\n",
    "            semevalmacro['f1'] += f1\n",
    "\n",
    "        itemcount += n\n",
    "\n",
    "    micro['p'] = float(microtp) / float(microtp + microfp)\n",
    "    micro['r'] = float(microtp) / float(microtp + microfn)\n",
    "    micro['f1'] = 2 * float(micro['p']) * micro['r'] / float(micro['p'] + micro['r'])\n",
    "\n",
    "    semevalmacrof1 = semevalmacro['f1'] / 2\n",
    "\n",
    "    print(testset + ' (' + classifier + '): %.3f' % semevalmacrof1)"
   ]
  },
  {
   "attachments": {},
   "cell_type": "markdown",
   "metadata": {},
   "source": [
    "#### Preprocessing functions\n",
    "- Preprocessing steps,tests and error analysis are described in the report"
   ]
  },
  {
   "cell_type": "code",
   "execution_count": 48,
   "metadata": {},
   "outputs": [],
   "source": [
    "from nltk.corpus import wordnet\n",
    "\n",
    "# function to convert nltk tag to wordnet tag\n",
    "def nltk_tag_to_wordnet_tag(nltk_tag):\n",
    "    if nltk_tag.startswith('J'):\n",
    "        return wordnet.ADJ\n",
    "    elif nltk_tag.startswith('V'):\n",
    "        return wordnet.VERB\n",
    "    elif nltk_tag.startswith('N'):\n",
    "        return wordnet.NOUN\n",
    "    elif nltk_tag.startswith('R'):\n",
    "        return wordnet.ADV\n",
    "    else:          \n",
    "        return None"
   ]
  },
  {
   "cell_type": "code",
   "execution_count": 49,
   "metadata": {},
   "outputs": [],
   "source": [
    "from nltk.tag import pos_tag\n",
    "\n",
    "\n",
    "def lemmatize_sentence(sentence):\n",
    "    #tokenize the sentence and find the POS tag for each token\n",
    "    nltk_tagged = pos_tag(word_tokenize(sentence))  \n",
    "    #tuple of (token, wordnet_tag)\n",
    "    wordnet_tagged = map(lambda x: (x[0], nltk_tag_to_wordnet_tag(x[1])), nltk_tagged)\n",
    "    lemmatized_sentence = []\n",
    "    for word, tag in wordnet_tagged:\n",
    "        if tag is None:\n",
    "            #if there is no available tag, append the token as is\n",
    "            lemmatized_sentence.append(word)\n",
    "        else:        \n",
    "            #else use the tag to lemmatise the token\n",
    "            lemmatized_sentence.append(lemma.lemmatize(word, tag))\n",
    "    return \" \".join(lemmatized_sentence)"
   ]
  },
  {
   "cell_type": "code",
   "execution_count": 50,
   "metadata": {},
   "outputs": [],
   "source": [
    "# function that takes in a tweets and returns preprocessed tweet\n",
    "def preprocess(tweet):\n",
    "    # remove urls\n",
    "    tweet = re.sub(r\"((https?|ftp)://)?[a-z0-9\\-._~:/?#\\[\\]@!$&'()*+,;=%]+\\.[a-z]{2,}[a-z0-9\\-._~:/?#\\[\\]@!$&'()*+,;=%]*\",\"\",tweet)\n",
    "    # remove usernames    \n",
    "    tweet = re.sub('@[\\w]+','',tweet)\n",
    "\n",
    "    #remove hashtags\n",
    "    tweet = re.sub(r'#\\w+','',tweet)\n",
    "\n",
    "    #replace all whitespace characters e.g convert \\n into ' ' \n",
    "    tweet = re.sub(r\"\\s\",\" \",tweet)\n",
    "\n",
    "    #remove non-alphanumeric charracters except spaces\n",
    "    tweet = re.sub(r\"[^A-Za-z0-9 ]\",\"\",tweet)\n",
    "\n",
    "    # remove numbers\n",
    "    tweet = re.sub(r\"\\b[0-9]\\b\",\"\",tweet)\n",
    "\n",
    "    # remove single characters\n",
    "    tweet = re.sub(r'\\b[A-Za-z]\\b','',tweet)\n",
    "\n",
    "    #stop word removal\n",
    "    tweet = ' '.join([word for word in tweet.split() if word not in stop_words])\n",
    "\n",
    "    #POS tagging and then lemmatize tweet\n",
    "    tweet = lemmatize_sentence(tweet)\n",
    "    return tweet\n",
    "\n"
   ]
  },
  {
   "attachments": {},
   "cell_type": "markdown",
   "metadata": {},
   "source": [
    "#### Define the local path where the semeval-tweets are located"
   ]
  },
  {
   "cell_type": "code",
   "execution_count": 51,
   "metadata": {},
   "outputs": [],
   "source": [
    "# define the local path to the data_dir\n",
    "data_dir = join(os.getcwd(), 'semeval-tweets')"
   ]
  },
  {
   "cell_type": "code",
   "execution_count": 52,
   "metadata": {},
   "outputs": [
    {
     "name": "stdout",
     "output_type": "stream",
     "text": [
      "c:\\Users\\burhan\\OneDrive - University of Warwick\\University\\Comp Sci MSC\\CS918 Natural Language Processing\\Labs\\Assignment 2\\semeval-tweets\n"
     ]
    }
   ],
   "source": [
    "print(data_dir)"
   ]
  },
  {
   "cell_type": "code",
   "execution_count": 53,
   "metadata": {},
   "outputs": [],
   "source": [
    "# define 0 to represent negative sentiment, 1 to represent neutral sentiment and 2 to represent positive sentiment\n",
    "def sentiment_to_label(sentiment):\n",
    "    if sentiment == 'negative':\n",
    "        return 0\n",
    "    elif sentiment == 'neutral':\n",
    "        return 1\n",
    "    elif sentiment == 'positive':\n",
    "        return 2\n",
    "\n",
    "def label_to_sentiment(label):\n",
    "    if label == 0:\n",
    "        return 'negative'\n",
    "    elif label == 1:\n",
    "        return 'neutral'\n",
    "    elif label == 2:\n",
    "        return 'positive'\n"
   ]
  },
  {
   "cell_type": "code",
   "execution_count": 54,
   "metadata": {},
   "outputs": [],
   "source": [
    "# Load training set, dev set and testing set\n",
    "data = {}\n",
    "tweetids = {}\n",
    "tweetgts = {}\n",
    "tweets = {}\n",
    "\n",
    "for dataset in ['twitter-training-data.txt','twitter-dev-data.txt'] + testsets:\n",
    "    data[dataset] = []\n",
    "    tweets[dataset] = []\n",
    "    tweetids[dataset] = []\n",
    "    tweetgts[dataset] = []\n",
    "    with open(join(data_dir, dataset), 'r', encoding='utf8') as fh:\n",
    "        for line in fh:\n",
    "            fields = line.split('\\t')\n",
    "            tweetid = fields[0]\n",
    "            gt = sentiment_to_label(fields[1])\n",
    "\n",
    "            #lowercase the tweet\n",
    "            tweet = fields[2].lower()\n",
    "            #preprocess the tweet\n",
    "            tweet = preprocess(tweet)\n",
    "\n",
    "            data[dataset].append((tweetid, gt, tweet))\n",
    "            tweetids[dataset].append(tweetid)\n",
    "            tweetgts[dataset].append(gt)\n",
    "            tweets[dataset].append(tweet)\n"
   ]
  },
  {
   "cell_type": "code",
   "execution_count": 55,
   "metadata": {},
   "outputs": [
    {
     "data": {
      "image/png": "[encoded data removed]",
      "text/plain": [
       "<Figure size 1000x500 with 1 Axes>"
      ]
     },
     "metadata": {},
     "output_type": "display_data"
    },
    {
     "name": "stdout",
     "output_type": "stream",
     "text": [
      "Distribution of the training set\n",
      "negative: 8326 (18.46078800913505%)\n",
      "neutral: 20789 (46.09432163366666%)\n",
      "positive: 15986 (35.44489035719829%)\n"
     ]
    }
   ],
   "source": [
    "import matplotlib.pyplot as plt\n",
    "# create a bar chart to show the distribution of the training set\n",
    "plt.figure(figsize=(10, 5))\n",
    "plt.hist(tweetgts['twitter-training-data.txt'], bins=3, align='mid', rwidth=0.5)\n",
    "plt.xticks([0,1,2], ['negative', 'neutral', 'positive'])\n",
    "plt.xlabel('Sentiment')\n",
    "plt.ylabel('Number of tweets')\n",
    "plt.title('Distribution of the training set')\n",
    "plt.show()\n",
    "\n",
    "# print the % of tweets in each class in the training set\n",
    "print('Distribution of the training set')\n",
    "\n",
    "\n",
    "for label in [0, 1,2]:\n",
    "    print(label_to_sentiment(label) + ': ' + str(tweetgts['twitter-training-data.txt'].count(label)) + ' (' + str(float(tweetgts['twitter-training-data.txt'].count(label)) / len(tweetgts['twitter-training-data.txt']) * 100) + '%)')"
   ]
  },
  {
   "attachments": {},
   "cell_type": "markdown",
   "metadata": {},
   "source": [
    "    twitter-training-data.txt\n",
    "    Total tweets in datset: 45101\n",
    "    Total negative tweets: 20789 \n",
    "    Total neutral tweet: 15986\n",
    "    Total Positive tweets: 0\n",
    "    twitter-dev-data.txt\n",
    "    Total tweets in datset: 2000\n",
    "    Total negative tweets: 919 \n",
    "    Total neutral tweet: 703\n",
    "    Total Positive tweets: 0\n",
    "    twitter-test1.txt\n",
    "    Total tweets in datset: 3531\n",
    "    Total negative tweets: 1504 \n",
    "    Total neutral tweet: 1470\n",
    "    Total Positive tweets: 0\n",
    "    twitter-test2.txt\n",
    "    Total tweets in datset: 1853\n",
    "    Total negative tweets: 669 \n",
    "    Total neutral tweet: 982\n",
    "    Total Positive tweets: 0\n",
    "    twitter-test3.txt\n",
    "    Total tweets in datset: 2379\n",
    "    Total negative tweets: 983 \n",
    "    Total neutral tweet: 1033\n",
    "    Total Positive tweets: 0"
   ]
  },
  {
   "attachments": {},
   "cell_type": "markdown",
   "metadata": {},
   "source": [
    "## Glove word embeddings"
   ]
  },
  {
   "cell_type": "code",
   "execution_count": 56,
   "metadata": {},
   "outputs": [],
   "source": [
    "# dict of word and vector cpts\n",
    "glove_map = {}\n",
    "with open(join('glove.6B', 'glove.6B.100d.txt'), 'r', encoding='utf8') as fh:\n",
    "    for line in fh:\n",
    "        # split by spaces\n",
    "        fields = line.split()\n",
    "        #get the word\n",
    "        word = fields[0]\n",
    "        # get the vector\n",
    "        vector = np.array(fields[1:], dtype=np.float32)\n",
    "        # save it with the word as key\n",
    "        glove_map[word] = vector"
   ]
  },
  {
   "attachments": {},
   "cell_type": "markdown",
   "metadata": {},
   "source": [
    "Get 5000 most frequent words"
   ]
  },
  {
   "cell_type": "code",
   "execution_count": 57,
   "metadata": {},
   "outputs": [
    {
     "name": "stdout",
     "output_type": "stream",
     "text": [
      "[('tomorrow', 5768), ('may', 5493), ('go', 4892), ('get', 3851), ('day', 3532), ('see', 2951), ('im', 2824), ('like', 2517), ('night', 2510), ('time', 2300), ('1st', 2138), ('sunday', 2134), ('friday', 2067), ('make', 2032), ('come', 1956), ('watch', 1954), ('one', 1933), ('say', 1932), ('new', 1700), ('want', 1680), ('game', 1638), ('think', 1565), ('know', 1554), ('good', 1547), ('saturday', 1537), ('2nd', 1515), ('monday', 1493), ('dont', 1422), ('amp', 1402), ('today', 1401), ('3rd', 1256), ('love', 1242), ('tonight', 1224), ('take', 1215), ('well', 1206), ('play', 1184), ('look', 1177), ('us', 1175), ('last', 1147), ('back', 1145), ('still', 1134), ('show', 1095), ('cant', 1078), ('thursday', 1035), ('na', 1035), ('start', 1004), ('david', 998), ('big', 988), ('win', 979), ('first', 979), ('would', 977), ('need', 958), ('best', 954), ('trump', 904), ('great', 885), ('sun', 877), ('next', 873), ('wait', 864), ('right', 835), ('work', 833), ('people', 828), ('happy', 804), ('year', 802), ('world', 787), ('give', 763), ('live', 757), ('tuesday', 731), ('really', 726), ('ill', 721), ('4th', 721), ('gon', 714), ('even', 706), ('bad', 697), ('run', 695), ('morning', 688), ('hope', 687), ('thing', 676), ('miss', 669), ('john', 662), ('season', 659), ('call', 654), ('ticket', 644), ('let', 636), ('way', 619), ('via', 608), ('sit', 603), ('he', 600), ('wednesday', 596), ('man', 584), ('lol', 580), ('birthday', 576), ('set', 570), ('talk', 570), ('leave', 562), ('guy', 561), ('white', 559), ('open', 559), ('ever', 555), ('frank', 554), ('paul', 554), ('much', 553), ('september', 549), ('george', 547), ('end', 545), ('movie', 541), ('try', 539), ('ice', 538), ('tell', 536), ('real', 530), ('never', 525), ('concert', 524), ('news', 520), ('fan', 504), ('thats', 503), ('rt', 500), ('sox', 499), ('find', 498), ('week', 498), ('10', 498), ('video', 496), ('since', 490), ('national', 488), ('could', 483), ('august', 479), ('youre', 477), ('song', 473), ('use', 473), ('5th', 469), ('team', 466), ('album', 462), ('also', 462), ('life', 461), ('free', 460), ('didnt', 458), ('please', 454), ('two', 447), ('sure', 441), ('place', 440), ('black', 439), ('party', 439), ('red', 436), ('home', 434), ('july', 434), ('feel', 431), ('gay', 430), ('lead', 428), ('fuck', 424), ('anyone', 423), ('tom', 422), ('buy', 414), ('brother', 412), ('every', 411), ('listen', 409), ('meet', 408), ('ive', 407), ('top', 406), ('star', 405), ('read', 401), ('november', 401), ('march', 400), ('hit', 400), ('fight', 399), ('school', 398), ('lose', 394), ('v', 393), ('mean', 389), ('keep', 386), ('apple', 385), ('hot', 384), ('october', 383), ('break', 382), ('plan', 381), ('put', 381), ('obama', 381), ('president', 380), ('super', 379), ('join', 378), ('release', 376), ('january', 373), ('doesnt', 373), ('might', 370), ('remember', 368), ('shit', 367), ('long', 367), ('stop', 367), ('state', 367), ('another', 364), ('west', 362), ('girl', 362), ('google', 360), ('ready', 360), ('weekend', 359), ('friend', 359), ('check', 358), ('support', 357), ('oh', 355), ('ask', 354), ('many', 351), ('beat', 351), ('help', 351), ('price', 350), ('old', 348), ('bring', 346), ('valentine', 345), ('vote', 344), ('football', 344), ('god', 343), ('muslim', 342), ('christian', 342), ('amazon', 341), ('everyone', 339), ('saw', 338), ('already', 337), ('cena', 336), ('thanks', 335), ('murray', 333), ('head', 331), ('town', 331), ('kill', 330), ('hear', 327), ('wont', 326), ('happen', 324), ('band', 324), ('dog', 323), ('face', 323), ('6th', 323), ('little', 322), ('excite', 322), ('late', 322), ('hour', 320), ('always', 318), ('book', 318), ('fighter', 317), ('jason', 317), ('move', 317), ('tweet', 317), ('johnson', 316), ('someone', 316), ('eid', 312), ('house', 311), ('round', 310), ('sam', 310), ('kanye', 309), ('7th', 308), ('nicki', 306), ('wan', 306), ('follow', 305), ('event', 303), ('match', 303), ('player', 301), ('something', 301), ('smith', 301), ('brown', 300), ('kim', 299), ('michael', 298), ('yet', 296), ('yes', 294), ('isnt', 294), ('lot', 293), ('music', 293), ('sharknado', 293), ('believe', 293), ('sign', 293), ('class', 292), ('milan', 292), ('paper', 292), ('family', 290), ('jackson', 290), ('woman', 289), ('rollins', 288), ('hell', 288), ('shawn', 288), ('wish', 288), ('islam', 287), ('though', 285), ('cmon', 285), ('war', 284), ('name', 284), ('seth', 283), ('drop', 283), ('ocean', 282), ('actually', 282), ('cube', 281), ('antman', 281), ('ed', 281), ('8th', 280), ('foo', 278), ('note', 278), ('point', 278), ('sat', 278), ('gucci', 276), ('death', 275), ('ps4', 275), ('change', 275), ('turn', 275), ('park', 273), ('dunkin', 272), ('must', 272), ('enjoy', 272), ('dustin', 271), ('tv', 270), ('around', 268), ('madrid', 267), ('12', 266), ('deal', 266), ('away', 266), ('kane', 266), ('dead', 264), ('brady', 264), ('naruto', 263), ('pay', 263), ('city', 263), ('finish', 263), ('brock', 262), ('chris', 262), ('taylor', 261), ('grade', 260), ('prime', 259), ('part', 259), ('zayn', 258), ('do', 257), ('pick', 257), ('wright', 257), ('donald', 257), ('prince', 256), ('celebrate', 253), ('thank', 253), ('perry', 252), ('return', 252), ('nirvana', 252), ('sept', 252), ('lesnar', 252), ('9th', 251), ('true', 250), ('kid', 250), ('maybe', 250), ('rousey', 248), ('final', 248), ('write', 247), ('episode', 246), ('eagle', 246), ('young', 246), ('stay', 243), ('post', 243), ('dunne', 243), ('die', 243), ('pretty', 243), ('marriage', 242), ('10th', 241), ('fun', 239), ('nothing', 239), ('december', 237), ('nov', 237), ('ok', 236), ('sheeran', 236), ('job', 235), ('cream', 234), ('raw', 233), ('hey', 233), ('hogan', 232), ('nice', 232), ('walk', 232), ('roll', 232), ('aldean', 231), ('niall', 231), ('probably', 230), ('record', 230), ('score', 229), ('half', 229), ('chance', 228), ('early', 228), ('walker', 228), ('cause', 227), ('iron', 227), ('scott', 227), ('country', 226), ('high', 226), ('guess', 226), ('date', 225), ('boy', 225), ('galaxy', 224), ('hulk', 224), ('kris', 224), ('hold', 222), ('announce', 221), ('id', 221), ('debate', 221), ('gifford', 220), ('film', 220), ('forget', 219), ('bob', 218), ('finally', 217), ('money', 216), ('till', 215), ('wear', 215), ('month', 214), ('close', 213), ('phone', 213), ('care', 213), ('hate', 213), ('blood', 212), ('yeah', 212), ('club', 211), ('election', 211), ('20', 211), ('line', 210), ('harry', 210), ('sell', 210), ('sound', 210), ('april', 209), ('yoga', 209), ('fact', 209), ('church', 209), ('award', 208), ('wwe', 208), ('charlie', 206), ('seem', 205), ('far', 205), ('jurassic', 204), ('jenner', 204), ('pm', 204), ('mccartney', 204), ('league', 203), ('yakub', 203), ('college', 203), ('usa', 203), ('shes', 202), ('america', 202), ('become', 201), ('kasich', 201), ('bryant', 201), ('hard', 200), ('forward', 197), ('special', 197), ('word', 197), ('14th', 197), ('without', 196), ('bc', 196), ('maiden', 196), ('american', 195), ('force', 195), ('hillary', 195), ('carly', 195), ('uk', 194), ('awesome', 194), ('tiger', 193), ('attack', 192), ('vs', 192), ('yesterday', 192), ('cool', 191), ('cry', 191), ('rest', 190), ('medium', 190), ('fiorina', 190), ('history', 190), ('cover', 190), ('boko', 189), ('caitlyn', 189), ('single', 189), ('haram', 188), ('2015', 188), ('wonder', 188), ('mom', 187), ('there', 187), ('story', 187), ('30', 184), ('hand', 183), ('wrong', 183), ('rise', 182), ('speech', 182), ('sale', 182), ('whats', 182), ('issue', 181), ('clinton', 181), ('goal', 180), ('floyd', 180), ('stand', 180), ('second', 180), ('person', 180), ('baby', 179), ('blue', 179), ('begin', 179), ('test', 179), ('case', 179), ('15', 178), ('havent', 178), ('soon', 178), ('iphone', 178), ('reason', 178), ('question', 177), ('tour', 177), ('control', 177), ('interview', 177), ('title', 177), ('report', 176), ('photo', 176), ('full', 176), ('mike', 176), ('sad', 175), ('catch', 175), ('gun', 175), ('due', 175), ('third', 175), ('lady', 174), ('joe', 174), ('arsenal', 174), ('rock', 173), ('tony', 173), ('liberal', 173), ('learn', 173), ('sorry', 173), ('oct', 172), ('wed', 172), ('order', 172), ('perform', 172), ('sing', 172), ('rick', 172), ('moto', 171), ('mayweather', 171), ('february', 171), ('whole', 171), ('hebdo', 171), ('behind', 170), ('anything', 170), ('enough', 169), ('york', 169), ('theyre', 168), ('everything', 167), ('son', 167), ('coach', 167), ('bit', 166), ('kpop', 166), ('fire', 166), ('swift', 166), ('save', 166), ('agree', 165), ('picture', 165), ('twitter', 165), ('act', 165), ('stone', 164), ('ball', 163), ('minute', 163), ('steve', 162), ('least', 161), ('list', 161), ('race', 160), ('allah', 160), ('justin', 159), ('sleep', 158), ('visit', 158), ('ta', 157), ('beach', 157), ('center', 157), ('speak', 157), ('else', 157), ('straight', 157), ('update', 157), ('card', 156), ('leader', 156), ('dream', 156), ('aug', 155), ('martin', 155), ('who', 155), ('stage', 154), ('yall', 154), ('wow', 154), ('drive', 154), ('expect', 153), ('strike', 153), ('launch', 153), ('fall', 153), ('xbox', 153), ('gen', 152), ('nfl', 152), ('16', 152), ('chelsea', 151), ('de', 151), ('bush', 151), ('london', 151), ('power', 151), ('available', 150), ('u2', 150), ('labor', 150), ('together', 150), ('send', 149), ('kick', 149), ('shot', 149), ('magic', 149), ('haha', 148), ('throw', 148), ('favorite', 148), ('hang', 148), ('law', 148), ('stuff', 148), ('pope', 148), ('share', 147), ('group', 146), ('teen', 146), ('ryan', 146), ('bless', 146), ('netflix', 145), ('melania', 145), ('series', 145), ('continue', 145), ('earth', 145), ('damn', 145), ('harper', 145), ('ben', 144), ('inning', 144), ('11th', 144), ('st', 144), ('parade', 144), ('ur', 144), ('instead', 144), ('room', 144), ('ted', 143), ('la', 143), ('jan', 142), ('heart', 142), ('foundation', 142), ('lie', 142), ('million', 142), ('sting', 142), ('mark', 141), ('hi', 141), ('wake', 141), ('josh', 141), ('gold', 141), ('problem', 141), ('cut', 141), ('janet', 140), ('amendment', 140), ('almost', 140), ('base', 139), ('light', 139), ('child', 139), ('zac', 139), ('dance', 139), ('king', 139), ('tie', 139), ('as', 139), ('heard', 138), ('member', 138), ('hop', 138), ('major', 138), ('number', 137), ('mind', 137), ('anniversary', 137), ('field', 137), ('pic', 137), ('wood', 137), ('able', 136), ('oliseh', 136), ('bowl', 136), ('eye', 135), ('air', 135), ('june', 135), ('perfect', 135), ('side', 135), ('luck', 135), ('deep', 135), ('gop', 134), ('spot', 134), ('conservative', 134), ('idea', 134), ('tory', 134), ('bed', 134), ('16th', 134), ('18th', 133), ('13', 133), ('osborne', 133), ('car', 133), ('funny', 132), ('13th', 132), ('michelle', 132), ('wasnt', 131), ('hamilton', 131), ('ipad', 131), ('surprise', 131), ('republican', 131), ('12th', 130), ('window', 130), ('okay', 129), ('sarah', 129), ('randy', 129), ('romo', 129), ('moment', 129), ('thor', 129), ('11', 129), ('choice', 129), ('pride', 129), ('spend', 129), ('2012', 128), ('holiday', 128), ('dad', 128), ('beautiful', 128), ('ipod', 128), ('bbc', 127), ('trend', 127), ('winner', 127), ('cub', 127), ('25th', 127), ('shirt', 127), ('bobby', 126), ('katy', 126), ('along', 126), ('animal', 126), ('james', 126), ('cup', 125), ('interested', 125), ('jeb', 125), ('undertaker', 125), ('25', 125), ('green', 125), ('messi', 124), ('17th', 124), ('ago', 124), ('15th', 124), ('campaign', 123), ('hopefully', 123), ('decide', 123), ('laugh', 122), ('21', 122), ('2016', 121), ('22', 121), ('link', 121), ('review', 121), ('later', 121), ('interest', 121), ('welcome', 121), ('fly', 121), ('joke', 121), ('claim', 120), ('gov', 120), ('add', 120), ('official', 120), ('eat', 120), ('mac', 120), ('peace', 120), ('charge', 120), ('fuel', 120), ('ahead', 120), ('fair', 120), ('poll', 119), ('wolf', 119), ('bernie', 119), ('watchman', 119), ('50', 119), ('crazy', 119), ('thought', 118), ('amaze', 118), ('omg', 118), ('nokia', 118), ('biden', 118), ('100', 118), ('realize', 118), ('bitch', 118), ('dr', 118), ('castro', 118), ('consider', 117), ('jay', 117), ('host', 117), ('20th', 117), ('less', 117), ('pitch', 117), ('pass', 117), ('front', 117), ('standard', 117), ('bet', 116), ('louis', 116), ('answer', 116), ('food', 116), ('dude', 116), ('huge', 115), ('daily', 115), ('offer', 115), ('orton', 115), ('madonna', 115), ('3d', 115), ('tho', 114), ('lexus', 114), ('three', 114), ('include', 114), ('service', 113), ('allen', 113), ('past', 113), ('throne', 113), ('penalty', 113), ('bill', 113), ('anderson', 113), ('championship', 113), ('office', 113), ('cruise', 113), ('eric', 113), ('definitely', 112), ('here', 112), ('afternoon', 112), ('action', 112), ('24', 112), ('shoot', 112), ('plus', 112), ('sony', 111), ('business', 111), ('19th', 111), ('kurt', 111), ('stream', 111), ('result', 111), ('understand', 111), ('sander', 111), ('cameron', 111), ('pen', 110), ('moore', 110), ('17', 110), ('batman', 110), ('christmas', 110), ('serena', 110), ('fidel', 110), ('youll', 110), ('near', 110), ('mr', 109), ('street', 109), ('human', 109), ('career', 109), ('grateful', 109), ('beyonce', 109), ('carson', 108), ('dems', 108), ('potter', 108), ('confirm', 108), ('kind', 108), ('sport', 108), ('scotus', 108), ('un', 108), ('matter', 107), ('kerry', 107), ('aint', 107), ('21st', 107), ('future', 107), ('23', 107), ('store', 107), ('pull', 107), ('30th', 107), ('acdc', 107), ('snoop', 107), ('schedule', 107), ('beckham', 106), ('champion', 106), ('north', 106), ('rule', 106), ('summer', 106), ('nike', 106), ('united', 106), ('miley', 106), ('trip', 106), ('jindal', 105), ('le', 105), ('palin', 105), ('halloween', 105), ('different', 105), ('minecraft', 105), ('14', 105), ('electoral', 105), ('proud', 105), ('wouldnt', 105), ('ronaldo', 104), ('heat', 104), ('venice', 104), ('merkel', 104), ('tsipras', 104), ('block', 104), ('edge', 104), ('jack', 103), ('barca', 103), ('hannibal', 103), ('literally', 103), ('chuck', 103), ('mariah', 103), ('cuba', 103), ('drone', 103), ('train', 103), ('practice', 103), ('voice', 103), ('celebrity', 103), ('wall', 103), ('abortion', 103), ('radio', 103), ('sister', 102), ('samsung', 102), ('double', 102), ('soul', 102), ('disneyland', 101), ('soros', 101), ('company', 101), ('row', 101), ('parenthood', 101), ('putin', 101), ('giant', 101), ('angela', 101), ('article', 100), ('suck', 100), ('court', 100), ('juventus', 100), ('mcgregor', 100), ('williams', 100), ('performance', 100), ('either', 100), ('oracle', 99), ('tmobile', 99), ('metlife', 99), ('dallas', 99), ('view', 99), ('apparently', 99), ('conor', 99), ('paris', 99), ('digi', 99), ('mad', 99), ('nintendo', 99), ('british', 99), ('calibraska', 99), ('four', 98), ('present', 98), ('worth', 98), ('men', 98), ('braun', 98), ('couldnt', 98), ('social', 98), ('serve', 98), ('curtis', 98), ('flair', 97), ('access', 97), ('royal', 97), ('couple', 97), ('wife', 97), ('23rd', 97), ('ihop', 97), ('ukip', 97), ('zlatan', 97), ('worry', 97), ('dylan', 97), ('dress', 96), ('ric', 96), ('rip', 96), ('fleetwood', 96), ('til', 96), ('allow', 96), ('riot', 96), ('medical', 96), ('theme', 96), ('dean', 96), ('leonard', 95), ('cohen', 95), ('norris', 95), ('xxl', 95), ('app', 95), ('arent', 95), ('version', 95), ('stupid', 95), ('marley', 95), ('receive', 95), ('fake', 95), ('io', 95), ('presidential', 94), ('ibm', 94), ('tune', 94), ('hr', 94), ('fox', 94), ('tgif', 94), ('others', 94), ('dinner', 94), ('seinfeld', 94), ('dogg', 94), ('fatty', 94), ('candidate', 94), ('federer', 94), ('hombre', 93), ('cristiano', 93), ('amazing', 93), ('box', 93), ('grayson', 93), ('loss', 93), ('18', 93), ('medicare', 93), ('fine', 93), ('main', 93), ('excited', 93), ('terrorist', 93), ('bear', 93), ('create', 92), ('ya', 92), ('classic', 92), ('body', 92), ('appear', 92), ('challenge', 92), ('protest', 92), ('fossil', 92), ('mention', 92), ('washington', 92), ('destroy', 91), ('course', 91), ('china', 91), ('cobain', 91), ('chicago', 91), ('step', 91), ('feb', 91), ('erdogan', 91), ('mon', 91), ('bentley', 91), ('strong', 91), ('email', 91), ('road', 91), ('online', 91), ('lmao', 91), ('meeting', 90), ('ashley', 90), ('monsanto', 90), ('carey', 90), ('east', 90), ('leftist', 90), ('immigration', 90), ('piece', 89), ('russia', 89), ('treat', 89), ('press', 89), ('short', 89), ('microsoft', 89), ('jayz', 89), ('age', 89), ('ricky', 89), ('glad', 88), ('ppl', 88), ('san', 88), ('annual', 88), ('page', 88), ('seriously', 88), ('imagine', 88), ('dark', 88), ('build', 88), ('embargo', 87), ('safe', 87), ('draw', 87), ('cy', 87), ('term', 87), ('mets', 87), ('seat', 86), ('dear', 86), ('government', 86), ('festival', 86), ('decision', 86), ('bag', 86), ('hole', 86), ('marine', 85), ('lion', 85), ('racist', 85), ('track', 85), ('graham', 85), ('entire', 85), ('19', 85), ('inside', 85), ('form', 85), ('bday', 84), ('attend', 84), ('blaine', 84), ('easy', 84), ('download', 84), ('pro', 84), ('style', 83), ('level', 83), ('yr', 83), ('sick', 83), ('dec', 83), ('victory', 83), ('vr', 83), ('feature', 83), ('security', 83), ('yo', 83), ('derby', 83), ('extra', 83), ('nation', 83), ('marijuana', 83), ('yankee', 83), ('knicks', 83), ('info', 83), ('al', 83), ('account', 83), ('can', 83), ('ambrose', 83), ('prepare', 82), ('sweet', 82), ('cancel', 82), ('alone', 82), ('etc', 82), ('fast', 82), ('possible', 82), ('coffee', 82), ('remind', 82), ('medicaid', 82), ('italy', 82), ('kevin', 81), ('south', 81), ('arrive', 81), ('art', 81), ('bannon', 81), ('sep', 81), ('channel', 81), ('land', 81), ('scene', 81), ('former', 80), ('fri', 80), ('guest', 80), ('screen', 80), ('rain', 80), ('system', 80), ('hello', 80), ('hat', 80), ('across', 79), ('bomb', 79), ('fail', 79), ('ufc', 79), ('queen', 79), ('original', 79), ('dc', 79), ('international', 79), ('comey', 79), ('pas', 78), ('26', 78), ('market', 78), ('stadium', 78), ('truth', 78), ('five', 78), ('texas', 77), ('respect', 77), ('network', 77), ('public', 77), ('ha', 77), ('rally', 77), ('direction', 77), ('hall', 77), ('liam', 77), ('jersey', 77), ('israel', 77), ('police', 76), ('kinda', 76), ('comment', 76), ('preview', 76), ('solo', 76), ('thanksgiving', 76), ('blow', 76), ('trade', 76), ('suppose', 76), ('ground', 76), ('accept', 76), ('defeat', 76), ('obamas', 75), ('experience', 75), ('rich', 75), ('venus', 75), ('vmas', 75), ('debut', 75), ('totally', 75), ('theatre', 75), ('ira', 75), ('detail', 74), ('notice', 74), ('absolutely', 74), ('topic', 74), ('low', 74), ('refugee', 74), ('bank', 74), ('source', 74), ('quarter', 73), ('nigeria', 73), ('large', 73), ('hurt', 73), ('maduro', 73), ('generation', 73), ('judge', 73), ('28', 73), ('fill', 73), ('lineup', 73), ('reuters', 72), ('complete', 72), ('premier', 72), ('honestly', 72), ('cost', 72), ('sense', 72), ('drink', 72), ('fantastic', 72), ('push', 72), ('hill', 72), ('attempt', 72), ('currently', 72), ('arm', 72), ('exactly', 72), ('bar', 72), ('bottom', 72), ('busy', 71), ('24th', 71), ('crash', 71), ('tribute', 71), ('31', 71), ('rumor', 71), ('england', 71), ('opinion', 71), ('shop', 71), ('bloody', 71), ('pack', 71), ('camp', 71), ('nigga', 71), ('mass', 71), ('likely', 71), ('lovely', 71), ('water', 71), ('deplorables', 71), ('thurs', 71), ('clear', 71), ('figure', 71), ('burn', 70), ('search', 70), ('anymore', 70), ('count', 70), ('cast', 70), ('compare', 70), ('deserve', 70), ('euthanasia', 70), ('prove', 70), ('artist', 69), ('cute', 69), ('florida', 69), ('student', 69), ('reach', 69), ('itll', 69), ('serious', 69), ('murder', 69), ('accord', 69), ('message', 69), ('not', 69), ('weve', 69), ('nyc', 69), ('alive', 69), ('india', 68), ('cold', 68), ('ride', 68), ('espn', 68), ('hasnt', 68), ('pray', 68), ('weird', 68), ('important', 68), ('pop', 68), ('bowie', 68), ('jong', 68), ('hero', 68), ('door', 68), ('iran', 67), ('27th', 67), ('idk', 67), ('floor', 67), ('remain', 67), ('quite', 67), ('transfer', 67), ('voter', 67), ('jordan', 67), ('community', 67), ('fear', 66), ('flight', 66), ('hair', 66), ('gea', 66), ('jr', 66), ('blog', 66), ('dm', 66), ('studio', 66), ('smile', 66), ('rather', 66), ('guide', 66), ('doubt', 66), ('small', 66), ('upset', 66), ('everybody', 66), ('anybody', 66), ('travel', 66), ('briana', 66), ('brexit', 65), ('android', 65), ('comedy', 65), ('grow', 65), ('youve', 65), ('tough', 65), ('miami', 65), ('22nd', 65), ('yakubs', 65), ('cnn', 65), ('political', 65), ('enter', 65), ('brilliant', 65), ('policy', 65), ('steelers', 65), ('nba', 65), ('france', 65), ('character', 65), ('carter', 64), ('forever', 64), ('trailer', 64), ('reveal', 64), ('sex', 64), ('mine', 64), ('defend', 64), ('evans', 64), ('english', 64), ('bro', 64), ('crisis', 64), ('position', 63), ('blame', 63), ('injury', 63), ('prayer', 63), ('planet', 63), ('replace', 63), ('isi', 63), ('facebook', 63), ('triple', 63), ('pc', 63), ('homer', 63), ('army', 63), ('choose', 63), ('houston', 63), ('area', 63), ('outside', 63), ('draft', 63), ('amy', 63), ('cheer', 62), ('dakota', 62), ('pipeline', 62), ('middle', 62), ('playing', 62), ('nick', 62), ('raise', 62), ('amateur', 62), ('min', 62), ('theater', 62), ('cuz', 62), ('contact', 62), ('homeopathy', 62), ('grand', 62), ('blast', 62), ('27', 62), ('29th', 61), ('hotel', 61), ('parent', 61), ('poor', 61), ('europe', 61), ('indian', 61), ('windows', 61), ('battle', 61), ('folk', 61), ('steal', 61), ('holy', 60), ('democrat', 60), ('upgrade', 60), ('gift', 60), ('central', 60), ('session', 60), ('davis', 60), ('internet', 60), ('edition', 60), ('mexico', 60), ('model', 60), ('conference', 60), ('lunch', 60), ('theres', 59), ('whatever', 59), ('jesus', 59), ('ban', 59), ('kenny', 59), ('target', 59), ('hes', 59), ('bye', 59), ('jet', 59), ('devil', 59), ('eu', 59), ('anti', 59), ('justice', 59), ('tax', 59), ('feeling', 59), ('invite', 59), ('cake', 59), ('cross', 59), ('protect', 59), ('lee', 59), ('mar', 58), ('towards', 58), ('thru', 58), ('elect', 58), ('religion', 58), ('hype', 58), ('golf', 58), ('officially', 58), ('printing', 58), ('local', 58), ('tues', 58), ('wild', 58), ('county', 58), ('29', 58), ('evil', 58), ('promise', 58), ('ship', 57), ('summerslam', 57), ('role', 57), ('project', 57), ('crush', 57), ('congrats', 57), ('chief', 57), ('26th', 57), ('28th', 57), ('image', 57), ('senior', 57), ('struggle', 57), ('barcelona', 57), ('carry', 57), ('crowd', 57), ('ash', 56), ('andre', 56), ('wisconsin', 56), ('fix', 56), ('touch', 56), ('key', 56), ('donut', 56), ('ring', 56), ('8pm', 56), ('turkey', 56), ('bid', 56), ('weather', 56), ('lucky', 55), ('pain', 55), ('ad', 55), ('muslims', 55), ('rbi', 55), ('idiot', 55), ('fracking', 55), ('island', 55), ('boys', 55), ('40', 55), ('warn', 55), ('lil', 55), ('howard', 55), ('captain', 55), ('supporter', 55), ('squad', 54), ('stick', 54), ('except', 54), ('spirit', 54), ('baseball', 54), ('reality', 54), ('refuse', 54), ('dj', 54), ('jump', 54), ('bus', 54), ('andy', 54), ('sky', 54), ('govt', 54), ('somebody', 54), ('threat', 54), ('marry', 54), ('tix', 53), ('tear', 53), ('file', 53), ('beer', 53), ('beast', 53), ('fit', 53), ('moon', 53), ('learning', 53), ('common', 53), ('explain', 53), ('tim', 53), ('knock', 53), ('fund', 53), ('print', 53), ('rank', 53), ('ireland', 53), ('announcement', 52), ('chinese', 52), ('mate', 52), ('youtube', 52), ('manchester', 52), ('champ', 52), ('lord', 52), ('outta', 52), ('7pm', 52), ('hahaha', 52), ('breakfast', 52), ('bond', 52), ('brand', 52), ('gig', 51), ('per', 51), ('spur', 51), ('tech', 51), ('anyway', 51), ('copy', 51), ('rugby', 51), ('minister', 51), ('teacher', 51), ('plane', 51), ('board', 51), ('em', 51), ('wtf', 51), ('difference', 51), ('whether', 51), ('bee', 51), ('quote', 51), ('headline', 51), ('toronto', 51), ('lay', 51), ('ohio', 51), ('alright', 51), ('celebration', 51), ('jon', 51), ('xx', 50), ('constitution', 50), ('31st', 50), ('website', 50), ('bang', 50), ('golden', 50), ('australia', 50), ('matt', 50), ('highlight', 50), ('ny', 50), ('unless', 50), ('success', 50), ('trial', 50), ('scream', 50), ('cruz', 50), ('clean', 50), ('concern', 50), ('legend', 50), ('coverage', 50), ('daniel', 50), ('smh', 50), ('upcoming', 50), ('piss', 50), ('pair', 50), ('da', 50), ('congress', 50), ('jose', 50), ('female', 49), ('cash', 49), ('cheap', 49), ('study', 49), ('memory', 49), ('jam', 49), ('btw', 49), ('blair', 49), ('wine', 49), ('honor', 49), ('repeat', 49), ('follower', 49), ('manslaughter', 49), ('ruin', 49), ('twice', 49), ('tournament', 49), ('penny', 49), ('focus', 49), ('among', 49), ('energy', 49), ('doctor', 49), ('father', 49), ('program', 48), ('secret', 48), ('nialls', 48), ('chesney', 48), ('worst', 48), ('cinema', 48), ('bat', 48), ('centre', 48), ('option', 48), ('text', 48), ('hart', 48), ('germany', 48), ('shall', 48), ('yea', 48), ('popular', 48), ('drug', 48), ('chill', 48), ('leg', 48), ('pls', 48), ('site', 48), ('terrible', 48), ('bell', 48), ('imma', 48), ('dana', 48), ('unite', 48), ('appearance', 48), ('shut', 48), ('opener', 48), ('th', 48), ('letter', 48), ('smart', 48), ('bout', 48), ('vega', 47), ('military', 47), ('roger', 47), ('out', 47), ('manager', 47), ('jim', 47), ('chart', 47), ('austin', 47), ('although', 47), ('russian', 47), ('fashion', 47), ('shin', 47), ('jongun', 47), ('deadline', 47), ('syria', 47), ('ceo', 47), ('self', 47), ('stock', 47), ('victim', 47), ('compton', 47), ('afraid', 47), ('nobody', 47), ('lakers', 47), ('linux', 47), ('rid', 47), ('yay', 47), ('especially', 47), ('catholic', 47), ('detroit', 46), ('load', 46), ('runner', 46), ('however', 46), ('talent', 46), ('tee', 46), ('education', 46), ('foot', 46), ('luke', 46), ('stewart', 46), ('response', 46), ('fool', 46), ('machine', 46), ('wonderful', 46), ('theyll', 46), ('ridiculous', 46), ('japan', 46), ('french', 46), ('camera', 46), ('health', 46), ('xd', 46), ('stoke', 46), ('ranger', 46), ('suggest', 46), ('vice', 46), ('border', 46), ('purchase', 46), ('admit', 46), ('promote', 46), ('aleppo', 46), ('feed', 46), ('freedom', 45), ('shame', 45), ('el', 45), ('space', 45), ('aka', 45), ('philly', 45), ('truly', 45), ('crack', 45), ('zayns', 45), ('kyle', 45), ('chat', 45), ('storm', 45), ('rooney', 45), ('appreciate', 45), ('skip', 45), ('rate', 45), ('slam', 45), ('jew', 45), ('fourth', 45), ('seek', 44), ('romney', 44), ('alabama', 44), ('60', 44), ('direct', 44), ('mix', 44), ('duke', 44), ('praise', 44), ('mess', 44), ('ima', 44), ('shine', 44), ('tip', 44), ('jeremy', 44), ('mistake', 44), ('cook', 44), ('obviously', 44), ('everton', 44), ('waste', 44), ('quick', 44), ('value', 44), ('driver', 44), ('mercy', 44), ('assist', 44), ('pakistan', 43), ('earlier', 43), ('arrest', 43), ('crime', 43), ('sheamus', 43), ('ghost', 43), ('excellent', 43), ('antitrump', 43), ('kentucky', 43), ('winter', 43), ('manage', 43), ('rumour', 43), ('bunch', 43), ('garden', 43), ('6pm', 43), ('stein', 43), ('six', 43), ('beauty', 43), ('fancy', 43), ('dumb', 43), ('mtv', 43), ('gt', 43), ('demand', 43), ('handle', 43), ('snap', 43), ('illegal', 43), ('pant', 43), ('mission', 43), ('patriot', 43), ('korea', 43), ('6s', 43), ('delay', 43), ('roman', 43), ('regard', 43), ('trust', 43), ('ace', 43), ('cat', 43), ('legal', 42), ('shore', 42), ('flag', 42), ('actual', 42), ('effort', 42), ('beyond', 42), ('user', 42), ('square', 42), ('declare', 42), ('ex', 42), ('pink', 42), ('statement', 42), ('evening', 42), ('gandhi', 42), ('bench', 42), ('data', 42), ('cloud', 42), ('credit', 42), ('sort', 42), ('university', 42), ('innocent', 42), ('advance', 42), ('jail', 42), ('excuse', 42), ('type', 42), ('tomorrows', 42), ('hollywood', 42), ('spread', 42), ('tire', 42), ('reign', 42), ('primary', 42), ('kiss', 42), ('bay', 42), ('jones', 42), ('sec', 42), ('playoff', 42), ('altrightists', 42), ('everyday', 41), ('dollar', 41), ('cousin', 41), ('daughter', 41), ('fat', 41), ('grant', 41), ('contest', 41), ('shock', 41), ('ignore', 41), ('pancake', 41), ('politics', 41), ('nearly', 41), ('canada', 41), ('vamp', 41), ('teach', 41), ('drake', 41), ('total', 41), ('product', 41), ('better', 41), ('despite', 41), ('contract', 41), ('harrison', 41), ('whoever', 41), ('current', 41), ('recount', 41), ('somewhere', 41), ('van', 41), ('possibly', 41), ('similar', 41), ('syrian', 41), ('lt3', 41), ('sir', 41), ('defense', 41), ('hed', 41), ('device', 41), ('arena', 41), ('foreign', 41), ('design', 41), ('husband', 41), ('rob', 41), ('request', 41), ('freak', 41), ('brain', 40), ('rating', 40), ('promo', 40), ('ten', 40), ('berto', 40), ('smoke', 40), ('several', 40), ('attention', 40), ('reject', 40), ('cowboy', 40), ('odds', 40), ('factor', 40), ('ronda', 40), ('map', 40), ('earn', 40), ('fell', 40), ('mother', 40), ('fb', 40), ('pageant', 40), ('co', 40), ('twin', 40), ('swear', 40), ('pitcher', 40), ('liverpool', 40), ('shell', 40), ('lyric', 40), ('river', 40), ('shout', 40), ('grey', 40), ('allstar', 39), ('confuse', 39), ('hilarious', 39), ('sexy', 39), ('striker', 39), ('iii', 39), ('elvis', 39), ('scotland', 39), ('africa', 39), ('grader', 39), ('union', 39), ('pa', 39), ('premiere', 39), ('journey', 39), ('oil', 39), ('raider', 39), ('trick', 39), ('max', 39), ('epic', 39), ('grab', 39), ('utd', 39), ('alex', 39), ('raven', 39), ('richard', 39), ('discover', 39), ('longer', 39), ('cabinet', 38), ('gary', 38), ('donate', 38), ('cd', 38), ('emily', 38), ('500', 38), ('speed', 38), ('register', 38), ('labour', 38), ('1d', 38), ('reminder', 38), ('sometimes', 38), ('improve', 38), ('sanchez', 38), ('weeknd', 38), ('staff', 38), ('address', 38), ('violence', 38), ('convince', 38), ('rd', 38), ('adam', 38), ('table', 38), ('abt', 38), ('marvel', 38), ('deny', 38), ('reading', 38), ('newcastle', 38), ('charles', 38), ('dangerous', 38), ('crap', 38), ('iowa', 38), ('california', 38), ('effect', 38), ('era', 38), ('2013', 38), ('bright', 38), ('own', 37), ('mail', 37), ('honest', 37), ('phillies', 37), ('yep', 37), ('general', 37), ('incredible', 37), ('apply', 37), ('warm', 37), ('decent', 37), ('smash', 37), ('eastern', 37), ('interesting', 37), ('rom', 37), ('net', 37), ('andrew', 37), ('independence', 37), ('pump', 37), ('guardian', 37), ('congratulation', 37), ('wit', 37), ('reaction', 37), ('lack', 37), ('youd', 37), ('shift', 37), ('candy', 37), ('brooklyn', 37), ('bridge', 37), ('cole', 37), ('deliver', 37), ('spent', 37), ('favourite', 37), ('dave', 37), ('fam', 37), ('singer', 37), ('regret', 37), ('citizen', 37), ('rookie', 37), ('bruce', 37), ('trail', 37), ('wing', 37), ('upon', 37), ('kelly', 37), ('trash', 36), ('msg', 36), ('exist', 36), ('awful', 36), ('involve', 36), ('express', 36), ('code', 36), ('workshop', 36), ('recall', 36), ('completely', 36), ('ft', 36), ('size', 36), ('jazz', 36), ('suffer', 36), ('altright', 36), ('global', 36), ('greek', 36), ('midnight', 36), ('af', 36), ('period', 36), ('spain', 36), ('broadcast', 36), ('mobile', 36), ('port', 36), ('tate', 36), ('competition', 36), ('goin', 36), ('9pm', 36), ('playstation', 36), ('owner', 36), ('pretend', 36), ('governor', 36), ('los', 36), ('apart', 36), ('tbh', 36), ('fresh', 36), ('theresa', 36), ('pumpkin', 36), ('normal', 36), ('aid', 36), ('mouth', 36), ('gaga', 36), ('felt', 35), ('training', 35), ('recent', 35), ('globe', 35), ('angel', 35), ('rush', 35), ('liar', 35), ('conflict', 35), ('religious', 35), ('bird', 35), ('item', 35), ('emotional', 35), ('lake', 35), ('fbi', 35), ('ugly', 35), ('agent', 35), ('morgan', 35), ('ultimate', 35), ('mlb', 35), ('qb', 35), ('gym', 35), ('brit', 35), ('belt', 35), ('plenty', 35), ('knee', 35), ('trouble', 35), ('offensive', 35), ('inspire', 35), ('basically', 35), ('heres', 35), ('hook', 35), ('orange', 35), ('abc', 35), ('loud', 35), ('supply', 35), ('vita', 35), ('lift', 35), ('yard', 34), ('lock', 34), ('ep', 34), ('glass', 34), ('magazine', 34), ('sm', 34), ('commercial', 34), ('aim', 34), ('opponent', 34), ('avoid', 34), ('extend', 34), ('ah', 34), ('preseason', 34), ('costume', 34), ('within', 34), ('billy', 34), ('egypt', 34), ('argue', 34), ('personal', 34), ('jeff', 34), ('rap', 34), ('fav', 34), ('benefit', 34), ('section', 34), ('harvey', 34), ('apologize', 34), ('directioners', 34), ('bullshit', 34), ('screw', 34), ('dvd', 34), ('chicken', 34), ('goodnight', 34), ('politician', 34), ('mall', 34), ('wave', 34), ('holm', 33), ('actor', 33), ('appeal', 33), ('walkoff', 33), ('spanish', 33), ('spending', 33), ('petition', 33), ('bieber', 33), ('risk', 33), ('pat', 33), ('correct', 33), ('watching', 33), ('root', 33), ('soldier', 33), ('boston', 33), ('hide', 33), ('jill', 33), ('minaj', 33), ('worldwide', 33), ('nigerian', 33), ('shouldnt', 33), ('click', 33), ('bale', 33), ('quality', 33), ('color', 33), ('poster', 33), ('rapper', 33), ('limit', 33), ('chair', 33), ('conversation', 33), ('impossible', 33), ('jean', 33), ('nazi', 33), ('cbs', 33), ('noon', 33), ('francis', 33), ('happiness', 33), ('building', 32), ('prison', 32), ('tea', 32), ('bos', 32), ('nose', 32), ('lmfao', 32), ('75', 32), ('gate', 32), ('nd', 32), ('slow', 32), ('perhaps', 32), ('overall', 32), ('crew', 32), ('argument', 32), ('2011', 32), ('boyfriend', 32), ('clash', 32), ('snow', 32), ('capital', 32), ('mi', 32), ('process', 32), ('drag', 32), ('ugh', 32), ('civil', 32), ('airport', 32), ('grace', 32), ('cop', 32), ('fellow', 32), ('juice', 32), ('retweet', 32), ('carpet', 32), ('cancer', 32), ('director', 32), ('increase', 32), ('annoy', 32), ('thankful', 32), ('nc', 32), ('worse', 32), ('wind', 32), ('schumer', 32), ('soccer', 32), ('everywhere', 32), ('scar', 32), ('movement', 32), ('gain', 31), ('village', 31), ('heavy', 31), ('introduce', 31), ('madison', 31), ('boo', 31), ('joseph', 31), ('b4', 31), ('majority', 31), ('leak', 31), ('broken', 31), ('fest', 31), ('whos', 31), ('saudi', 31), ('drama', 31), ('italian', 31), ('realise', 31), ('favor', 31), ('supreme', 31), ('gee', 31), ('flip', 31), ('exclusive', 31), ('recently', 31), ('unveil', 31), ('economy', 31), ('hire', 31), ('living', 31), ('master', 31), ('corner', 31), ('quit', 31), ('hd', 31), ('valley', 31), ('division', 31), ('shake', 31), ('pressure', 31), ('kirk', 31), ('cowboys', 31), ('library', 31), ('finger', 31), ('willing', 31), ('nickis', 31), ('63', 31), ('fee', 31), ('impact', 31), ('grammy', 31), ('nite', 31), ('jimmy', 31), ('tampa', 31), ('nah', 31), ('200', 31), ('saint', 31), ('opportunity', 31), ('45', 31), ('avril', 30), ('rudd', 30), ('singapore', 30), ('irish', 30), ('provide', 30), ('5pm', 30), ('onto', 30), ('oppose', 30), ('ass', 30), ('remove', 30), ('ray', 30), ('disgust', 30), ('birdie', 30), ('danny', 30), ('vancouver', 30), ('born', 30), ('software', 30), ('mood', 30), ('aaron', 30), ('mum', 30), ('script', 30), ('730', 30), ('potential', 30), ('console', 30), ('palestinian', 30), ('marathon', 30), ('honey', 30), ('10am', 30), ('station', 30), ('mitt', 30), ('wedding', 30), ('pizza', 30), ('chase', 30), ('tryna', 30), ('clip', 30), ('research', 30), ('angeles', 30), ('swing', 30), ('natural', 30), ('solid', 30), ('hopeful', 30), ('toy', 30), ('faith', 30), ('2020', 30), ('evidence', 30), ('fm', 30), ('discuss', 30), ('bias', 29), ('lesson', 29), ('pool', 29), ('northern', 29), ('taste', 29), ('false', 29), ('error', 29), ('somehow', 29), ('drunk', 29), ('potus', 29), ('musical', 29), ('wrestle', 29), ('legendary', 29), ('regular', 29), ('zone', 29), ('lewis', 29), ('rahul', 29), ('wrap', 29), ('canadian', 29), ('simply', 29), ('wo', 29), ('bull', 29), ('respond', 29), ('collection', 29), ('amanda', 29), ('bash', 29), ('insane', 29), ('33', 29), ('forgot', 29), ('relate', 29), ('voting', 29), ('lane', 29), ('ross', 29), ('itunes', 29), ('path', 29), ('rn', 29), ('clearly', 29), ('mariner', 29), ('2017', 29), ('wayne', 29), ('heaven', 29), ('td', 29), ('retweeted', 29), ('vampire', 29), ('bolton', 29), ('criminal', 29), ('boot', 29), ('plant', 29), ('certainly', 28), ('dublin', 28), ('ca', 28), ('sentence', 28), ('friends', 28), ('documentary', 28), ('silva', 28), ('example', 28), ('tennis', 28), ('idc', 28), ('mile', 28), ('prefer', 28), ('recommend', 28), ('top20', 28), ('usually', 28), ('disagree', 28), ('finale', 28), ('fifa', 28), ('presidency', 28), ('prize', 28), ('district', 28), ('guarantee', 28), ('otherwise', 28), ('survive', 28), ('weekly', 28), ('famous', 28), ('jennifer', 28), ('situation', 28), ('qualify', 28), ('suit', 28), ('upload', 28), ('instagram', 28), ('delivery', 28), ('wichita', 28), ('mt', 28), ('pga', 28), ('society', 28), ('greet', 28), ('rodgers', 28), ('kendrick', 28), ('discus', 28), ('calendar', 28), ('aldo', 28), ('2014', 28), ('secretary', 28), ('sin', 28), ('ii', 28), ('tanzania', 28), ('advantage', 28), ('european', 28), ('quiet', 28), ('cont', 28), ('greensboro', 28), ('reply', 28), ('complain', 28), ('disney', 28), ('punch', 28), ('horrible', 28), ('charity', 28), ('10pm', 28), ('prediction', 28), ('sa', 28), ('cc', 28), ('thy', 28), ('70', 28), ('spoiler', 28), ('math', 28), ('revolution', 28), ('diary', 28), ('buzz', 27), ('budget', 27), ('philippine', 27), ('mostly', 27), ('mary', 27), ('unfortunately', 27), ('rumble', 27), ('barack', 27), ('hip', 27), ('theyve', 27), ('wrestler', 27), ('gear', 27), ('bump', 27), ('dick', 27), ('surely', 27), ('sandy', 27), ('mp', 27), ('apology', 27), ('massive', 27), ('chocolate', 27), ('tag', 27), ('celtic', 27), ('resume', 27), ('legacy', 27), ('male', 27), ('kitchen', 27), ('computer', 27), ('oscar', 27), ('mumbai', 27), ('shopping', 27), ('trayvon', 27), ('djokovic', 27), ('shouldve', 27), ('elite', 27), ('streak', 27), ('eli', 27), ('pr', 27), ('beatles', 27), ('sundays', 27), ('santos', 27), ('niggas', 27), ('server', 27), ('universe', 27), ('display', 27), ('consecutive', 27), ('boom', 27), ('amount', 27), ('sponsor', 27), ('thinking', 27), ('blind', 27), ('si', 27), ('verse', 27), ('agreement', 27), ('bore', 27), ('islamic', 26), ('suspect', 26), ('private', 26), ('joy', 26), ('sprint', 26), ('slide', 26), ('equal', 26), ('britain', 26), ('civilian', 26), ('ellen', 26), ('scary', 26), ('con', 26), ('scandal', 26), ('cyborg', 26), ('twilight', 26), ('sc', 26), ('playlist', 26), ('rep', 26), ('skin', 26), ('castle', 26), ('beyonces', 26), ('wash', 26), ('greece', 26), ('zombie', 26), ('fantasy', 26), ('32', 26), ('mini', 26), ('silent', 26), ('culture', 26), ('noel', 26), ('pose', 26), ('angry', 26), ('spieth', 26), ('shade', 26), ('authority', 26), ('apps', 26), ('suspend', 26), ('active', 26), ('obsess', 26), ('fully', 26), ('p', 26), ('anywhere', 26), ('development', 26), ('lawyer', 26), ('usual', 26), ('murphy', 26), ('israeli', 26), ('tree', 26), ('steven', 26), ('sneak', 26), ('partner', 26), ('theory', 26), ('smell', 26), ('australian', 26), ('pt', 26), ('ali', 26), ('lounge', 26), ('et', 26), ('thine', 26), ('reform', 26), ('fucking', 26), ('lamar', 26), ('nail', 26), ('roast', 26), ('buddy', 26), ('fry', 26), ('90s', 26), ('reduce', 26), ('restaurant', 26), ('route', 26), ('republic', 26), ('economic', 26), ('gas', 26), ('sight', 26), ('outfit', 26), ('horse', 25), ('bother', 25), ('35', 25), ('degree', 25), ('seed', 25), ('william', 25), ('brazil', 25), ('investigate', 25), ('modern', 25), ('random', 25), ('stats', 25), ('def', 25), ('victor', 25), ('11am', 25), ('dexter', 25), ('simple', 25), ('pub', 25), ('aware', 25), ('plate', 25), ('weed', 25), ('1pm', 25), ('9am', 25), ('none', 25), ('bible', 25), ('nasty', 25), ('settle', 25), ('asleep', 25), ('dirty', 25), ('homework', 25), ('adidas', 25), ('comic', 25), ('nope', 25), ('1000', 25), ('tyler', 25), ('escape', 25), ('80s', 25), ('psg', 25), ('s6', 25), ('heck', 25), ('youth', 25), ('fault', 25), ('kanes', 25), ('meme', 25), ('hockey', 25), ('german', 25), ('personally', 25), ('seven', 25), ('fuckin', 25), ('m', 25), ('throwback', 25), ('girlfriend', 25), ('pre', 25), ('cap', 25), ('information', 25), ('democratic', 25), ('vp', 25), ('publish', 25), ('fenway', 25), ('rider', 25), ('anatomy', 25), ('immigrant', 25), ('federal', 25), ('ko', 25), ('indeed', 25), ('cricket', 25), ('cuban', 25), ('asap', 25), ('feud', 25), ('milton', 25), ('weight', 25), ('anthony', 25), ('exit', 25), ('seal', 25), ('flop', 25), ('lit', 25), ('laptop', 25), ('guitar', 24), ('told', 24), ('exchange', 24), ('senate', 24), ('mnf', 24), ('delicious', 24), ('backstage', 24), ('customer', 24), ('bryants', 24), ('del', 24), ('shoe', 24), ('bottle', 24), ('truck', 24), ('keith', 24), ('vow', 24), ('gamble', 24), ('paint', 24), ('mikel', 24), ('stress', 24), ('est', 24), ('flat', 24), ('3pm', 24), ('nebraska', 24), ('pres', 24), ('dig', 24), ('swap', 24), ('knox', 24), ('rival', 24), ('entertainment', 24), ('easily', 24), ('dictator', 24), ('foam', 24), ('cleveland', 24), ('360', 24), ('agenda', 24), ('vegas', 24), ('auburn', 24), ('inter', 24), ('bama', 24), ('cheat', 24), ('tank', 24), ('boehner', 24), ('starter', 24), ('plot', 24), ('pregnant', 24), ('fame', 24), ('adult', 24), ('opening', 24), ('meek', 24), ('skill', 24), ('keynes', 24), ('qtr', 24), ('soooo', 24), ('exam', 24), ('predict', 24), ('51', 24), ('funeral', 24), ('assume', 24), ('switch', 24), ('audience', 23), ('en', 23), ('pal', 23), ('destination', 23), ('robert', 23), ('tonite', 23), ('margarita', 23), ('independent', 23), ('fa', 23), ('dawn', 23), ('regime', 23), ('directly', 23), ('metal', 23), ('eng', 23), ('sub', 23), ('approve', 23), ('mario', 23), ('64', 23), ('presley', 23), ('relationship', 23), ('appoint', 23), ('soundtrack', 23), ('weak', 23), ('99', 23), ('loan', 23), ('propose', 23), ('grammys', 23), ('butt', 23), ('souls', 23), ('lp', 23), ('jealous', 23), ('peter', 23), ('amend', 23), ('terry', 23), ('ceremony', 23), ('western', 23), ('basketball', 23), ('neighborhood', 23), ('produce', 23), ('fish', 23), ('alot', 23), ('superbowl', 23), ('proof', 23), ('mockingbird', 23), ('mlk', 23), ('decade', 23), ('growth', 23), ('propaganda', 23), ('wrestlemania', 23), ('neighbor', 23), ('jerry', 23), ('84', 23), ('motorola', 23), ('nut', 23), ('protection', 23), ('villa', 23), ('mvp', 23), ('left', 23), ('630', 23), ('colt', 23), ('hurricane', 23), ('location', 23), ('christians', 23), ('novel', 23), ('drinking', 23), ('panda', 23), ('solution', 23), ('boxer', 23), ('georgia', 23), ('versus', 23), ('split', 23), ('council', 23), ('connect', 23), ('charger', 23), ('killer', 23), ('spin', 23), ('collapse', 23), ('bayern', 23), ('rebel', 23), ('friendly', 23), ('bike', 23), ('nomination', 22), ('holly', 22), ('moron', 22), ('rant', 22), ('smartphone', 22), ('depend', 22), ('wikileaks', 22), ('donation', 22), ('sigh', 22), ('damage', 22), ('negative', 22), ('achieve', 22), ('academy', 22), ('knew', 22), ('convert', 22), ('uncle', 22), ('rodeo', 22), ('brian', 22), ('ton', 22), ('nuclear', 22), ('range', 22), ('lazy', 22), ('hearing', 22), ('hundred', 22), ('nuit', 22), ('blanche', 22), ('combine', 22), ('equality', 22), ('reference', 22), ('diego', 22), ('retire', 22), ('select', 22), ('ham', 22), ('announces', 22), ('parker', 22), ('stephen', 22), ('athlete', 22), ('cure', 22), ('weapon', 22), ('hug', 22), ('rare', 22), ('s', 22), ('swamp', 22), ('amsterdam', 22), ('gorgeous', 22), ('denver', 22), ('thousand', 22), ('2pm', 22), ('stretch', 22), ('buck', 22), ('pit', 22), ('aw', 22), ('terror', 22), ('christ', 22), ('meal', 22), ('ps3', 22), ('wreck', 22), ('radical', 22), ('franchise', 22), ('euro', 22), ('represent', 22), ('thunder', 22), ('bogey', 22), ('highly', 22), ('lad', 22), ('officer', 22), ('vine', 22), ('awareness', 22), ('reserve', 22), ('corbyn', 22), ('mick', 22), ('zero', 22), ('alt', 22), ('melanias', 22), ('certain', 22), ('par', 22), ('legit', 22), ('operation', 22), ('disappoint', 22), ('joint', 22), ('activist', 22), ('background', 22), ('atl', 22), ('spectre', 22), ('venue', 22), ('hmm', 22), ('delete', 22), ('dope', 22), ('profile', 22), ('language', 22), ('asia', 22), ('column', 22), ('rouseys', 22), ('flash', 22), ('dem', 22), ('blank', 22), ('excitement', 22), ('choke', 22), ('commit', 22), ('expose', 22), ('accident', 22), ('fyi', 22), ('license', 22), ('everyones', 22), ('shadow', 21), ('brewer', 21), ('kardashian', 21), ('abuse', 21), ('52', 21), ('chamber', 21), ('christianity', 21), ('organization', 21), ('sookie', 21), ('christie', 21), ('rape', 21), ('assault', 21), ('prob', 21), ('physic', 21), ('fl', 21), ('scoop', 21), ('often', 21), ('edit', 21), ('nine', 21), ('zimmerman', 21), ('anarchy', 21), ('militant', 21), ('wh', 21), ('selection', 21), ('secure', 21), ('comeback', 21), ('relevant', 21), ('forgive', 21), ('racism', 21), ('rocket', 21), ('strategy', 21), ('dump', 21), ('54', 21), ('recognize', 21), ('monster', 21), ('healthy', 21), ('preorder', 21), ('tennessee', 21), ('absolute', 21), ('bachelor', 21), ('treatment', 21), ('volleyball', 21), ('mic', 21), ('felicia', 21), ('harris', 21), ('childrens', 21), ('sunderland', 21), ('coz', 21), ('hurry', 21), ('mccarthy', 21), ('web', 21), ('accuse', 21), ('minority', 21), ('robertson', 21), ('content', 21), ('expert', 21), ('birth', 21), ('90', 21), ('feat', 21), ('activity', 21), ('lover', 21), ('bullet', 21), ('label', 21), ('patient', 21), ('vitali', 21), ('industry', 21), ('neymar', 21), ('bjp', 21), ('disappointed', 21), ('nz', 21), ('successful', 21), ('rat', 21), ('desire', 21), ('responsible', 21), ('leadership', 21), ('luther', 21), ('meant', 21), ('santorum', 21), ('tape', 21), ('downtown', 21), ('exhibition', 21), ('merlin', 21), ('threaten', 21), ('atlanta', 21), ('bonus', 21), ('cell', 21), ('nl', 21), ('relax', 21), ('referendum', 21), ('pj', 21), ('alien', 21), ('previous', 21), ('sue', 21), ('rocky', 21), ('tried', 21), ('iraqi', 21), ('ape', 21), ('droid', 21), ('katie', 21), ('crown', 21), ('signing', 21), ('mohamed', 21), ('reader', 20), ('300', 20), ('mound', 20), ('guard', 20), ('strength', 20), ('influence', 20), ('thrill', 20), ('platform', 20), ('flee', 20), ('mayor', 20), ('deck', 20), ('bradley', 20), ('replay', 20), ('junior', 20), ('pin', 20), ('suspension', 20), ('400', 20), ('phase', 20), ('coast', 20), ('ct', 20), ('nj', 20), ('reporter', 20), ('hank', 20), ('mitch', 20), ('warren', 20), ('vip', 20), ('genius', 20), ('tshirt', 20), ('wi', 20), ('deserves', 20), ('61', 20), ('troll', 20), ('refer', 20), ('statue', 20), ('um', 20), ('skype', 20), ('kit', 20), ('il', 20), ('aj', 20), ('gunna', 20), ('thin', 20), ('trap', 20), ('traffic', 20), ('madness', 20), ('heavyweight', 20), ('discussion', 20), ('dickens', 20), ('80', 20), ('digital', 20), ('raleigh', 20), ('tottenham', 20), ('baltimore', 20), ('obvious', 20), ('falcon', 20), ('jess', 20), ('melissa', 20), ('professor', 20), ('wide', 20), ('lorax', 20), ('vacation', 20), ('tight', 20), ('41', 20), ('mexican', 20), ('lloyd', 20), ('worship', 20), ('todd', 20), ('nervous', 20), ('calm', 20), ('02', 20), ('cheese', 20), ('shield', 20), ('icymi', 20), ('hangout', 20), ('klitschko', 20), ('tina', 20), ('stan', 20), ('blake', 20), ('tap', 20), ('troy', 20), ('balance', 20), ('gonzaga', 20), ('science', 20), ('reportedly', 20), ('sadly', 20), ('denzel', 20), ('approach', 20), ('progress', 20), ('chapter', 20), ('boruto', 20), ('jonathan', 20), ('bug', 20), ('factory', 20), ('require', 20), ('belief', 20), ('duty', 20), ('painter', 20), ('anthem', 20), ('powerful', 20), ('roof', 20), ('ab', 20), ('plz', 20), ('greatest', 20), ('nova', 20), ('firework', 20), ('videos', 20), ('sean', 20), ('century', 20), ('verlander', 20), ('desperate', 20), ('connection', 20), ('42', 20), ('trophy', 20), ('sent', 20), ('superstar', 19), ('remix', 19), ('carling', 19), ('cate', 19), ('hows', 19), ('gilmore', 19), ('odd', 19), ('seattle', 19), ('condemn', 19), ('sock', 19), ('patrick', 19), ('affect', 19), ('vision', 19), ('bite', 19), ('memorial', 19), ('iraq', 19), ('fraud', 19), ('non', 19), ('injure', 19), ('sea', 19), ('theyd', 19), ('mill', 19), ('ignorant', 19), ('hood', 19), ('swansea', 19), ('arabia', 19), ('skate', 19), ('democracy', 19), ('taco', 19), ('brook', 19), ('alert', 19), ('idol', 19), ('valor', 19), ('infinite', 19), ('buying', 19), ('athens', 19), ('peak', 19), ('lumia', 19), ('executive', 19), ('harden', 19), ('shed', 19), ('senator', 19), ('1030', 19), ('aussie', 19), ('hahahaha', 19), ('robbie', 19), ('fort', 19), ('princess', 19), ('fever', 19), ('leo', 19), ('lobby', 19), ('34', 19), ('vid', 19), ('mid', 19), ('kremlin', 19), ('climate', 19), ('camila', 19), ('priority', 19), ('uh', 19), ('forest', 19), ('aside', 19), ('cundiff', 19), ('jake', 19), ('62', 19), ('pledge', 19), ('spark', 19), ('intend', 19), ('sf', 19), ('delhi', 19), ('xi', 19), ('winans', 19), ('pavol', 19), ('besides', 19), ('wheres', 19), ('mo', 19), ('nbc', 19), ('controversy', 19), ('maria', 19), ('hunt', 19), ('dan', 19), ('fey', 19), ('liberty', 19), ('thatll', 19), ('eliminate', 19), ('gather', 19), ('consumer', 19), ('knowledge', 19), ('nugget', 19), ('basket', 19), ('jungle', 19), ('silence', 19), ('dre', 19), ('deus', 19), ('kung', 19), ('fu', 19), ('booth', 19), ('jacob', 19), ('tower', 19), ('exact', 19), ('mental', 19), ('loser', 19), ('founder', 19), ('dare', 19), ('dwts', 19), ('dominate', 19), ('scout', 19), ('flow', 19), ('migrant', 19), ('warrior', 19), ('colbert', 19), ('dry', 19), ('liga', 19), ('mysterious', 19), ('bionic', 19), ('dis', 19), ('mma', 19), ('taker', 19), ('romeo', 19), ('pacific', 19), ('writer', 19), ('ios', 19), ('stack', 19), ('hmu', 19), ('expo', 18), ('related', 18), ('raid', 18), ('failure', 18), ('chad', 18), ('difficult', 18), ('couch', 18), ('tonga', 18), ('develop', 18), ('billion', 18), ('khan', 18), ('asshole', 18), ('hitter', 18), ('slot', 18), ('bow', 18), ('regardless', 18), ('appointment', 18), ('inform', 18), ('911', 18), ('violate', 18), ('pst', 18), ('ai', 18), ('cl', 18), ('2008', 18), ('farm', 18), ('snake', 18), ('inc', 18), ('shark', 18), ('slip', 18), ('loose', 18), ('profit', 18), ('imo', 18), ('yell', 18), ('patch', 18), ('fatal', 18), ('tha', 18), ('urge', 18), ('temple', 18), ('terrorism', 18), ('ako', 18), ('native', 18), ('sack', 18), ('offense', 18), ('jerusalem', 18), ('package', 18), ('reveals', 18), ('tattoo', 18), ('suddenly', 18), ('goodbye', 18), ('korean', 18), ('tide', 18), ('hindu', 18), ('bruh', 18), ('advice', 18), ('throughout', 18), ('prospect', 18), ('iv', 18), ('awkward', 18), ('ac', 18), ('matchup', 18), ('committee', 18), ('indiana', 18), ('bangladesh', 18), ('fandom', 18), ('pace', 18), ('entry', 18), ('argentina', 18), ('psn', 18), ('curse', 18), ('hint', 18), ('fifth', 18), ('afford', 18), ('yrs', 18), ('wrestling', 18), ('hater', 18), ('nominee', 18), ('knight', 18), ('alarm', 18), ('lamb', 18), ('mint', 18), ('pure', 18), ('participate', 18), ('hokage', 18), ('endorse', 18), ('wouldve', 18), ('whip', 18), ('typical', 18), ('triangle', 18), ('clemson', 18), ('fx', 18), ('johnny', 18), ('mainstream', 18), ('whilst', 18), ('afc', 18), ('meanwhile', 18), ('corruption', 18), ('wrigley', 18), ('tumblr', 18), ('beef', 18), ('u2s', 18), ('inbetweeners', 18), ('mourinho', 18), ('funding', 18), ('technology', 18), ('ate', 18), ('92', 18), ('huntsman', 18), ('vehicle', 18), ('suicide', 18), ('az', 18), ('55', 18), ('morsi', 18), ('ian', 17), ('caught', 17), ('presentation', 17), ('wanted', 17), ('guilty', 17), ('mommy', 17), ('woo', 17), ('tease', 17), ('brief', 17), ('tired', 17), ('antonio', 17), ('surge', 17), ('hack', 17), ('suggestion', 17), ('phil', 17), ('bryan', 17), ('shower', 17), ('mubarak', 17), ('describe', 17), ('programme', 17), ('larry', 17), ('inch', 17), ('belgium', 17), ('frame', 17), ('turkish', 17), ('accessory', 17), ('multiple', 17), ('n9', 17), ('thomas', 17), ('twist', 17), ('african', 17), ('santa', 17), ('intro', 17), ('fascist', 17), ('boise', 17), ('minnesota', 17), ('taiwan', 17), ('boss', 17), ('hrc', 17), ('bcs', 17), ('reward', 17), ('trumps', 17), ('diamond', 17), ('sandwich', 17), ('hospital', 17), ('kate', 17), ('explode', 17), ('dahlia', 17), ('mighty', 17), ('mk', 17), ('shape', 17), ('ford', 17), ('daddy', 17), ('collect', 17), ('buffalo', 17), ('rematch', 17), ('chester', 17), ('chip', 17), ('pittsburgh', 17), ('reporting', 17), ('pleasure', 17), ('gordon', 17), ('85', 17), ('advise', 17), ('essay', 17), ('sang', 17), ('silly', 17), ('battery', 17), ('pocket', 17), ('sooo', 17), ('sob', 17), ('pathetic', 17), ('cam', 17), ('deport', 17), ('cafe', 17), ('clue', 17), ('babe', 17), ('plaza', 17), ('gagner', 17), ('brace', 17), ('strange', 17), ('53', 17), ('troop', 17), ('goat', 17), ('okami', 17), ('speaking', 17), ('yup', 17), ('unlike', 17), ('deed', 17), ('itd', 17), ('stole', 17), ('newspaper', 17), ('clothes', 17), ('bust', 17), ('monument', 17), ('material', 17), ('hawk', 17), ('worker', 17), ('niner', 17), ('strip', 17), ('clerk', 17), ('rehab', 17), ('cent', 17), ('nationalist', 17), ('relation', 17), ('cenas', 17), ('lawn', 17), ('hammond', 17), ('jewish', 17), ('7am', 17), ('department', 17), ('keynote', 17), ('louisiana', 17), ('cubs', 17), ('anyways', 17), ('addition', 17), ('humanity', 17), ('8am', 17), ('compete', 17), ('wizard', 17), ('touchdown', 17), ('wyatt', 17), ('freeze', 17), ('lower', 17), ('spring', 17), ('sen', 17), ('violent', 17), ('opposite', 17), ('chanel', 17), ('controller', 17), ('stuck', 17), ('anonymous', 17), ('hail', 17), ('soo', 17), ('panel', 17), ('corrupt', 17), ('packer', 17), ('ap', 17), ('blanchett', 17), ('rio', 17), ('rb', 17), ('ps', 17), ('530', 17), ('mta', 17), ('shitty', 17), ('disgrace', 16), ('anime', 16), ('maker', 16), ('defensive', 16), ('palace', 16), ('65', 16), ('immediately', 16), ('possibility', 16), ('entertain', 16), ('hoverboard', 16), ('4pm', 16), ('tx', 16), ('dragon', 16), ('embarrass', 16), ('lebron', 16), ('se', 16), ('malik', 16), ('ss', 16), ('hitler', 16), ('prep', 16), ('glorious', 16), ('strawberry', 16), ('slightly', 16), ('quarterback', 16), ('flynn', 16), ('muhammad', 16), ('await', 16), ('agency', 16), ('calgary', 16), ('cartoon', 16), ('mama', 16), ('beta', 16), ('supremacist', 16), ('badly', 16), ('client', 16), ('stamp', 16), ('impressive', 16), ('edgar', 16), ('ashamed', 16), ('insult', 16), ('divine', 16), ('lsu', 16), ('clock', 16), ('java', 16), ('tl', 16), ('charlotte', 16), ('ameen', 16), ('nikki', 16), ('average', 16), ('transition', 16), ('enemy', 16), ('debt', 16), ('confidence', 16), ('lucie', 16), ('cyrus', 16), ('nadal', 16), ('las', 16), ('ffs', 16), ('witness', 16), ('maryland', 16), ('surprised', 16), ('discount', 16), ('fundraiser', 16), ('slap', 16), ('preach', 16), ('di', 16), ('expectation', 16), ('vernau', 16), ('solar', 16), ('divorce', 16), ('dedicate', 16), ('experiment', 16), ('frankie', 16), ('chancellor', 16), ('mob', 16), ('hw', 16), ('convict', 16), ('arizona', 16), ('irony', 16), ('lucas', 16), ('tiebreak', 16), ('herald', 16), ('ant', 16), ('cable', 16), ('nfc', 16), ('lately', 16), ('foul', 16), ('piper', 16), ('comfortable', 16), ('2d', 16), ('wale', 16), ('mcdonalds', 16), ('editor', 16), ('limited', 16), ('belong', 16), ('reid', 16), ('shipping', 16), ('diva', 16), ('fran', 16), ('lolla', 16), ('bucket', 16), ('suarez', 16), ('eh', 16), ('wise', 16), ('rent', 16), ('grohl', 16), ('ron', 16), ('sum', 16), ('comparison', 16), ('tackle', 16), ('sugar', 16), ('scum', 16), ('speaker', 16), ('ppv', 16), ('insider', 16), ('ians', 16), ('critical', 16), ('barely', 16), ('leaf', 16), ('attitude', 16), ('salt', 16), ('43', 16), ('ruling', 16), ('engage', 16), ('00', 16), ('semifinal', 16), ('midfielder', 16), ('audio', 16), ('echo', 16), ('dl', 16), ('gore', 16), ('sore', 16), ('billboard', 16), ('nominate', 16), ('wipe', 16), ('aladdin', 16), ('paterno', 16), ('arrival', 16), ('professional', 16), ('vanessa', 16), ('couldve', 16), ('string', 16), ('capello', 16), ('concept', 16), ('jupiter', 16), ('unable', 16), ('emotion', 16), ('oo', 16), ('alan', 16), ('gut', 16), ('bum', 16), ('employee', 16), ('roundup', 16), ('privilege', 15), ('golfer', 15), ('cliff', 15), ('cite', 15), ('communist', 15), ('vh1', 15), ('inspiration', 15), ('sunny', 15), ('viewer', 15), ('happens', 15), ('commentary', 15), ('wheel', 15), ('drew', 15), ('divide', 15), ('jackie', 15), ('tht', 15), ('clasico', 15), ('danica', 15), ('impression', 15), ('werent', 15), ('worthy', 15), ('brutal', 15), ('stab', 15), ('nature', 15), ('watched', 15), ('author', 15), ('attractive', 15), ('carlton', 15), ('5sos', 15), ('opposition', 15), ('obamacare', 15), ('venezuelan', 15), ('played', 15), ('region', 15), ('francisco', 15), ('diet', 15), ('expensive', 15), ('stevie', 15), ('paradise', 15), ('lin', 15), ('homecoming', 15), ('defender', 15), ('psa', 15), ('consist', 15), ('fave', 15), ('status', 15), ('censor', 15), ('95', 15), ('rita', 15), ('douglas', 15), ('positive', 15), ('countdown', 15), ('glory', 15), ('justins', 15), ('submit', 15), ('jk', 15), ('uni', 15), ('closer', 15), ('clown', 15), ('dislike', 15), ('gap', 15), ('faster', 15), ('encounter', 15), ('nh', 15), ('makeup', 15), ('lt', 15), ('hammer', 15), ('nhl', 15), ('command', 15), ('fyf', 15), ('93', 15), ('aston', 15), ('nightclub', 15), ('ensure', 15), ('broadcaster', 15), ('resign', 15), ('ally', 15), ('making', 15), ('population', 15), ('sake', 15), ('alltime', 15), ('demitra', 15), ('obsession', 15), ('subject', 15), ('designer', 15), ('rim', 15), ('lax', 15), ('ariana', 15), ('thus', 15), ('pilot', 15), ('lennon', 15), ('embrace', 15), ('postpone', 15), ('podcast', 15), ('me', 15), ('segment', 15), ('journalist', 15), ('nxt', 15), ('kickoff', 15), ('recovery', 15), ('chant', 15), ('significant', 15), ('disappear', 15), ('winning', 15), ('ninja', 15), ('administration', 15), ('rubio', 15), ('arrow', 15), ('advocate', 15), ('investigation', 15), ('crow', 15), ('explore', 15), ('recap', 15), ('wherever', 15), ('jun', 15), ('ranking', 15), ('subtitle', 15), ('mil', 15), ('critic', 15), ('nightmare', 15), ('eventually', 15), ('selfie', 15), ('diss', 15), ('dubai', 15), ('ba', 15), ('uniform', 15), ('mc', 15), ('tomb', 15), ('binge', 15), ('spell', 15), ('legalize', 15), ('operate', 15), ('core', 15), ('miguel', 15), ('solve', 15), ('leftists', 15), ('sink', 15), ('toni', 15), ('jericho', 15), ('jacket', 15), ('beg', 15), ('3b', 15), ('glasgow', 15), ('charm', 15), ('sheen', 15), ('te', 15), ('bella', 15), ('mock', 15), ('ave', 15), ('destiny', 15), ('donuts', 15), ('responsibility', 15), ('unit', 15), ('trey', 15), ('edmonton', 15), ('wyndham', 15), ('alternative', 15), ('lemon', 15), ('minor', 15), ('disaster', 15), ('msm', 15), ('curious', 15), ('sacrifice', 14), ('colour', 14), ('brunch', 14), ('courtesy', 14), ('billionaire', 14), ('lap', 14), ('crystal', 14), ('dy', 14), ('hong', 14), ('kong', 14), ('producer', 14), ('samsungs', 14), ('category', 14), ('resident', 14), ('gotten', 14), ('spare', 14), ('got', 14), ('verizon', 14), ('complaint', 14), ('dar', 14), ('universal', 14), ('bastard', 14), ('hella', 14), ('familiar', 14), ('urban', 14), ('fab', 14), ('outcome', 14), ('garbage', 14), ('tfi', 14), ('prof', 14), ('condition', 14), ('shooting', 14), ('equivalent', 14), ('nigerias', 14), ('production', 14), ('hypocrisy', 14), ('exo', 14), ('incident', 14), ('assange', 14), ('wa', 14), ('criticism', 14), ('2000', 14), ('meredith', 14), ('moral', 14), ('alexander', 14), ('aaliyah', 14), ('rig', 14), ('hudson', 14), ('unbreakable', 14), ('cypress', 14), ('brave', 14), ('mirror', 14), ('blessing', 14), ('logic', 14), ('pacer', 14), ('showing', 14), ('12pm', 14), ('nickname', 14), ('domestic', 14), ('extremely', 14), ('workout', 14), ('analysis', 14), ('clipper', 14), ('lame', 14), ('distance', 14), ('speculation', 14), ('hawaii', 14), ('tablet', 14), ('campus', 14), ('punish', 14), ('auto', 14), ('separate', 14), ('achievement', 14), ('breitbart', 14), ('lifetime', 14), ('erdogans', 14), ('vma', 14), ('prez', 14), ('incredibly', 14), ('jagger', 14), ('luv', 14), ('poland', 14), ('comp', 14), ('protester', 14), ('freshman', 14), ('88', 14), ('historic', 14), ('perspective', 14), ('bailout', 14), ('zumba', 14), ('juve', 14), ('tragedy', 14), ('huh', 14), ('expand', 14), ('delight', 14), ('brawl', 14), ('carlos', 14), ('elimination', 14), ('hike', 14), ('pg', 14), ('lauren', 14), ('kingdom', 14), ('eve', 14), ('poehler', 14), ('cult', 14), ('breath', 14), ('sequel', 14), ('cosell', 14), ('income', 14), ('tail', 14), ('11pm', 14), ('b', 14), ('120', 14), ('hmmm', 14), ('derrick', 14), ('heal', 14), ('contribution', 14), ('150', 14), ('scorer', 14), ('ne', 14), ('indonesian', 14), ('collins', 14), ('easter', 14), ('bae', 14), ('determine', 14), ('serie', 14), ('shuffle', 14), ('retreat', 14), ('thx', 14), ('44', 14), ('guys', 14), ('omfg', 14), ('spy', 14), ('horror', 14), ('abu', 14), ('lawsuit', 14), ('rey', 14), ('apr', 14), ('600', 14), ('tucker', 14), ('goodness', 14), ('rainy', 14), ('controversial', 14), ('cherry', 14), ('harm', 14), ('vengeance', 14), ('ty', 14), ('hp', 14), ('robin', 14), ('log', 14), ('blaze', 14), ('surgery', 14), ('sweden', 14), ('marie', 14), ('empire', 14), ('wet', 14), ('aap', 14), ('adventure', 14), ('bruno', 14), ('penn', 14), ('1993', 14), ('adorable', 14), ('76', 14), ('saturdays', 14), ('fc', 14), ('magical', 14), ('overturn', 14), ('filthy', 14), ('safety', 14), ('sweat', 14), ('terra', 14), ('neither', 14), ('r', 14), ('salute', 14), ('jays', 14), ('spencer', 14), ('oakland', 14), ('nashville', 14), ('shoulder', 14), ('bb', 14), ('journal', 14), ('doug', 14), ('improvement', 14), ('becomes', 14), ('sayin', 14), ('nash', 14), ('doc', 14), ('attn', 14), ('nwa', 14), ('bury', 14), ('eight', 14), ('signature', 14), ('slowly', 14), ('rescue', 14), ('nazis', 14), ('soft', 14), ('closing', 14), ('fitness', 14), ('meat', 14), ('blonde', 14), ('48', 13), ('puzzle', 13), ('eclipse', 13), ('strand', 13), ('desk', 13), ('bel', 13), ('gf', 13), ('yushin', 13), ('mercury', 13), ('mizzou', 13), ('upper', 13), ('maya', 13), ('volunteer', 13), ('beside', 13), ('cougar', 13), ('toward', 13), ('reset', 13), ('kc', 13), ('teammate', 13), ('cart', 13), ('carrie', 13), ('awake', 13), ('spotify', 13), ('addict', 13), ('perfectly', 13), ('lexington', 13), ('repeal', 13), ('qualifier', 13), ('islamist', 13), ('wr', 13), ('passport', 13), ('amen', 13), ('coincidence', 13), ('chillin', 13), ('assad', 13), ('o', 13), ('ce', 13), ('dome', 13), ('trent', 13), ('conrad', 13), ('honda', 13), ('mayweathers', 13), ('acoustic', 13), ('wvu', 13), ('nikon', 13), ('heel', 13), ('1130', 13), ('technically', 13), ('prop', 13), ('basis', 13), ('nowhere', 13), ('mode', 13), ('gutted', 13), ('suite', 13), ('daytona', 13), ('inner', 13), ('sonys', 13), ('greenville', 13), ('duck', 13), ('educate', 13), ('venezuela', 13), ('footage', 13), ('47', 13), ('mask', 13), ('selena', 13), ('messis', 13), ('cooper', 13), ('sexual', 13), ('ear', 13), ('collar', 13), ('welfare', 13), ('boycott', 13), ('dat', 13), ('individual', 13), ('01', 13), ('finance', 13), ('boat', 13), ('percent', 13), ('channing', 13), ('allege', 13), ('anytime', 13), ('harold', 13), ('din', 13), ('sevilla', 13), ('brings', 13), ('tweeting', 13), ('700', 13), ('courtney', 13), ('indie', 13), ('nap', 13), ('yellow', 13), ('dual', 13), ('graphic', 13), ('punk', 13), ('dust', 13), ('hustle', 13), ('2run', 13), ('basic', 13), ('drum', 13), ('250', 13), ('keeper', 13), ('resolution', 13), ('hud', 13), ('sbs', 13), ('gossip', 13), ('columbus', 13), ('nobel', 13), ('tiny', 13), ('crook', 13), ('miller', 13), ('acc', 13), ('presence', 13), ('atheist', 13), ('tentatively', 13), ('harmony', 13), ('irene', 13), ('eager', 13), ('anger', 13), ('gras', 13), ('stance', 13), ('luis', 13), ('married', 13), ('traitor', 13), ('cba', 13), ('flood', 13), ('parliament', 13), ('metropcs', 13), ('po', 13), ('bounce', 13), ('honour', 13), ('thursdays', 13), ('lb', 13), ('ang', 13), ('sings', 13), ('sabbath', 13), ('2day', 13), ('cambridge', 13), ('establish', 13), ('singing', 13), ('fate', 13), ('retard', 13), ('odom', 13), ('murdoch', 13), ('showtime', 13), ('smackdown', 13), ('michigan', 13), ('chain', 13), ('stake', 13), ('peyton', 13), ('bath', 13), ('revenge', 13), ('peek', 13), ('remembers', 13), ('newly', 13), ('lana', 13), ('demo', 13), ('watney', 13), ('asian', 13), ('moderate', 13), ('hung', 13), ('candle', 13), ('strikeout', 13), ('chemical', 13), ('donor', 13), ('sopa', 13), ('television', 13), ('bio', 13), ('revise', 13), ('criticize', 13), ('occupy', 13), ('uber', 13), ('stir', 13), ('bully', 13), ('peep', 13), ('papa', 13), ('brandon', 13), ('cm', 13), ('gb', 13), ('tradition', 13), ('norwich', 13), ('uncharted', 13), ('duo', 13), ('virgin', 13), ('tebow', 13), ('miliband', 13), ('scratch', 13), ('sb', 13), ('adebayor', 13), ('careful', 13), ('contention', 13), ('valid', 13), ('forum', 13), ('pixel', 13), ('lean', 13), ('lefty', 13), ('premium', 13), ('bot', 13), ('edinburgh', 13), ('boyz', 13), ('elizabeth', 13), ('welp', 13), ('tucson', 12), ('surrender', 12), ('stranger', 12), ('otra', 12), ('comfort', 12), ('baron', 12), ('sta', 12), ('virtual', 12), ('ortiz', 12), ('react', 12), ('nationwide', 12), ('monroe', 12), ('olympic', 12), ('eddie', 12), ('haye', 12), ('quiz', 12), ('foster', 12), ('sample', 12), ('rough', 12), ('nude', 12), ('therefore', 12), ('capt', 12), ('underwood', 12), ('kasabian', 12), ('carroll', 12), ('hoe', 12), ('tworun', 12), ('h', 12), ('superb', 12), ('roster', 12), ('obi', 12), ('milk', 12), ('djt', 12), ('availability', 12), ('eviction', 12), ('entrance', 12), ('olive', 12), ('chili', 12), ('turner', 12), ('tribe', 12), ('corp', 12), ('richardson', 12), ('savage', 12), ('cbb', 12), ('saha', 12), ('94', 12), ('neil', 12), ('testing', 12), ('reschedule', 12), ('neck', 12), ('reunite', 12), ('twenty', 12), ('hunter', 12), ('adele', 12), ('ahhh', 12), ('http', 12), ('badger', 12), ('pi', 12), ('engine', 12), ('ni', 12), ('ajax', 12), ('speaks', 12), ('chapel', 12), ('explanation', 12), ('unique', 12), ('mat', 12), ('rex', 12), ('waterloo', 12), ('friendship', 12), ('intense', 12), ('signal', 12), ('unity', 12), ('slaughter', 12), ('sympathy', 12), ('awhile', 12), ('peaceful', 12), ('ferry', 12), ('drain', 12), ('autograph', 12), ('execute', 12), ('commitment', 12), ('gtgt', 12), ('michel', 12), ('prevent', 12), ('dixie', 12), ('justify', 12), ('sim', 12), ('grill', 12), ('anchor', 12), ('borno', 12), ('miesha', 12), ('hm', 12), ('ram', 12), ('tatum', 12), ('jerk', 12), ('financial', 12), ('ability', 12), ('gervais', 12), ('atm', 12), ('remark', 12), ('os', 12), ('found', 12), ('thug', 12), ('simcity', 12), ('insist', 12), ('whistle', 12), ('roar', 12), ('careless', 12), ('empty', 12), ('unknown', 12), ('ego', 12), ('leicester', 12), ('scan', 12), ('36', 12), ('bitter', 12), ('giveaway', 12), ('vibe', 12), ('isner', 12), ('thur', 12), ('montreal', 12), ('promotion', 12), ('personality', 12), ('richards', 12), ('fed', 12), ('anfield', 12), ('stag', 12), ('lecture', 12), ('initiative', 12), ('lopez', 12), ('duet', 12), ('float', 12), ('baylor', 12), ('enrique', 12), ('healthcare', 12), ('pogba', 12), ('concord', 12), ('boris', 12), ('combo', 12), ('myth', 12), ('viola', 12), ('brought', 12), ('scientist', 12), ('pipa', 12), ('gosh', 12), ('pad', 12), ('sand', 12), ('wildcat', 12), ('necessary', 12), ('bayer', 12), ('whenever', 12), ('tokyo', 12), ('stroke', 12), ('defence', 12), ('cycle', 12), ('chick', 12), ('gettin', 12), ('saga', 12), ('performs', 12), ('monsantos', 12), ('malcolm', 12), ('franklin', 12), ('exciting', 12), ('cardinal', 12), ('46', 12), ('rivera', 12), ('audition', 12), ('ip', 12), ('mosque', 12), ('sometime', 12), ('unreal', 12), ('olympics', 12), ('cb', 12), ('jus', 12), ('starkville', 12), ('noise', 12), ('marco', 12), ('egg', 12), ('deadpool', 12), ('tan', 12), ('930', 12), ('feast', 12), ('clutch', 12), ('10000', 12), ('depress', 12), ('alliance', 12), ('coalition', 12), ('measure', 12), ('chavez', 12), ('prepared', 12), ('spice', 12), ('orlando', 12), ('ky', 12), ('mixtape', 12), ('specific', 12), ('allegedly', 12), ('giffords', 12), ('hatch', 12), ('southern', 12), ('1971', 12), ('mendes', 12), ('iced', 12), ('interpret', 12), ('dhabi', 12), ('resource', 12), ('prisoner', 12), ('prolly', 12), ('cameo', 12), ('strait', 12), ('lorenzo', 12), ('illegals', 12), ('a1', 12), ('annulment', 12), ('zap', 12), ('witsel', 12), ('twat', 12), ('66', 12), ('emmanuel', 12), ('associate', 12), ('proper', 12), ('maidens', 12), ('federers', 12), ('sunshine', 12), ('davos', 12), ('writing', 12), ('plead', 12), ('poet', 12), ('priest', 12), ('prosecutor', 12), ('primetime', 12), ('britney', 12), ('absence', 12), ('progressive', 12), ('rosie', 12), ('episodes', 12), ('pastor', 12), ('carolina', 12), ('tale', 12), ('sydney', 12), ('niger', 12), ('baptist', 12), ('circle', 12), ('liked', 12), ('aniston', 12), ('aww', 12), ('den', 12), ('dot', 11), ('manga', 11), ('vogue', 11), ('ga', 11), ('taxpayer', 11), ('teaser', 11), ('pl', 11), ('eg', 11), ('wembley', 11), ('dirt', 11), ('eleanor', 11), ('renew', 11), ('ag', 11), ('wiki', 11), ('ami', 11), ('kendall', 11), ('popcorn', 11), ('preparation', 11), ('deca', 11), ('blaines', 11), ('abandon', 11), ('cst', 11), ('xxx', 11), ('massage', 11), ('cow', 11), ('colin', 11), ('patty', 11), ('henson', 11), ('oklahoma', 11), ('mackem', 11), ('eligible', 11), ('2009', 11), ('ritz', 11), ('op', 11), ('diablo', 11), ('install', 11), ('tall', 11), ('management', 11), ('hulu', 11), ('aa', 11), ('cali', 11), ('bundle', 11), ('grandma', 11), ('cohens', 11), ('pot', 11), ('task', 11), ('monica', 11), ('proposal', 11), ('selma', 11), ('illegally', 11), ('retail', 11), ('menu', 11), ('destruction', 11), ('weigh', 11), ('groundhog', 11), ('geas', 11), ('lynch', 11), ('investment', 11), ('bailey', 11), ('devon', 11), ('worlds', 11), ('intervention', 11), ('kindly', 11), ('toby', 11), ('rampage', 11), ('spiritual', 11), ('mystery', 11), ('lgbt', 11), ('tempt', 11), ('semi', 11), ('camilla', 11), ('stare', 11), ('referee', 11), ('ie', 11), ('springsteen', 11), ('kfc', 11), ('nandito', 11), ('emma', 11), ('innovation', 11), ('lab', 11), ('unbroken', 11), ('marketing', 11), ('storage', 11), ('cannabis', 11), ('backwards', 11), ('prior', 11), ('disturb', 11), ('cuddle', 11), ('cara', 11), ('frm', 11), ('bathroom', 11), ('oliver', 11), ('minneapolis', 11), ('niece', 11), ('variety', 11), ('acquire', 11), ('assure', 11), ('gang', 11), ('traditional', 11), ('cebu', 11), ('romance', 11), ('gampel', 11), ('owens', 11), ('pac', 11), ('villasboas', 11), ('confirms', 11), ('presidentelect', 11), ('nicolas', 11), ('peterson', 11), ('pitching', 11), ('rudy', 11), ('perkins', 11), ('berkmar', 11), ('soak', 11), ('naked', 11), ('depth', 11), ('er', 11), ('originally', 11), ('oops', 11), ('sooooo', 11), ('hav', 11), ('faint', 11), ('vladimir', 11), ('approval', 11), ('conduct', 11), ('biebers', 11), ('pedro', 11), ('monta', 11), ('spike', 11), ('sacramento', 11), ('para', 11), ('dandy', 11), ('reagan', 11), ('genuinely', 11), ('mason', 11), ('whoop', 11), ('mersey', 11), ('socialist', 11), ('talented', 11), ('pet', 11), ('pig', 11), ('jury', 11), ('narrative', 11), ('medicine', 11), ('ideal', 11), ('830', 11), ('criterion', 11), ('tavern', 11), ('toss', 11), ('bare', 11), ('owe', 11), ('plea', 11), ('consequence', 11), ('simon', 11), ('gadkari', 11), ('mayo', 11), ('unofficially', 11), ('housing', 11), ('cope', 11), ('wire', 11), ('nest', 11), ('estate', 11), ('no1', 11), ('iggy', 11), ('rory', 11), ('julian', 11), ('pottstown', 11), ('scam', 11), ('reckon', 11), ('representative', 11), ('favour', 11), ('scrimmage', 11), ('unfollow', 11), ('henry', 11), ('fairfax', 11), ('siberia', 11), ('whose', 11), ('hoffman', 11), ('sd', 11), ('dwight', 11), ('extremist', 11), ('woohoo', 11), ('varitek', 11), ('homie', 11), ('mannequin', 11), ('rafa', 11), ('roxy', 11), ('iguana', 11), ('fade', 11), ('bold', 11), ('flatbush', 11), ('granite', 11), ('toe', 11), ('jayalalithaa', 11), ('brad', 11), ('70s', 11), ('contain', 11), ('ref', 11), ('somalia', 11), ('tommy', 11), ('distract', 11), ('frog', 11), ('hog', 11), ('eminem', 11), ('puppy', 11), ('teddy', 11), ('borrow', 11), ('sweep', 11), ('buhari', 11), ('manny', 11), ('nuke', 11), ('forecast', 11), ('1200', 11), ('quran', 11), ('talkin', 11), ('casual', 11), ('ponting', 11), ('meryl', 11), ('harrys', 11), ('purim', 11), ('alongside', 11), ('impress', 11), ('goodell', 11), ('matinee', 11), ('dak', 11), ('icon', 11), ('bought', 11), ('mixed', 11), ('istep', 11), ('punishment', 11), ('invasion', 11), ('constitutional', 11), ('todays', 11), ('dinosaur', 11), ('sweetheart', 11), ('mavs', 11), ('melt', 11), ('panini', 11), ('72', 11), ('spoil', 11), ('invade', 11), ('webb', 11), ('tehran', 11), ('morton', 11), ('vessel', 11), ('clooney', 11), ('seagal', 11), ('mountain', 11), ('texted', 11), ('hungry', 11), ('warehouse', 11), ('espanyol', 11), ('fabio', 11), ('mosul', 11), ('diaz', 11), ('teeth', 11), ('unbelievable', 11), ('indianapolis', 11), ('rih', 11), ('cobains', 11), ('reasonable', 11), ('iebc', 11), ('application', 11), ('woke', 11), ('goon', 11), ('quickly', 11), ('retain', 11), ('wilson', 11), ('k', 11), ('notebook', 11), ('dang', 11), ('admire', 11), ('fr', 11), ('rsvp', 11), ('cultural', 11), ('drexel', 11), ('pulse', 11), ('hrt', 11), ('firm', 11), ('condolence', 11), ('woot', 11), ('reservation', 11), ('kickball', 11), ('teenage', 11), ('jayzs', 11), ('hollande', 11), ('dozen', 11), ('lem', 11), ('poetic', 11), ('purpose', 11), ('occur', 11), ('departure', 11), ('poverty', 11), ('capitol', 11), ('tool', 11), ('cooky', 11), ('4g', 11), ('banner', 11), ('clarke', 11), ('gender', 11), ('snapchat', 11), ('carol', 11), ('bali', 10), ('accurate', 10), ('fiddle', 10), ('robot', 10), ('lesnars', 10), ('2010', 10), ('walgreens', 10), ('ghetto', 10), ('hillarys', 10), ('tv5', 10), ('careys', 10), ('duel', 10), ('postal', 10), ('rudolph', 10), ('belushi', 10), ('frustrate', 10), ('siri', 10), ('fluke', 10), ('blunt', 10), ('gears3', 10), ('pee', 10), ('reminds', 10), ('southpaw', 10), ('bellamy', 10), ('heather', 10), ('md', 10), ('sits', 10), ('walmart', 10), ('contraband', 10), ('diversity', 10), ('commander', 10), ('screenplay', 10), ('convention', 10), ('colorado', 10), ('summit', 10), ('bound', 10), ('unmentionable', 10), ('button', 10), ('rely', 10), ('norway', 10), ('garner', 10), ('chamberlain', 10), ('prophet', 10), ('bone', 10), ('915', 10), ('ticketek', 10), ('surprisingly', 10), ('exhibit', 10), ('citi', 10), ('sheet', 10), ('apartment', 10), ('conquer', 10), ('disappointing', 10), ('brighter', 10), ('thompson', 10), ('christina', 10), ('soundwave', 10), ('rebecca', 10), ('calvin', 10), ('mj', 10), ('atkinson', 10), ('grave', 10), ('gallagher', 10), ('hoop', 10), ('lou', 10), ('raspberry', 10), ('acceptance', 10), ('divo', 10), ('segal', 10), ('demon', 10), ('mtsu', 10), ('wu', 10), ('ost', 10), ('ht', 10), ('gareth', 10), ('fps', 10), ('counter', 10), ('atletico', 10), ('montage', 10), ('puppet', 10), ('stylus', 10), ('nasdaq', 10), ('rehearsal', 10), ('satan', 10), ('bud', 10), ('grass', 10), ('74', 10), ('header', 10), ('redknapp', 10), ('coke', 10), ('sensitive', 10), ('someday', 10), ('oceans', 10), ('ralph', 10), ('unlikely', 10), ('corsten', 10), ('aspect', 10), ('endymion', 10), ('proven', 10), ('plagiarize', 10), ('instrumental', 10), ('wade', 10), ('richwood', 10), ('partnership', 10), ('nephew', 10), ('silver', 10), ('georgetown', 10), ('breast', 10), ('conspiracy', 10), ('orleans', 10), ('irving', 10), ('investor', 10), ('outrage', 10), ('dujardin', 10), ('zoo', 10), ('slinger', 10), ('bertuzzi', 10), ('instructor', 10), ('nonsense', 10), ('disease', 10), ('sip', 10), ('ng', 10), ('pie', 10), ('poem', 10), ('repair', 10), ('cupid', 10), ('hib', 10), ('ramlila', 10), ('ply', 10), ('doom', 10), ('funday', 10), ('emo', 10), ('sadden', 10), ('vary', 10), ('travis', 10), ('fumble', 10), ('rhodes', 10), ('grande', 10), ('pile', 10), ('helicopter', 10), ('greg', 10), ('swim', 10), ('qf', 10), ('stomach', 10), ('massacre', 10), ('drift', 10), ('ukips', 10), ('bp', 10), ('bethnal', 10), ('steam', 10), ('imaaa', 10), ('sheerans', 10), ('98', 10), ('farage', 10), ('pak', 10), ('deniesse', 10), ('59', 10), ('attendance', 10), ('dramatic', 10), ('portugal', 10), ('document', 10), ('dvr', 10), ('gaston', 10), ('upton', 10), ('lonely', 10), ('destructo', 10), ('privatize', 10), ('lowkey', 10), ('becky', 10), ('nirvanas', 10), ('addiction', 10), ('aye', 10), ('confident', 10), ('utah', 10), ('kobe', 10), ('49', 10), ('raul', 10), ('locate', 10), ('cough', 10), ('bdr', 10), ('vocal', 10), ('ying', 10), ('resistance', 10), ('advisor', 10), ('oregon', 10), ('bucs', 10), ('kurd', 10), ('abramovich', 10), ('panther', 10), ('730pm', 10), ('nanjing', 10), ('decline', 10), ('degrassi', 10), ('retirement', 10), ('oslo', 10), ('sect', 10), ('siro', 10), ('evanescence', 10), ('flower', 10), ('grandpa', 10), ('alike', 10), ('philadelphia', 10), ('mardis', 10), ('thalia', 10), ('acta', 10), ('iditarod', 10), ('burger', 10), ('locker', 10), ('leverkusen', 10), ('territory', 10), ('liacouras', 10), ('coup', 10), ('commission', 10), ('footymad', 10), ('volume', 10), ('virginia', 10), ('batter', 10), ('homophobic', 10), ('800', 10), ('velvet', 10), ('nigel', 10), ('cocktail', 10), ('adelaide', 10), ('oval', 10), ('sonic', 10), ('nationally', 10), ('alsip', 10), ('soc', 10), ('maintenance', 10), ('visa', 10), ('emerson', 10), ('boring', 10), ('blown', 10), ('slay', 10), ('kandi', 10), ('airline', 10), ('knoxville', 10), ('bleacher', 10), ('adnan', 10), ('association', 10), ('breakout', 10), ('cofield', 10), ('dammit', 10), ('registration', 10), ('virgo', 10), ('rm', 10), ('latter', 10), ('o2', 10), ('haryana', 10), ('bronco', 10), ('baseman', 10), ('rage', 10), ('jul', 10), ('atampt', 10), ('listening', 10), ('streep', 10), ('shoutout', 10), ('angle', 10), ('veteran', 10), ('swindell', 10), ('garage', 10), ('aunt', 10), ('kinder', 10), ('starbucks', 10), ('adrienne', 10), ('arsht', 10), ('poetry', 10), ('casimir', 10), ('pulaski', 10), ('bullpen', 10), ('lesbian', 10), ('cupertino', 10), ('khader', 10), ('woe', 10), ('pun', 10), ('pacquiao', 10), ('rachel', 10), ('sustainable', 10), ('spotlight', 10), ('nano', 10), ('chardon', 10), ('hatred', 10), ('thrown', 10), ('survivor', 10), ('utc', 10), ('arrivaldeparture', 10), ('wbb', 10), ('disc', 10), ('2001', 10), ('wiz', 10), ('putrajaya', 10), ('shotton', 10), ('pinch', 10), ('hashtag', 10), ('spartacus', 10), ('exercise', 10), ('literature', 10), ('assistant', 10), ('advanced', 10), ('keyboard', 10), ('surface', 10), ('volare', 10), ('abscbn', 10), ('ar', 10), ('hq', 10), ('ddg', 10), ('mufc', 10), ('wsh', 10), ('fca', 10), ('homemade', 10), ('cait', 10), ('dismiss', 10), ('beiber', 10), ('remake', 10), ('wead', 10), ('export', 10), ('carmelo', 10), ('ongoing', 10), ('yearbook', 10), ('lip', 10), ('jacksonville', 10), ('pour', 10), ('brick', 10), ('logan', 10), ('backup', 10), ('biz', 10), ('andor', 10), ('aca', 10), ('asylum', 10), ('affair', 10), ('richie', 10), ('shepard', 10), ('laguna', 10), ('eff', 10)]\n",
      "['tomorrow', 'may', 'go', 'get', 'day', 'see', 'im', 'like', 'night', 'time', '1st', 'sunday', 'friday', 'make', 'come', 'watch', 'one', 'say', 'new', 'want', 'game', 'think', 'know', 'good', 'saturday', '2nd', 'monday', 'dont', 'amp', 'today', '3rd', 'love', 'tonight', 'take', 'well', 'play', 'look', 'us', 'last', 'back', 'still', 'show', 'cant', 'thursday', 'na', 'start', 'david', 'big', 'win', 'first', 'would', 'need', 'best', 'trump', 'great', 'sun', 'next', 'wait', 'right', 'work', 'people', 'happy', 'year', 'world', 'give', 'live', 'tuesday', 'really', 'ill', '4th', 'gon', 'even', 'bad', 'run', 'morning', 'hope', 'thing', 'miss', 'john', 'season', 'call', 'ticket', 'let', 'way', 'via', 'sit', 'he', 'wednesday', 'man', 'lol', 'birthday', 'set', 'talk', 'leave', 'guy', 'white', 'open', 'ever', 'frank', 'paul', 'much', 'september', 'george', 'end', 'movie', 'try', 'ice', 'tell', 'real', 'never', 'concert', 'news', 'fan', 'thats', 'rt', 'sox', 'find', 'week', '10', 'video', 'since', 'national', 'could', 'august', 'youre', 'song', 'use', '5th', 'team', 'album', 'also', 'life', 'free', 'didnt', 'please', 'two', 'sure', 'place', 'black', 'party', 'red', 'home', 'july', 'feel', 'gay', 'lead', 'fuck', 'anyone', 'tom', 'buy', 'brother', 'every', 'listen', 'meet', 'ive', 'top', 'star', 'read', 'november', 'march', 'hit', 'fight', 'school', 'lose', 'v', 'mean', 'keep', 'apple', 'hot', 'october', 'break', 'plan', 'put', 'obama', 'president', 'super', 'join', 'release', 'january', 'doesnt', 'might', 'remember', 'shit', 'long', 'stop', 'state', 'another', 'west', 'girl', 'google', 'ready', 'weekend', 'friend', 'check', 'support', 'oh', 'ask', 'many', 'beat', 'help', 'price', 'old', 'bring', 'valentine', 'vote', 'football', 'god', 'muslim', 'christian', 'amazon', 'everyone', 'saw', 'already', 'cena', 'thanks', 'murray', 'head', 'town', 'kill', 'hear', 'wont', 'happen', 'band', 'dog', 'face', '6th', 'little', 'excite', 'late', 'hour', 'always', 'book', 'fighter', 'jason', 'move', 'tweet', 'johnson', 'someone', 'eid', 'house', 'round', 'sam', 'kanye', '7th', 'nicki', 'wan', 'follow', 'event', 'match', 'player', 'something', 'smith', 'brown', 'kim', 'michael', 'yet', 'yes', 'isnt', 'lot', 'music', 'sharknado', 'believe', 'sign', 'class', 'milan', 'paper', 'family', 'jackson', 'woman', 'rollins', 'hell', 'shawn', 'wish', 'islam', 'though', 'cmon', 'war', 'name', 'seth', 'drop', 'ocean', 'actually', 'cube', 'antman', 'ed', '8th', 'foo', 'note', 'point', 'sat', 'gucci', 'death', 'ps4', 'change', 'turn', 'park', 'dunkin', 'must', 'enjoy', 'dustin', 'tv', 'around', 'madrid', '12', 'deal', 'away', 'kane', 'dead', 'brady', 'naruto', 'pay', 'city', 'finish', 'brock', 'chris', 'taylor', 'grade', 'prime', 'part', 'zayn', 'do', 'pick', 'wright', 'donald', 'prince', 'celebrate', 'thank', 'perry', 'return', 'nirvana', 'sept', 'lesnar', '9th', 'true', 'kid', 'maybe', 'rousey', 'final', 'write', 'episode', 'eagle', 'young', 'stay', 'post', 'dunne', 'die', 'pretty', 'marriage', '10th', 'fun', 'nothing', 'december', 'nov', 'ok', 'sheeran', 'job', 'cream', 'raw', 'hey', 'hogan', 'nice', 'walk', 'roll', 'aldean', 'niall', 'probably', 'record', 'score', 'half', 'chance', 'early', 'walker', 'cause', 'iron', 'scott', 'country', 'high', 'guess', 'date', 'boy', 'galaxy', 'hulk', 'kris', 'hold', 'announce', 'id', 'debate', 'gifford', 'film', 'forget', 'bob', 'finally', 'money', 'till', 'wear', 'month', 'close', 'phone', 'care', 'hate', 'blood', 'yeah', 'club', 'election', '20', 'line', 'harry', 'sell', 'sound', 'april', 'yoga', 'fact', 'church', 'award', 'wwe', 'charlie', 'seem', 'far', 'jurassic', 'jenner', 'pm', 'mccartney', 'league', 'yakub', 'college', 'usa', 'shes', 'america', 'become', 'kasich', 'bryant', 'hard', 'forward', 'special', 'word', '14th', 'without', 'bc', 'maiden', 'american', 'force', 'hillary', 'carly', 'uk', 'awesome', 'tiger', 'attack', 'vs', 'yesterday', 'cool', 'cry', 'rest', 'medium', 'fiorina', 'history', 'cover', 'boko', 'caitlyn', 'single', 'haram', '2015', 'wonder', 'mom', 'there', 'story', '30', 'hand', 'wrong', 'rise', 'speech', 'sale', 'whats', 'issue', 'clinton', 'goal', 'floyd', 'stand', 'second', 'person', 'baby', 'blue', 'begin', 'test', 'case', '15', 'havent', 'soon', 'iphone', 'reason', 'question', 'tour', 'control', 'interview', 'title', 'report', 'photo', 'full', 'mike', 'sad', 'catch', 'gun', 'due', 'third', 'lady', 'joe', 'arsenal', 'rock', 'tony', 'liberal', 'learn', 'sorry', 'oct', 'wed', 'order', 'perform', 'sing', 'rick', 'moto', 'mayweather', 'february', 'whole', 'hebdo', 'behind', 'anything', 'enough', 'york', 'theyre', 'everything', 'son', 'coach', 'bit', 'kpop', 'fire', 'swift', 'save', 'agree', 'picture', 'twitter', 'act', 'stone', 'ball', 'minute', 'steve', 'least', 'list', 'race', 'allah', 'justin', 'sleep', 'visit', 'ta', 'beach', 'center', 'speak', 'else', 'straight', 'update', 'card', 'leader', 'dream', 'aug', 'martin', 'who', 'stage', 'yall', 'wow', 'drive', 'expect', 'strike', 'launch', 'fall', 'xbox', 'gen', 'nfl', '16', 'chelsea', 'de', 'bush', 'london', 'power', 'available', 'u2', 'labor', 'together', 'send', 'kick', 'shot', 'magic', 'haha', 'throw', 'favorite', 'hang', 'law', 'stuff', 'pope', 'share', 'group', 'teen', 'ryan', 'bless', 'netflix', 'melania', 'series', 'continue', 'earth', 'damn', 'harper', 'ben', 'inning', '11th', 'st', 'parade', 'ur', 'instead', 'room', 'ted', 'la', 'jan', 'heart', 'foundation', 'lie', 'million', 'sting', 'mark', 'hi', 'wake', 'josh', 'gold', 'problem', 'cut', 'janet', 'amendment', 'almost', 'base', 'light', 'child', 'zac', 'dance', 'king', 'tie', 'as', 'heard', 'member', 'hop', 'major', 'number', 'mind', 'anniversary', 'field', 'pic', 'wood', 'able', 'oliseh', 'bowl', 'eye', 'air', 'june', 'perfect', 'side', 'luck', 'deep', 'gop', 'spot', 'conservative', 'idea', 'tory', 'bed', '16th', '18th', '13', 'osborne', 'car', 'funny', '13th', 'michelle', 'wasnt', 'hamilton', 'ipad', 'surprise', 'republican', '12th', 'window', 'okay', 'sarah', 'randy', 'romo', 'moment', 'thor', '11', 'choice', 'pride', 'spend', '2012', 'holiday', 'dad', 'beautiful', 'ipod', 'bbc', 'trend', 'winner', 'cub', '25th', 'shirt', 'bobby', 'katy', 'along', 'animal', 'james', 'cup', 'interested', 'jeb', 'undertaker', '25', 'green', 'messi', '17th', 'ago', '15th', 'campaign', 'hopefully', 'decide', 'laugh', '21', '2016', '22', 'link', 'review', 'later', 'interest', 'welcome', 'fly', 'joke', 'claim', 'gov', 'add', 'official', 'eat', 'mac', 'peace', 'charge', 'fuel', 'ahead', 'fair', 'poll', 'wolf', 'bernie', 'watchman', '50', 'crazy', 'thought', 'amaze', 'omg', 'nokia', 'biden', '100', 'realize', 'bitch', 'dr', 'castro', 'consider', 'jay', 'host', '20th', 'less', 'pitch', 'pass', 'front', 'standard', 'bet', 'louis', 'answer', 'food', 'dude', 'huge', 'daily', 'offer', 'orton', 'madonna', '3d', 'tho', 'lexus', 'three', 'include', 'service', 'allen', 'past', 'throne', 'penalty', 'bill', 'anderson', 'championship', 'office', 'cruise', 'eric', 'definitely', 'here', 'afternoon', 'action', '24', 'shoot', 'plus', 'sony', 'business', '19th', 'kurt', 'stream', 'result', 'understand', 'sander', 'cameron', 'pen', 'moore', '17', 'batman', 'christmas', 'serena', 'fidel', 'youll', 'near', 'mr', 'street', 'human', 'career', 'grateful', 'beyonce', 'carson', 'dems', 'potter', 'confirm', 'kind', 'sport', 'scotus', 'un', 'matter', 'kerry', 'aint', '21st', 'future', '23', 'store', 'pull', '30th', 'acdc', 'snoop', 'schedule', 'beckham', 'champion', 'north', 'rule', 'summer', 'nike', 'united', 'miley', 'trip', 'jindal', 'le', 'palin', 'halloween', 'different', 'minecraft', '14', 'electoral', 'proud', 'wouldnt', 'ronaldo', 'heat', 'venice', 'merkel', 'tsipras', 'block', 'edge', 'jack', 'barca', 'hannibal', 'literally', 'chuck', 'mariah', 'cuba', 'drone', 'train', 'practice', 'voice', 'celebrity', 'wall', 'abortion', 'radio', 'sister', 'samsung', 'double', 'soul', 'disneyland', 'soros', 'company', 'row', 'parenthood', 'putin', 'giant', 'angela', 'article', 'suck', 'court', 'juventus', 'mcgregor', 'williams', 'performance', 'either', 'oracle', 'tmobile', 'metlife', 'dallas', 'view', 'apparently', 'conor', 'paris', 'digi', 'mad', 'nintendo', 'british', 'calibraska', 'four', 'present', 'worth', 'men', 'braun', 'couldnt', 'social', 'serve', 'curtis', 'flair', 'access', 'royal', 'couple', 'wife', '23rd', 'ihop', 'ukip', 'zlatan', 'worry', 'dylan', 'dress', 'ric', 'rip', 'fleetwood', 'til', 'allow', 'riot', 'medical', 'theme', 'dean', 'leonard', 'cohen', 'norris', 'xxl', 'app', 'arent', 'version', 'stupid', 'marley', 'receive', 'fake', 'io', 'presidential', 'ibm', 'tune', 'hr', 'fox', 'tgif', 'others', 'dinner', 'seinfeld', 'dogg', 'fatty', 'candidate', 'federer', 'hombre', 'cristiano', 'amazing', 'box', 'grayson', 'loss', '18', 'medicare', 'fine', 'main', 'excited', 'terrorist', 'bear', 'create', 'ya', 'classic', 'body', 'appear', 'challenge', 'protest', 'fossil', 'mention', 'washington', 'destroy', 'course', 'china', 'cobain', 'chicago', 'step', 'feb', 'erdogan', 'mon', 'bentley', 'strong', 'email', 'road', 'online', 'lmao', 'meeting', 'ashley', 'monsanto', 'carey', 'east', 'leftist', 'immigration', 'piece', 'russia', 'treat', 'press', 'short', 'microsoft', 'jayz', 'age', 'ricky', 'glad', 'ppl', 'san', 'annual', 'page', 'seriously', 'imagine', 'dark', 'build', 'embargo', 'safe', 'draw', 'cy', 'term', 'mets', 'seat', 'dear', 'government', 'festival', 'decision', 'bag', 'hole', 'marine', 'lion', 'racist', 'track', 'graham', 'entire', '19', 'inside', 'form', 'bday', 'attend', 'blaine', 'easy', 'download', 'pro', 'style', 'level', 'yr', 'sick', 'dec', 'victory', 'vr', 'feature', 'security', 'yo', 'derby', 'extra', 'nation', 'marijuana', 'yankee', 'knicks', 'info', 'al', 'account', 'can', 'ambrose', 'prepare', 'sweet', 'cancel', 'alone', 'etc', 'fast', 'possible', 'coffee', 'remind', 'medicaid', 'italy', 'kevin', 'south', 'arrive', 'art', 'bannon', 'sep', 'channel', 'land', 'scene', 'former', 'fri', 'guest', 'screen', 'rain', 'system', 'hello', 'hat', 'across', 'bomb', 'fail', 'ufc', 'queen', 'original', 'dc', 'international', 'comey', 'pas', '26', 'market', 'stadium', 'truth', 'five', 'texas', 'respect', 'network', 'public', 'ha', 'rally', 'direction', 'hall', 'liam', 'jersey', 'israel', 'police', 'kinda', 'comment', 'preview', 'solo', 'thanksgiving', 'blow', 'trade', 'suppose', 'ground', 'accept', 'defeat', 'obamas', 'experience', 'rich', 'venus', 'vmas', 'debut', 'totally', 'theatre', 'ira', 'detail', 'notice', 'absolutely', 'topic', 'low', 'refugee', 'bank', 'source', 'quarter', 'nigeria', 'large', 'hurt', 'maduro', 'generation', 'judge', '28', 'fill', 'lineup', 'reuters', 'complete', 'premier', 'honestly', 'cost', 'sense', 'drink', 'fantastic', 'push', 'hill', 'attempt', 'currently', 'arm', 'exactly', 'bar', 'bottom', 'busy', '24th', 'crash', 'tribute', '31', 'rumor', 'england', 'opinion', 'shop', 'bloody', 'pack', 'camp', 'nigga', 'mass', 'likely', 'lovely', 'water', 'deplorables', 'thurs', 'clear', 'figure', 'burn', 'search', 'anymore', 'count', 'cast', 'compare', 'deserve', 'euthanasia', 'prove', 'artist', 'cute', 'florida', 'student', 'reach', 'itll', 'serious', 'murder', 'accord', 'message', 'not', 'weve', 'nyc', 'alive', 'india', 'cold', 'ride', 'espn', 'hasnt', 'pray', 'weird', 'important', 'pop', 'bowie', 'jong', 'hero', 'door', 'iran', '27th', 'idk', 'floor', 'remain', 'quite', 'transfer', 'voter', 'jordan', 'community', 'fear', 'flight', 'hair', 'gea', 'jr', 'blog', 'dm', 'studio', 'smile', 'rather', 'guide', 'doubt', 'small', 'upset', 'everybody', 'anybody', 'travel', 'briana', 'brexit', 'android', 'comedy', 'grow', 'youve', 'tough', 'miami', '22nd', 'yakubs', 'cnn', 'political', 'enter', 'brilliant', 'policy', 'steelers', 'nba', 'france', 'character', 'carter', 'forever', 'trailer', 'reveal', 'sex', 'mine', 'defend', 'evans', 'english', 'bro', 'crisis', 'position', 'blame', 'injury', 'prayer', 'planet', 'replace', 'isi', 'facebook', 'triple', 'pc', 'homer', 'army', 'choose', 'houston', 'area', 'outside', 'draft', 'amy', 'cheer', 'dakota', 'pipeline', 'middle', 'playing', 'nick', 'raise', 'amateur', 'min', 'theater', 'cuz', 'contact', 'homeopathy', 'grand', 'blast', '27', '29th', 'hotel', 'parent', 'poor', 'europe', 'indian', 'windows', 'battle', 'folk', 'steal', 'holy', 'democrat', 'upgrade', 'gift', 'central', 'session', 'davis', 'internet', 'edition', 'mexico', 'model', 'conference', 'lunch', 'theres', 'whatever', 'jesus', 'ban', 'kenny', 'target', 'hes', 'bye', 'jet', 'devil', 'eu', 'anti', 'justice', 'tax', 'feeling', 'invite', 'cake', 'cross', 'protect', 'lee', 'mar', 'towards', 'thru', 'elect', 'religion', 'hype', 'golf', 'officially', 'printing', 'local', 'tues', 'wild', 'county', '29', 'evil', 'promise', 'ship', 'summerslam', 'role', 'project', 'crush', 'congrats', 'chief', '26th', '28th', 'image', 'senior', 'struggle', 'barcelona', 'carry', 'crowd', 'ash', 'andre', 'wisconsin', 'fix', 'touch', 'key', 'donut', 'ring', '8pm', 'turkey', 'bid', 'weather', 'lucky', 'pain', 'ad', 'muslims', 'rbi', 'idiot', 'fracking', 'island', 'boys', '40', 'warn', 'lil', 'howard', 'captain', 'supporter', 'squad', 'stick', 'except', 'spirit', 'baseball', 'reality', 'refuse', 'dj', 'jump', 'bus', 'andy', 'sky', 'govt', 'somebody', 'threat', 'marry', 'tix', 'tear', 'file', 'beer', 'beast', 'fit', 'moon', 'learning', 'common', 'explain', 'tim', 'knock', 'fund', 'print', 'rank', 'ireland', 'announcement', 'chinese', 'mate', 'youtube', 'manchester', 'champ', 'lord', 'outta', '7pm', 'hahaha', 'breakfast', 'bond', 'brand', 'gig', 'per', 'spur', 'tech', 'anyway', 'copy', 'rugby', 'minister', 'teacher', 'plane', 'board', 'em', 'wtf', 'difference', 'whether', 'bee', 'quote', 'headline', 'toronto', 'lay', 'ohio', 'alright', 'celebration', 'jon', 'xx', 'constitution', '31st', 'website', 'bang', 'golden', 'australia', 'matt', 'highlight', 'ny', 'unless', 'success', 'trial', 'scream', 'cruz', 'clean', 'concern', 'legend', 'coverage', 'daniel', 'smh', 'upcoming', 'piss', 'pair', 'da', 'congress', 'jose', 'female', 'cash', 'cheap', 'study', 'memory', 'jam', 'btw', 'blair', 'wine', 'honor', 'repeat', 'follower', 'manslaughter', 'ruin', 'twice', 'tournament', 'penny', 'focus', 'among', 'energy', 'doctor', 'father', 'program', 'secret', 'nialls', 'chesney', 'worst', 'cinema', 'bat', 'centre', 'option', 'text', 'hart', 'germany', 'shall', 'yea', 'popular', 'drug', 'chill', 'leg', 'pls', 'site', 'terrible', 'bell', 'imma', 'dana', 'unite', 'appearance', 'shut', 'opener', 'th', 'letter', 'smart', 'bout', 'vega', 'military', 'roger', 'out', 'manager', 'jim', 'chart', 'austin', 'although', 'russian', 'fashion', 'shin', 'jongun', 'deadline', 'syria', 'ceo', 'self', 'stock', 'victim', 'compton', 'afraid', 'nobody', 'lakers', 'linux', 'rid', 'yay', 'especially', 'catholic', 'detroit', 'load', 'runner', 'however', 'talent', 'tee', 'education', 'foot', 'luke', 'stewart', 'response', 'fool', 'machine', 'wonderful', 'theyll', 'ridiculous', 'japan', 'french', 'camera', 'health', 'xd', 'stoke', 'ranger', 'suggest', 'vice', 'border', 'purchase', 'admit', 'promote', 'aleppo', 'feed', 'freedom', 'shame', 'el', 'space', 'aka', 'philly', 'truly', 'crack', 'zayns', 'kyle', 'chat', 'storm', 'rooney', 'appreciate', 'skip', 'rate', 'slam', 'jew', 'fourth', 'seek', 'romney', 'alabama', '60', 'direct', 'mix', 'duke', 'praise', 'mess', 'ima', 'shine', 'tip', 'jeremy', 'mistake', 'cook', 'obviously', 'everton', 'waste', 'quick', 'value', 'driver', 'mercy', 'assist', 'pakistan', 'earlier', 'arrest', 'crime', 'sheamus', 'ghost', 'excellent', 'antitrump', 'kentucky', 'winter', 'manage', 'rumour', 'bunch', 'garden', '6pm', 'stein', 'six', 'beauty', 'fancy', 'dumb', 'mtv', 'gt', 'demand', 'handle', 'snap', 'illegal', 'pant', 'mission', 'patriot', 'korea', '6s', 'delay', 'roman', 'regard', 'trust', 'ace', 'cat', 'legal', 'shore', 'flag', 'actual', 'effort', 'beyond', 'user', 'square', 'declare', 'ex', 'pink', 'statement', 'evening', 'gandhi', 'bench', 'data', 'cloud', 'credit', 'sort', 'university', 'innocent', 'advance', 'jail', 'excuse', 'type', 'tomorrows', 'hollywood', 'spread', 'tire', 'reign', 'primary', 'kiss', 'bay', 'jones', 'sec', 'playoff', 'altrightists', 'everyday', 'dollar', 'cousin', 'daughter', 'fat', 'grant', 'contest', 'shock', 'ignore', 'pancake', 'politics', 'nearly', 'canada', 'vamp', 'teach', 'drake', 'total', 'product', 'better', 'despite', 'contract', 'harrison', 'whoever', 'current', 'recount', 'somewhere', 'van', 'possibly', 'similar', 'syrian', 'lt3', 'sir', 'defense', 'hed', 'device', 'arena', 'foreign', 'design', 'husband', 'rob', 'request', 'freak', 'brain', 'rating', 'promo', 'ten', 'berto', 'smoke', 'several', 'attention', 'reject', 'cowboy', 'odds', 'factor', 'ronda', 'map', 'earn', 'fell', 'mother', 'fb', 'pageant', 'co', 'twin', 'swear', 'pitcher', 'liverpool', 'shell', 'lyric', 'river', 'shout', 'grey', 'allstar', 'confuse', 'hilarious', 'sexy', 'striker', 'iii', 'elvis', 'scotland', 'africa', 'grader', 'union', 'pa', 'premiere', 'journey', 'oil', 'raider', 'trick', 'max', 'epic', 'grab', 'utd', 'alex', 'raven', 'richard', 'discover', 'longer', 'cabinet', 'gary', 'donate', 'cd', 'emily', '500', 'speed', 'register', 'labour', '1d', 'reminder', 'sometimes', 'improve', 'sanchez', 'weeknd', 'staff', 'address', 'violence', 'convince', 'rd', 'adam', 'table', 'abt', 'marvel', 'deny', 'reading', 'newcastle', 'charles', 'dangerous', 'crap', 'iowa', 'california', 'effect', 'era', '2013', 'bright', 'own', 'mail', 'honest', 'phillies', 'yep', 'general', 'incredible', 'apply', 'warm', 'decent', 'smash', 'eastern', 'interesting', 'rom', 'net', 'andrew', 'independence', 'pump', 'guardian', 'congratulation', 'wit', 'reaction', 'lack', 'youd', 'shift', 'candy', 'brooklyn', 'bridge', 'cole', 'deliver', 'spent', 'favourite', 'dave', 'fam', 'singer', 'regret', 'citizen', 'rookie', 'bruce', 'trail', 'wing', 'upon', 'kelly', 'trash', 'msg', 'exist', 'awful', 'involve', 'express', 'code', 'workshop', 'recall', 'completely', 'ft', 'size', 'jazz', 'suffer', 'altright', 'global', 'greek', 'midnight', 'af', 'period', 'spain', 'broadcast', 'mobile', 'port', 'tate', 'competition', 'goin', '9pm', 'playstation', 'owner', 'pretend', 'governor', 'los', 'apart', 'tbh', 'fresh', 'theresa', 'pumpkin', 'normal', 'aid', 'mouth', 'gaga', 'felt', 'training', 'recent', 'globe', 'angel', 'rush', 'liar', 'conflict', 'religious', 'bird', 'item', 'emotional', 'lake', 'fbi', 'ugly', 'agent', 'morgan', 'ultimate', 'mlb', 'qb', 'gym', 'brit', 'belt', 'plenty', 'knee', 'trouble', 'offensive', 'inspire', 'basically', 'heres', 'hook', 'orange', 'abc', 'loud', 'supply', 'vita', 'lift', 'yard', 'lock', 'ep', 'glass', 'magazine', 'sm', 'commercial', 'aim', 'opponent', 'avoid', 'extend', 'ah', 'preseason', 'costume', 'within', 'billy', 'egypt', 'argue', 'personal', 'jeff', 'rap', 'fav', 'benefit', 'section', 'harvey', 'apologize', 'directioners', 'bullshit', 'screw', 'dvd', 'chicken', 'goodnight', 'politician', 'mall', 'wave', 'holm', 'actor', 'appeal', 'walkoff', 'spanish', 'spending', 'petition', 'bieber', 'risk', 'pat', 'correct', 'watching', 'root', 'soldier', 'boston', 'hide', 'jill', 'minaj', 'worldwide', 'nigerian', 'shouldnt', 'click', 'bale', 'quality', 'color', 'poster', 'rapper', 'limit', 'chair', 'conversation', 'impossible', 'jean', 'nazi', 'cbs', 'noon', 'francis', 'happiness', 'building', 'prison', 'tea', 'bos', 'nose', 'lmfao', '75', 'gate', 'nd', 'slow', 'perhaps', 'overall', 'crew', 'argument', '2011', 'boyfriend', 'clash', 'snow', 'capital', 'mi', 'process', 'drag', 'ugh', 'civil', 'airport', 'grace', 'cop', 'fellow', 'juice', 'retweet', 'carpet', 'cancer', 'director', 'increase', 'annoy', 'thankful', 'nc', 'worse', 'wind', 'schumer', 'soccer', 'everywhere', 'scar', 'movement', 'gain', 'village', 'heavy', 'introduce', 'madison', 'boo', 'joseph', 'b4', 'majority', 'leak', 'broken', 'fest', 'whos', 'saudi', 'drama', 'italian', 'realise', 'favor', 'supreme', 'gee', 'flip', 'exclusive', 'recently', 'unveil', 'economy', 'hire', 'living', 'master', 'corner', 'quit', 'hd', 'valley', 'division', 'shake', 'pressure', 'kirk', 'cowboys', 'library', 'finger', 'willing', 'nickis', '63', 'fee', 'impact', 'grammy', 'nite', 'jimmy', 'tampa', 'nah', '200', 'saint', 'opportunity', '45', 'avril', 'rudd', 'singapore', 'irish', 'provide', '5pm', 'onto', 'oppose', 'ass', 'remove', 'ray', 'disgust', 'birdie', 'danny', 'vancouver', 'born', 'software', 'mood', 'aaron', 'mum', 'script', '730', 'potential', 'console', 'palestinian', 'marathon', 'honey', '10am', 'station', 'mitt', 'wedding', 'pizza', 'chase', 'tryna', 'clip', 'research', 'angeles', 'swing', 'natural', 'solid', 'hopeful', 'toy', 'faith', '2020', 'evidence', 'fm', 'discuss', 'bias', 'lesson', 'pool', 'northern', 'taste', 'false', 'error', 'somehow', 'drunk', 'potus', 'musical', 'wrestle', 'legendary', 'regular', 'zone', 'lewis', 'rahul', 'wrap', 'canadian', 'simply', 'wo', 'bull', 'respond', 'collection', 'amanda', 'bash', 'insane', '33', 'forgot', 'relate', 'voting', 'lane', 'ross', 'itunes', 'path', 'rn', 'clearly', 'mariner', '2017', 'wayne', 'heaven', 'td', 'retweeted', 'vampire', 'bolton', 'criminal', 'boot', 'plant', 'certainly', 'dublin', 'ca', 'sentence', 'friends', 'documentary', 'silva', 'example', 'tennis', 'idc', 'mile', 'prefer', 'recommend', 'top20', 'usually', 'disagree', 'finale', 'fifa', 'presidency', 'prize', 'district', 'guarantee', 'otherwise', 'survive', 'weekly', 'famous', 'jennifer', 'situation', 'qualify', 'suit', 'upload', 'instagram', 'delivery', 'wichita', 'mt', 'pga', 'society', 'greet', 'rodgers', 'kendrick', 'discus', 'calendar', 'aldo', '2014', 'secretary', 'sin', 'ii', 'tanzania', 'advantage', 'european', 'quiet', 'cont', 'greensboro', 'reply', 'complain', 'disney', 'punch', 'horrible', 'charity', '10pm', 'prediction', 'sa', 'cc', 'thy', '70', 'spoiler', 'math', 'revolution', 'diary', 'buzz', 'budget', 'philippine', 'mostly', 'mary', 'unfortunately', 'rumble', 'barack', 'hip', 'theyve', 'wrestler', 'gear', 'bump', 'dick', 'surely', 'sandy', 'mp', 'apology', 'massive', 'chocolate', 'tag', 'celtic', 'resume', 'legacy', 'male', 'kitchen', 'computer', 'oscar', 'mumbai', 'shopping', 'trayvon', 'djokovic', 'shouldve', 'elite', 'streak', 'eli', 'pr', 'beatles', 'sundays', 'santos', 'niggas', 'server', 'universe', 'display', 'consecutive', 'boom', 'amount', 'sponsor', 'thinking', 'blind', 'si', 'verse', 'agreement', 'bore', 'islamic', 'suspect', 'private', 'joy', 'sprint', 'slide', 'equal', 'britain', 'civilian', 'ellen', 'scary', 'con', 'scandal', 'cyborg', 'twilight', 'sc', 'playlist', 'rep', 'skin', 'castle', 'beyonces', 'wash', 'greece', 'zombie', 'fantasy', '32', 'mini', 'silent', 'culture', 'noel', 'pose', 'angry', 'spieth', 'shade', 'authority', 'apps', 'suspend', 'active', 'obsess', 'fully', 'p', 'anywhere', 'development', 'lawyer', 'usual', 'murphy', 'israeli', 'tree', 'steven', 'sneak', 'partner', 'theory', 'smell', 'australian', 'pt', 'ali', 'lounge', 'et', 'thine', 'reform', 'fucking', 'lamar', 'nail', 'roast', 'buddy', 'fry', '90s', 'reduce', 'restaurant', 'route', 'republic', 'economic', 'gas', 'sight', 'outfit', 'horse', 'bother', '35', 'degree', 'seed', 'william', 'brazil', 'investigate', 'modern', 'random', 'stats', 'def', 'victor', '11am', 'dexter', 'simple', 'pub', 'aware', 'plate', 'weed', '1pm', '9am', 'none', 'bible', 'nasty', 'settle', 'asleep', 'dirty', 'homework', 'adidas', 'comic', 'nope', '1000', 'tyler', 'escape', '80s', 'psg', 's6', 'heck', 'youth', 'fault', 'kanes', 'meme', 'hockey', 'german', 'personally', 'seven', 'fuckin', 'm', 'throwback', 'girlfriend', 'pre', 'cap', 'information', 'democratic', 'vp', 'publish', 'fenway', 'rider', 'anatomy', 'immigrant', 'federal', 'ko', 'indeed', 'cricket', 'cuban', 'asap', 'feud', 'milton', 'weight', 'anthony', 'exit', 'seal', 'flop', 'lit', 'laptop', 'guitar', 'told', 'exchange', 'senate', 'mnf', 'delicious', 'backstage', 'customer', 'bryants', 'del', 'shoe', 'bottle', 'truck', 'keith', 'vow', 'gamble', 'paint', 'mikel', 'stress', 'est', 'flat', '3pm', 'nebraska', 'pres', 'dig', 'swap', 'knox', 'rival', 'entertainment', 'easily', 'dictator', 'foam', 'cleveland', '360', 'agenda', 'vegas', 'auburn', 'inter', 'bama', 'cheat', 'tank', 'boehner', 'starter', 'plot', 'pregnant', 'fame', 'adult', 'opening', 'meek', 'skill', 'keynes', 'qtr', 'soooo', 'exam', 'predict', '51', 'funeral', 'assume', 'switch', 'audience', 'en', 'pal', 'destination', 'robert', 'tonite', 'margarita', 'independent', 'fa', 'dawn', 'regime', 'directly', 'metal', 'eng', 'sub', 'approve', 'mario', '64', 'presley', 'relationship', 'appoint', 'soundtrack', 'weak', '99', 'loan', 'propose', 'grammys', 'butt', 'souls', 'lp', 'jealous', 'peter', 'amend', 'terry', 'ceremony', 'western', 'basketball', 'neighborhood', 'produce', 'fish', 'alot', 'superbowl', 'proof', 'mockingbird', 'mlk', 'decade', 'growth', 'propaganda', 'wrestlemania', 'neighbor', 'jerry', '84', 'motorola', 'nut', 'protection', 'villa', 'mvp', 'left', '630', 'colt', 'hurricane', 'location', 'christians', 'novel', 'drinking', 'panda', 'solution', 'boxer', 'georgia', 'versus', 'split', 'council', 'connect', 'charger', 'killer', 'spin', 'collapse', 'bayern', 'rebel', 'friendly', 'bike', 'nomination', 'holly', 'moron', 'rant', 'smartphone', 'depend', 'wikileaks', 'donation', 'sigh', 'damage', 'negative', 'achieve', 'academy', 'knew', 'convert', 'uncle', 'rodeo', 'brian', 'ton', 'nuclear', 'range', 'lazy', 'hearing', 'hundred', 'nuit', 'blanche', 'combine', 'equality', 'reference', 'diego', 'retire', 'select', 'ham', 'announces', 'parker', 'stephen', 'athlete', 'cure', 'weapon', 'hug', 'rare', 's', 'swamp', 'amsterdam', 'gorgeous', 'denver', 'thousand', '2pm', 'stretch', 'buck', 'pit', 'aw', 'terror', 'christ', 'meal', 'ps3', 'wreck', 'radical', 'franchise', 'euro', 'represent', 'thunder', 'bogey', 'highly', 'lad', 'officer', 'vine', 'awareness', 'reserve', 'corbyn', 'mick', 'zero', 'alt', 'melanias', 'certain', 'par', 'legit', 'operation', 'disappoint', 'joint', 'activist', 'background', 'atl', 'spectre', 'venue', 'hmm', 'delete', 'dope', 'profile', 'language', 'asia', 'column', 'rouseys', 'flash', 'dem', 'blank', 'excitement', 'choke', 'commit', 'expose', 'accident', 'fyi', 'license', 'everyones', 'shadow', 'brewer', 'kardashian', 'abuse', '52', 'chamber', 'christianity', 'organization', 'sookie', 'christie', 'rape', 'assault', 'prob', 'physic', 'fl', 'scoop', 'often', 'edit', 'nine', 'zimmerman', 'anarchy', 'militant', 'wh', 'selection', 'secure', 'comeback', 'relevant', 'forgive', 'racism', 'rocket', 'strategy', 'dump', '54', 'recognize', 'monster', 'healthy', 'preorder', 'tennessee', 'absolute', 'bachelor', 'treatment', 'volleyball', 'mic', 'felicia', 'harris', 'childrens', 'sunderland', 'coz', 'hurry', 'mccarthy', 'web', 'accuse', 'minority', 'robertson', 'content', 'expert', 'birth', '90', 'feat', 'activity', 'lover', 'bullet', 'label', 'patient', 'vitali', 'industry', 'neymar', 'bjp', 'disappointed', 'nz', 'successful', 'rat', 'desire', 'responsible', 'leadership', 'luther', 'meant', 'santorum', 'tape', 'downtown', 'exhibition', 'merlin', 'threaten', 'atlanta', 'bonus', 'cell', 'nl', 'relax', 'referendum', 'pj', 'alien', 'previous', 'sue', 'rocky', 'tried', 'iraqi', 'ape', 'droid', 'katie', 'crown', 'signing', 'mohamed', 'reader', '300', 'mound', 'guard', 'strength', 'influence', 'thrill', 'platform', 'flee', 'mayor', 'deck', 'bradley', 'replay', 'junior', 'pin', 'suspension', '400', 'phase', 'coast', 'ct', 'nj', 'reporter', 'hank', 'mitch', 'warren', 'vip', 'genius', 'tshirt', 'wi', 'deserves', '61', 'troll', 'refer', 'statue', 'um', 'skype', 'kit', 'il', 'aj', 'gunna', 'thin', 'trap', 'traffic', 'madness', 'heavyweight', 'discussion', 'dickens', '80', 'digital', 'raleigh', 'tottenham', 'baltimore', 'obvious', 'falcon', 'jess', 'melissa', 'professor', 'wide', 'lorax', 'vacation', 'tight', '41', 'mexican', 'lloyd', 'worship', 'todd', 'nervous', 'calm', '02', 'cheese', 'shield', 'icymi', 'hangout', 'klitschko', 'tina', 'stan', 'blake', 'tap', 'troy', 'balance', 'gonzaga', 'science', 'reportedly', 'sadly', 'denzel', 'approach', 'progress', 'chapter', 'boruto', 'jonathan', 'bug', 'factory', 'require', 'belief', 'duty', 'painter', 'anthem', 'powerful', 'roof', 'ab', 'plz', 'greatest', 'nova', 'firework', 'videos', 'sean', 'century', 'verlander', 'desperate', 'connection', '42', 'trophy', 'sent', 'superstar', 'remix', 'carling', 'cate', 'hows', 'gilmore', 'odd', 'seattle', 'condemn', 'sock', 'patrick', 'affect', 'vision', 'bite', 'memorial', 'iraq', 'fraud', 'non', 'injure', 'sea', 'theyd', 'mill', 'ignorant', 'hood', 'swansea', 'arabia', 'skate', 'democracy', 'taco', 'brook', 'alert', 'idol', 'valor', 'infinite', 'buying', 'athens', 'peak', 'lumia', 'executive', 'harden', 'shed', 'senator', '1030', 'aussie', 'hahahaha', 'robbie', 'fort', 'princess', 'fever', 'leo', 'lobby', '34', 'vid', 'mid', 'kremlin', 'climate', 'camila', 'priority', 'uh', 'forest', 'aside', 'cundiff', 'jake', '62', 'pledge', 'spark', 'intend', 'sf', 'delhi', 'xi', 'winans', 'pavol', 'besides', 'wheres', 'mo', 'nbc', 'controversy', 'maria', 'hunt', 'dan', 'fey', 'liberty', 'thatll', 'eliminate', 'gather', 'consumer', 'knowledge', 'nugget', 'basket', 'jungle', 'silence', 'dre', 'deus', 'kung', 'fu', 'booth', 'jacob', 'tower', 'exact', 'mental', 'loser', 'founder', 'dare', 'dwts', 'dominate', 'scout', 'flow', 'migrant', 'warrior', 'colbert', 'dry', 'liga', 'mysterious', 'bionic', 'dis', 'mma', 'taker', 'romeo', 'pacific', 'writer', 'ios', 'stack', 'hmu', 'expo', 'related', 'raid', 'failure', 'chad', 'difficult', 'couch', 'tonga', 'develop', 'billion', 'khan', 'asshole', 'hitter', 'slot', 'bow', 'regardless', 'appointment', 'inform', '911', 'violate', 'pst', 'ai', 'cl', '2008', 'farm', 'snake', 'inc', 'shark', 'slip', 'loose', 'profit', 'imo', 'yell', 'patch', 'fatal', 'tha', 'urge', 'temple', 'terrorism', 'ako', 'native', 'sack', 'offense', 'jerusalem', 'package', 'reveals', 'tattoo', 'suddenly', 'goodbye', 'korean', 'tide', 'hindu', 'bruh', 'advice', 'throughout', 'prospect', 'iv', 'awkward', 'ac', 'matchup', 'committee', 'indiana', 'bangladesh', 'fandom', 'pace', 'entry', 'argentina', 'psn', 'curse', 'hint', 'fifth', 'afford', 'yrs', 'wrestling', 'hater', 'nominee', 'knight', 'alarm', 'lamb', 'mint', 'pure', 'participate', 'hokage', 'endorse', 'wouldve', 'whip', 'typical', 'triangle', 'clemson', 'fx', 'johnny', 'mainstream', 'whilst', 'afc', 'meanwhile', 'corruption', 'wrigley', 'tumblr', 'beef', 'u2s', 'inbetweeners', 'mourinho', 'funding', 'technology', 'ate', '92', 'huntsman', 'vehicle', 'suicide', 'az', '55', 'morsi', 'ian', 'caught', 'presentation', 'wanted', 'guilty', 'mommy', 'woo', 'tease', 'brief', 'tired', 'antonio', 'surge', 'hack', 'suggestion', 'phil', 'bryan', 'shower', 'mubarak', 'describe', 'programme', 'larry', 'inch', 'belgium', 'frame', 'turkish', 'accessory', 'multiple', 'n9', 'thomas', 'twist', 'african', 'santa', 'intro', 'fascist', 'boise', 'minnesota', 'taiwan', 'boss', 'hrc', 'bcs', 'reward', 'trumps', 'diamond', 'sandwich', 'hospital', 'kate', 'explode', 'dahlia', 'mighty', 'mk', 'shape', 'ford', 'daddy', 'collect', 'buffalo', 'rematch', 'chester', 'chip', 'pittsburgh', 'reporting', 'pleasure', 'gordon', '85', 'advise', 'essay', 'sang', 'silly', 'battery', 'pocket', 'sooo', 'sob', 'pathetic', 'cam', 'deport', 'cafe', 'clue', 'babe', 'plaza', 'gagner', 'brace', 'strange', '53', 'troop', 'goat', 'okami', 'speaking', 'yup', 'unlike', 'deed', 'itd', 'stole', 'newspaper', 'clothes', 'bust', 'monument', 'material', 'hawk', 'worker', 'niner', 'strip', 'clerk', 'rehab', 'cent', 'nationalist', 'relation', 'cenas', 'lawn', 'hammond', 'jewish', '7am', 'department', 'keynote', 'louisiana', 'cubs', 'anyways', 'addition', 'humanity', '8am', 'compete', 'wizard', 'touchdown', 'wyatt', 'freeze', 'lower', 'spring', 'sen', 'violent', 'opposite', 'chanel', 'controller', 'stuck', 'anonymous', 'hail', 'soo', 'panel', 'corrupt', 'packer', 'ap', 'blanchett', 'rio', 'rb', 'ps', '530', 'mta', 'shitty', 'disgrace', 'anime', 'maker', 'defensive', 'palace', '65', 'immediately', 'possibility', 'entertain', 'hoverboard', '4pm', 'tx', 'dragon', 'embarrass', 'lebron', 'se', 'malik', 'ss', 'hitler', 'prep', 'glorious', 'strawberry', 'slightly', 'quarterback', 'flynn', 'muhammad', 'await', 'agency', 'calgary', 'cartoon', 'mama', 'beta', 'supremacist', 'badly', 'client', 'stamp', 'impressive', 'edgar', 'ashamed', 'insult', 'divine', 'lsu', 'clock', 'java', 'tl', 'charlotte', 'ameen', 'nikki', 'average', 'transition', 'enemy', 'debt', 'confidence', 'lucie', 'cyrus', 'nadal', 'las', 'ffs', 'witness', 'maryland', 'surprised', 'discount', 'fundraiser', 'slap', 'preach', 'di', 'expectation', 'vernau', 'solar', 'divorce', 'dedicate', 'experiment', 'frankie', 'chancellor', 'mob', 'hw', 'convict', 'arizona', 'irony', 'lucas', 'tiebreak', 'herald', 'ant', 'cable', 'nfc', 'lately', 'foul', 'piper', 'comfortable', '2d', 'wale', 'mcdonalds', 'editor', 'limited', 'belong', 'reid', 'shipping', 'diva', 'fran', 'lolla', 'bucket', 'suarez', 'eh', 'wise', 'rent', 'grohl', 'ron', 'sum', 'comparison', 'tackle', 'sugar', 'scum', 'speaker', 'ppv', 'insider', 'ians', 'critical', 'barely', 'leaf', 'attitude', 'salt', '43', 'ruling', 'engage', '00', 'semifinal', 'midfielder', 'audio', 'echo', 'dl', 'gore', 'sore', 'billboard', 'nominate', 'wipe', 'aladdin', 'paterno', 'arrival', 'professional', 'vanessa', 'couldve', 'string', 'capello', 'concept', 'jupiter', 'unable', 'emotion', 'oo', 'alan', 'gut', 'bum', 'employee', 'roundup', 'privilege', 'golfer', 'cliff', 'cite', 'communist', 'vh1', 'inspiration', 'sunny', 'viewer', 'happens', 'commentary', 'wheel', 'drew', 'divide', 'jackie', 'tht', 'clasico', 'danica', 'impression', 'werent', 'worthy', 'brutal', 'stab', 'nature', 'watched', 'author', 'attractive', 'carlton', '5sos', 'opposition', 'obamacare', 'venezuelan', 'played', 'region', 'francisco', 'diet', 'expensive', 'stevie', 'paradise', 'lin', 'homecoming', 'defender', 'psa', 'consist', 'fave', 'status', 'censor', '95', 'rita', 'douglas', 'positive', 'countdown', 'glory', 'justins', 'submit', 'jk', 'uni', 'closer', 'clown', 'dislike', 'gap', 'faster', 'encounter', 'nh', 'makeup', 'lt', 'hammer', 'nhl', 'command', 'fyf', '93', 'aston', 'nightclub', 'ensure', 'broadcaster', 'resign', 'ally', 'making', 'population', 'sake', 'alltime', 'demitra', 'obsession', 'subject', 'designer', 'rim', 'lax', 'ariana', 'thus', 'pilot', 'lennon', 'embrace', 'postpone', 'podcast', 'me', 'segment', 'journalist', 'nxt', 'kickoff', 'recovery', 'chant', 'significant', 'disappear', 'winning', 'ninja', 'administration', 'rubio', 'arrow', 'advocate', 'investigation', 'crow', 'explore', 'recap', 'wherever', 'jun', 'ranking', 'subtitle', 'mil', 'critic', 'nightmare', 'eventually', 'selfie', 'diss', 'dubai', 'ba', 'uniform', 'mc', 'tomb', 'binge', 'spell', 'legalize', 'operate', 'core', 'miguel', 'solve', 'leftists', 'sink', 'toni', 'jericho', 'jacket', 'beg', '3b', 'glasgow', 'charm', 'sheen', 'te', 'bella', 'mock', 'ave', 'destiny', 'donuts', 'responsibility', 'unit', 'trey', 'edmonton', 'wyndham', 'alternative', 'lemon', 'minor', 'disaster', 'msm', 'curious', 'sacrifice', 'colour', 'brunch', 'courtesy', 'billionaire', 'lap', 'crystal', 'dy', 'hong', 'kong', 'producer', 'samsungs', 'category', 'resident', 'gotten', 'spare', 'got', 'verizon', 'complaint', 'dar', 'universal', 'bastard', 'hella', 'familiar', 'urban', 'fab', 'outcome', 'garbage', 'tfi', 'prof', 'condition', 'shooting', 'equivalent', 'nigerias', 'production', 'hypocrisy', 'exo', 'incident', 'assange', 'wa', 'criticism', '2000', 'meredith', 'moral', 'alexander', 'aaliyah', 'rig', 'hudson', 'unbreakable', 'cypress', 'brave', 'mirror', 'blessing', 'logic', 'pacer', 'showing', '12pm', 'nickname', 'domestic', 'extremely', 'workout', 'analysis', 'clipper', 'lame', 'distance', 'speculation', 'hawaii', 'tablet', 'campus', 'punish', 'auto', 'separate', 'achievement', 'breitbart', 'lifetime', 'erdogans', 'vma', 'prez', 'incredibly', 'jagger', 'luv', 'poland', 'comp', 'protester', 'freshman', '88', 'historic', 'perspective', 'bailout', 'zumba', 'juve', 'tragedy', 'huh', 'expand', 'delight', 'brawl', 'carlos', 'elimination', 'hike', 'pg', 'lauren', 'kingdom', 'eve', 'poehler', 'cult', 'breath', 'sequel', 'cosell', 'income', 'tail', '11pm', 'b', '120', 'hmmm', 'derrick', 'heal', 'contribution', '150', 'scorer', 'ne', 'indonesian', 'collins', 'easter', 'bae', 'determine', 'serie', 'shuffle', 'retreat', 'thx', '44', 'guys', 'omfg', 'spy', 'horror', 'abu', 'lawsuit', 'rey', 'apr', '600', 'tucker', 'goodness', 'rainy', 'controversial', 'cherry', 'harm', 'vengeance', 'ty', 'hp', 'robin', 'log', 'blaze', 'surgery', 'sweden', 'marie', 'empire', 'wet', 'aap', 'adventure', 'bruno', 'penn', '1993', 'adorable', '76', 'saturdays', 'fc', 'magical', 'overturn', 'filthy', 'safety', 'sweat', 'terra', 'neither', 'r', 'salute', 'jays', 'spencer', 'oakland', 'nashville', 'shoulder', 'bb', 'journal', 'doug', 'improvement', 'becomes', 'sayin', 'nash', 'doc', 'attn', 'nwa', 'bury', 'eight', 'signature', 'slowly', 'rescue', 'nazis', 'soft', 'closing', 'fitness', 'meat', 'blonde', '48', 'puzzle', 'eclipse', 'strand', 'desk', 'bel', 'gf', 'yushin', 'mercury', 'mizzou', 'upper', 'maya', 'volunteer', 'beside', 'cougar', 'toward', 'reset', 'kc', 'teammate', 'cart', 'carrie', 'awake', 'spotify', 'addict', 'perfectly', 'lexington', 'repeal', 'qualifier', 'islamist', 'wr', 'passport', 'amen', 'coincidence', 'chillin', 'assad', 'o', 'ce', 'dome', 'trent', 'conrad', 'honda', 'mayweathers', 'acoustic', 'wvu', 'nikon', 'heel', '1130', 'technically', 'prop', 'basis', 'nowhere', 'mode', 'gutted', 'suite', 'daytona', 'inner', 'sonys', 'greenville', 'duck', 'educate', 'venezuela', 'footage', '47', 'mask', 'selena', 'messis', 'cooper', 'sexual', 'ear', 'collar', 'welfare', 'boycott', 'dat', 'individual', '01', 'finance', 'boat', 'percent', 'channing', 'allege', 'anytime', 'harold', 'din', 'sevilla', 'brings', 'tweeting', '700', 'courtney', 'indie', 'nap', 'yellow', 'dual', 'graphic', 'punk', 'dust', 'hustle', '2run', 'basic', 'drum', '250', 'keeper', 'resolution', 'hud', 'sbs', 'gossip', 'columbus', 'nobel', 'tiny', 'crook', 'miller', 'acc', 'presence', 'atheist', 'tentatively', 'harmony', 'irene', 'eager', 'anger', 'gras', 'stance', 'luis', 'married', 'traitor', 'cba', 'flood', 'parliament', 'metropcs', 'po', 'bounce', 'honour', 'thursdays', 'lb', 'ang', 'sings', 'sabbath', '2day', 'cambridge', 'establish', 'singing', 'fate', 'retard', 'odom', 'murdoch', 'showtime', 'smackdown', 'michigan', 'chain', 'stake', 'peyton', 'bath', 'revenge', 'peek', 'remembers', 'newly', 'lana', 'demo', 'watney', 'asian', 'moderate', 'hung', 'candle', 'strikeout', 'chemical', 'donor', 'sopa', 'television', 'bio', 'revise', 'criticize', 'occupy', 'uber', 'stir', 'bully', 'peep', 'papa', 'brandon', 'cm', 'gb', 'tradition', 'norwich', 'uncharted', 'duo', 'virgin', 'tebow', 'miliband', 'scratch', 'sb', 'adebayor', 'careful', 'contention', 'valid', 'forum', 'pixel', 'lean', 'lefty', 'premium', 'bot', 'edinburgh', 'boyz', 'elizabeth', 'welp', 'tucson', 'surrender', 'stranger', 'otra', 'comfort', 'baron', 'sta', 'virtual', 'ortiz', 'react', 'nationwide', 'monroe', 'olympic', 'eddie', 'haye', 'quiz', 'foster', 'sample', 'rough', 'nude', 'therefore', 'capt', 'underwood', 'kasabian', 'carroll', 'hoe', 'tworun', 'h', 'superb', 'roster', 'obi', 'milk', 'djt', 'availability', 'eviction', 'entrance', 'olive', 'chili', 'turner', 'tribe', 'corp', 'richardson', 'savage', 'cbb', 'saha', '94', 'neil', 'testing', 'reschedule', 'neck', 'reunite', 'twenty', 'hunter', 'adele', 'ahhh', 'http', 'badger', 'pi', 'engine', 'ni', 'ajax', 'speaks', 'chapel', 'explanation', 'unique', 'mat', 'rex', 'waterloo', 'friendship', 'intense', 'signal', 'unity', 'slaughter', 'sympathy', 'awhile', 'peaceful', 'ferry', 'drain', 'autograph', 'execute', 'commitment', 'gtgt', 'michel', 'prevent', 'dixie', 'justify', 'sim', 'grill', 'anchor', 'borno', 'miesha', 'hm', 'ram', 'tatum', 'jerk', 'financial', 'ability', 'gervais', 'atm', 'remark', 'os', 'found', 'thug', 'simcity', 'insist', 'whistle', 'roar', 'careless', 'empty', 'unknown', 'ego', 'leicester', 'scan', '36', 'bitter', 'giveaway', 'vibe', 'isner', 'thur', 'montreal', 'promotion', 'personality', 'richards', 'fed', 'anfield', 'stag', 'lecture', 'initiative', 'lopez', 'duet', 'float', 'baylor', 'enrique', 'healthcare', 'pogba', 'concord', 'boris', 'combo', 'myth', 'viola', 'brought', 'scientist', 'pipa', 'gosh', 'pad', 'sand', 'wildcat', 'necessary', 'bayer', 'whenever', 'tokyo', 'stroke', 'defence', 'cycle', 'chick', 'gettin', 'saga', 'performs', 'monsantos', 'malcolm', 'franklin', 'exciting', 'cardinal', '46', 'rivera', 'audition', 'ip', 'mosque', 'sometime', 'unreal', 'olympics', 'cb', 'jus', 'starkville', 'noise', 'marco', 'egg', 'deadpool', 'tan', '930', 'feast', 'clutch', '10000', 'depress', 'alliance', 'coalition', 'measure', 'chavez', 'prepared', 'spice', 'orlando', 'ky', 'mixtape', 'specific', 'allegedly', 'giffords', 'hatch', 'southern', '1971', 'mendes', 'iced', 'interpret', 'dhabi', 'resource', 'prisoner', 'prolly', 'cameo', 'strait', 'lorenzo', 'illegals', 'a1', 'annulment', 'zap', 'witsel', 'twat', '66', 'emmanuel', 'associate', 'proper', 'maidens', 'federers', 'sunshine', 'davos', 'writing', 'plead', 'poet', 'priest', 'prosecutor', 'primetime', 'britney', 'absence', 'progressive', 'rosie', 'episodes', 'pastor', 'carolina', 'tale', 'sydney', 'niger', 'baptist', 'circle', 'liked', 'aniston', 'aww', 'den', 'dot', 'manga', 'vogue', 'ga', 'taxpayer', 'teaser', 'pl', 'eg', 'wembley', 'dirt', 'eleanor', 'renew', 'ag', 'wiki', 'ami', 'kendall', 'popcorn', 'preparation', 'deca', 'blaines', 'abandon', 'cst', 'xxx', 'massage', 'cow', 'colin', 'patty', 'henson', 'oklahoma', 'mackem', 'eligible', '2009', 'ritz', 'op', 'diablo', 'install', 'tall', 'management', 'hulu', 'aa', 'cali', 'bundle', 'grandma', 'cohens', 'pot', 'task', 'monica', 'proposal', 'selma', 'illegally', 'retail', 'menu', 'destruction', 'weigh', 'groundhog', 'geas', 'lynch', 'investment', 'bailey', 'devon', 'worlds', 'intervention', 'kindly', 'toby', 'rampage', 'spiritual', 'mystery', 'lgbt', 'tempt', 'semi', 'camilla', 'stare', 'referee', 'ie', 'springsteen', 'kfc', 'nandito', 'emma', 'innovation', 'lab', 'unbroken', 'marketing', 'storage', 'cannabis', 'backwards', 'prior', 'disturb', 'cuddle', 'cara', 'frm', 'bathroom', 'oliver', 'minneapolis', 'niece', 'variety', 'acquire', 'assure', 'gang', 'traditional', 'cebu', 'romance', 'gampel', 'owens', 'pac', 'villasboas', 'confirms', 'presidentelect', 'nicolas', 'peterson', 'pitching', 'rudy', 'perkins', 'berkmar', 'soak', 'naked', 'depth', 'er', 'originally', 'oops', 'sooooo', 'hav', 'faint', 'vladimir', 'approval', 'conduct', 'biebers', 'pedro', 'monta', 'spike', 'sacramento', 'para', 'dandy', 'reagan', 'genuinely', 'mason', 'whoop', 'mersey', 'socialist', 'talented', 'pet', 'pig', 'jury', 'narrative', 'medicine', 'ideal', '830', 'criterion', 'tavern', 'toss', 'bare', 'owe', 'plea', 'consequence', 'simon', 'gadkari', 'mayo', 'unofficially', 'housing', 'cope', 'wire', 'nest', 'estate', 'no1', 'iggy', 'rory', 'julian', 'pottstown', 'scam', 'reckon', 'representative', 'favour', 'scrimmage', 'unfollow', 'henry', 'fairfax', 'siberia', 'whose', 'hoffman', 'sd', 'dwight', 'extremist', 'woohoo', 'varitek', 'homie', 'mannequin', 'rafa', 'roxy', 'iguana', 'fade', 'bold', 'flatbush', 'granite', 'toe', 'jayalalithaa', 'brad', '70s', 'contain', 'ref', 'somalia', 'tommy', 'distract', 'frog', 'hog', 'eminem', 'puppy', 'teddy', 'borrow', 'sweep', 'buhari', 'manny', 'nuke', 'forecast', '1200', 'quran', 'talkin', 'casual', 'ponting', 'meryl', 'harrys', 'purim', 'alongside', 'impress', 'goodell', 'matinee', 'dak', 'icon', 'bought', 'mixed', 'istep', 'punishment', 'invasion', 'constitutional', 'todays', 'dinosaur', 'sweetheart', 'mavs', 'melt', 'panini', '72', 'spoil', 'invade', 'webb', 'tehran', 'morton', 'vessel', 'clooney', 'seagal', 'mountain', 'texted', 'hungry', 'warehouse', 'espanyol', 'fabio', 'mosul', 'diaz', 'teeth', 'unbelievable', 'indianapolis', 'rih', 'cobains', 'reasonable', 'iebc', 'application', 'woke', 'goon', 'quickly', 'retain', 'wilson', 'k', 'notebook', 'dang', 'admire', 'fr', 'rsvp', 'cultural', 'drexel', 'pulse', 'hrt', 'firm', 'condolence', 'woot', 'reservation', 'kickball', 'teenage', 'jayzs', 'hollande', 'dozen', 'lem', 'poetic', 'purpose', 'occur', 'departure', 'poverty', 'capitol', 'tool', 'cooky', '4g', 'banner', 'clarke', 'gender', 'snapchat', 'carol', 'bali', 'accurate', 'fiddle', 'robot', 'lesnars', '2010', 'walgreens', 'ghetto', 'hillarys', 'tv5', 'careys', 'duel', 'postal', 'rudolph', 'belushi', 'frustrate', 'siri', 'fluke', 'blunt', 'gears3', 'pee', 'reminds', 'southpaw', 'bellamy', 'heather', 'md', 'sits', 'walmart', 'contraband', 'diversity', 'commander', 'screenplay', 'convention', 'colorado', 'summit', 'bound', 'unmentionable', 'button', 'rely', 'norway', 'garner', 'chamberlain', 'prophet', 'bone', '915', 'ticketek', 'surprisingly', 'exhibit', 'citi', 'sheet', 'apartment', 'conquer', 'disappointing', 'brighter', 'thompson', 'christina', 'soundwave', 'rebecca', 'calvin', 'mj', 'atkinson', 'grave', 'gallagher', 'hoop', 'lou', 'raspberry', 'acceptance', 'divo', 'segal', 'demon', 'mtsu', 'wu', 'ost', 'ht', 'gareth', 'fps', 'counter', 'atletico', 'montage', 'puppet', 'stylus', 'nasdaq', 'rehearsal', 'satan', 'bud', 'grass', '74', 'header', 'redknapp', 'coke', 'sensitive', 'someday', 'oceans', 'ralph', 'unlikely', 'corsten', 'aspect', 'endymion', 'proven', 'plagiarize', 'instrumental', 'wade', 'richwood', 'partnership', 'nephew', 'silver', 'georgetown', 'breast', 'conspiracy', 'orleans', 'irving', 'investor', 'outrage', 'dujardin', 'zoo', 'slinger', 'bertuzzi', 'instructor', 'nonsense', 'disease', 'sip', 'ng', 'pie', 'poem', 'repair', 'cupid', 'hib', 'ramlila', 'ply', 'doom', 'funday', 'emo', 'sadden', 'vary', 'travis', 'fumble', 'rhodes', 'grande', 'pile', 'helicopter', 'greg', 'swim', 'qf', 'stomach', 'massacre', 'drift', 'ukips', 'bp', 'bethnal', 'steam', 'imaaa', 'sheerans', '98', 'farage', 'pak', 'deniesse', '59', 'attendance', 'dramatic', 'portugal', 'document', 'dvr', 'gaston', 'upton', 'lonely', 'destructo', 'privatize', 'lowkey', 'becky', 'nirvanas', 'addiction', 'aye', 'confident', 'utah', 'kobe', '49', 'raul', 'locate', 'cough', 'bdr', 'vocal', 'ying', 'resistance', 'advisor', 'oregon', 'bucs', 'kurd', 'abramovich', 'panther', '730pm', 'nanjing', 'decline', 'degrassi', 'retirement', 'oslo', 'sect', 'siro', 'evanescence', 'flower', 'grandpa', 'alike', 'philadelphia', 'mardis', 'thalia', 'acta', 'iditarod', 'burger', 'locker', 'leverkusen', 'territory', 'liacouras', 'coup', 'commission', 'footymad', 'volume', 'virginia', 'batter', 'homophobic', '800', 'velvet', 'nigel', 'cocktail', 'adelaide', 'oval', 'sonic', 'nationally', 'alsip', 'soc', 'maintenance', 'visa', 'emerson', 'boring', 'blown', 'slay', 'kandi', 'airline', 'knoxville', 'bleacher', 'adnan', 'association', 'breakout', 'cofield', 'dammit', 'registration', 'virgo', 'rm', 'latter', 'o2', 'haryana', 'bronco', 'baseman', 'rage', 'jul', 'atampt', 'listening', 'streep', 'shoutout', 'angle', 'veteran', 'swindell', 'garage', 'aunt', 'kinder', 'starbucks', 'adrienne', 'arsht', 'poetry', 'casimir', 'pulaski', 'bullpen', 'lesbian', 'cupertino', 'khader', 'woe', 'pun', 'pacquiao', 'rachel', 'sustainable', 'spotlight', 'nano', 'chardon', 'hatred', 'thrown', 'survivor', 'utc', 'arrivaldeparture', 'wbb', 'disc', '2001', 'wiz', 'putrajaya', 'shotton', 'pinch', 'hashtag', 'spartacus', 'exercise', 'literature', 'assistant', 'advanced', 'keyboard', 'surface', 'volare', 'abscbn', 'ar', 'hq', 'ddg', 'mufc', 'wsh', 'fca', 'homemade', 'cait', 'dismiss', 'beiber', 'remake', 'wead', 'export', 'carmelo', 'ongoing', 'yearbook', 'lip', 'jacksonville', 'pour', 'brick', 'logan', 'backup', 'biz', 'andor', 'aca', 'asylum', 'affair', 'richie', 'shepard', 'laguna', 'eff']\n"
     ]
    }
   ],
   "source": [
    "from collections import Counter\n",
    "# max number of words\n",
    "max_words = 5000\n",
    " \n",
    "# tokenise the tweets using NLTK \n",
    "tokensised_tweets = [word_tokenize(tweet) for tweet in tweets['twitter-training-data.txt']]\n",
    "# Convert each token to lowercase\n",
    "tokensised_tweets = [[token.lower() for token in tweet] for tweet in tokensised_tweets]\n",
    "word_freq = Counter([word for tweet in tokensised_tweets for word in tweet])\n",
    "# get 4998 word counts, leave one for the unused index and one for unknown words\n",
    "most_common = word_freq.most_common(max_words-2)\n",
    "print(most_common)\n",
    "top_5000_words = [word for word, freq in most_common]\n",
    "print(top_5000_words)"
   ]
  },
  {
   "cell_type": "code",
   "execution_count": 58,
   "metadata": {},
   "outputs": [],
   "source": [
    "# create word-to-index dictionary\n",
    "word_to_index = {}\n",
    "word_to_index['<PAD>'] = 0  # add <PAD> token at index 0\n",
    "word_to_index['<UNK>'] = 1  # add <UNK> token at index 0\n",
    "for i, word in enumerate(top_5000_words):\n",
    "    word_to_index[word] = i + 2  # add 2 to index since we added <PAD> and <UNK> tokens\n",
    "\n",
    "# create index-to-word dictionary\n",
    "index_to_word = {v: k for k, v in word_to_index.items()}"
   ]
  },
  {
   "attachments": {},
   "cell_type": "markdown",
   "metadata": {},
   "source": [
    "Create the embedding matrix"
   ]
  },
  {
   "cell_type": "code",
   "execution_count": 59,
   "metadata": {},
   "outputs": [
    {
     "name": "stdout",
     "output_type": "stream",
     "text": [
      "30\n"
     ]
    }
   ],
   "source": [
    "#embedding dimensino\n",
    "embedding_dim = 100\n",
    "# max words\n",
    "max_words = 5000\n",
    "# Find the longest tweet\n",
    "maxlen = max([len(tweet.split()) for tweet in tweets['twitter-training-data.txt']])\n",
    "print(maxlen)\n",
    "\n",
    "# create the embedding matrix\n",
    "\n",
    "embedding_matrix = np.zeros((max_words, embedding_dim))\n",
    "for word, i in word_to_index.items():\n",
    "    if i < max_words:\n",
    "        embedding_vector = glove_map.get(word)\n",
    "        if embedding_vector is not None:\n",
    "            embedding_matrix[i] = embedding_vector\n"
   ]
  },
  {
   "cell_type": "code",
   "execution_count": 60,
   "metadata": {},
   "outputs": [],
   "source": [
    "# pad the sequences to the same length after the last word using numpy\n",
    "def pad_sequences(X, max_len):\n",
    "    return np.array([np.pad(x, pad_width=[0, max_len - len(x)], mode='constant') for x in X])"
   ]
  },
  {
   "cell_type": "code",
   "execution_count": 61,
   "metadata": {},
   "outputs": [],
   "source": [
    "# convert the tweets to sequences of indices\n",
    "def convert_tweets_to_indices(tweets, word_to_index, max_len):\n",
    "    X =np.zeros((len(tweets),max_len),dtype=int)\n",
    "    for i,tweet in enumerate(tweets):\n",
    "        # convert the tweet to a sequence of indices\n",
    "        indices = [word_to_index[word] if word in word_to_index else word_to_index['<UNK>'] for word in tweet.split()]\n",
    "        # pad the sequence to the same length after the last word\n",
    "        indices_padded = pad_sequences([indices], max_len)\n",
    "        # add the indices to the matrix\n",
    "        X[i] = indices_padded        \n",
    "    return X"
   ]
  },
  {
   "attachments": {},
   "cell_type": "markdown",
   "metadata": {},
   "source": [
    "#### Build sentiment classifiers\n"
   ]
  },
  {
   "cell_type": "code",
   "execution_count": 62,
   "metadata": {},
   "outputs": [],
   "source": [
    "# import the models that will be tested\n",
    "from sklearn.naive_bayes import MultinomialNB\n",
    "from sklearn.svm import LinearSVC\n",
    "from sklearn.linear_model import LogisticRegression"
   ]
  },
  {
   "cell_type": "code",
   "execution_count": 63,
   "metadata": {},
   "outputs": [],
   "source": [
    "# Class for each feature representation\n",
    "class FeatureRepresentation:\n",
    "    def __init__(self, name, vectorizer):\n",
    "        self.name = name\n",
    "        self.vectorizer = vectorizer\n",
    "\n",
    "    def fit_transform(self, X):\n",
    "        return self.vectorizer.fit_transform(X)\n",
    "    \n",
    "    def transform(self, X):\n",
    "        return self.vectorizer.transform(X)\n"
   ]
  },
  {
   "cell_type": "code",
   "execution_count": 64,
   "metadata": {},
   "outputs": [],
   "source": [
    "from sklearn.feature_extraction.text import CountVectorizer\n",
    "from sklearn.feature_extraction.text import TfidfVectorizer\n",
    "\n",
    "# Define the feature representations\n",
    "bow = FeatureRepresentation('bow', CountVectorizer())\n",
    "tfidf = FeatureRepresentation('tf-idf', TfidfVectorizer())\n",
    "ngram = FeatureRepresentation('ngram', CountVectorizer(ngram_range=(1,2)))\n"
   ]
  },
  {
   "cell_type": "code",
   "execution_count": 65,
   "metadata": {},
   "outputs": [],
   "source": [
    "def feature_vectoriser(features):\n",
    "    if features == 'bow':\n",
    "        return bow.fit_transform(tweets['twitter-training-data.txt'])\n",
    "    elif features == 'tfidf':\n",
    "        return tfidf.fit_transform(tweets['twitter-training-data.txt'])\n",
    "    elif features == 'ngram':\n",
    "        return ngram.fit_transform(tweets['twitter-training-data.txt'])"
   ]
  },
  {
   "cell_type": "code",
   "execution_count": 66,
   "metadata": {},
   "outputs": [],
   "source": [
    "#import dataloader\n",
    "from torch.utils.data import TensorDataset, DataLoader\n",
    "#LSTM model\n",
    "# Define the number of epochs\n",
    "num_epochs = 20\n",
    "# Define the batch size\n",
    "batch_size = 32\n",
    "\n",
    "#learning rate\n",
    "lr = 0.001\n",
    "\n",
    "# training and validation data \n",
    "x_train_inds = (convert_tweets_to_indices(tweets['twitter-training-data.txt'], word_to_index, maxlen))\n",
    "x_valid_inds = (convert_tweets_to_indices(tweets['twitter-dev-data.txt'], word_to_index, maxlen))\n",
    "\n",
    "# create data loaders\n",
    "# convert the sequences of indices to a tensor\n",
    "x_train_tensor =( torch.from_numpy(x_train_inds)).to(device)\n",
    "x_valid_tensor = (torch.from_numpy(x_valid_inds)).to(device)\n",
    "\n",
    "\n",
    "# convert the labels to a tensor of longs\n",
    "y_train_tensor =( torch.from_numpy(np.array(tweetgts['twitter-training-data.txt'])).to(device)).long()\n",
    "\n",
    "\n",
    "y_valid_tensor = (torch.from_numpy(np.array(tweetgts['twitter-dev-data.txt'])).to(device)).long()\n",
    "\n",
    "# create the training dataloaders\n",
    "train_loader = DataLoader(TensorDataset(x_train_tensor,y_train_tensor),batch_size=batch_size,shuffle=True,drop_last=True)\n",
    "valid_loader = DataLoader(TensorDataset(x_valid_tensor,y_valid_tensor),batch_size=batch_size,shuffle=True,drop_last=True)"
   ]
  },
  {
   "cell_type": "code",
   "execution_count": 67,
   "metadata": {},
   "outputs": [],
   "source": [
    "# Get confusion matrix\n",
    "from sklearn.metrics import accuracy_score, classification_report, confusion_matrix\n",
    "def get_metrics(Y_actual,Y_preds,target_names=['negative','Neutral','Positive']):\n",
    "\n",
    "\n",
    "    # Overall Test Accuracy\n",
    "    print(\"Test Accuracy : {}\".format(accuracy_score(Y_actual, Y_preds)))\n",
    "\n",
    "    # Report for each class\n",
    "    print(\"\\nClassification Report : \")\n",
    "    print(classification_report(Y_actual, Y_preds, target_names=target_names))\n",
    "\n",
    "    # Confusion Matrix\n",
    "    #print(\"\\nConfusion Matrix : \")\n",
    "    #print(confusion_matrix(Y_actual, Y_preds))"
   ]
  },
  {
   "cell_type": "code",
   "execution_count": 68,
   "metadata": {},
   "outputs": [],
   "source": [
    "from sklearn.metrics import accuracy_score\n",
    "def CalcValLossAndAccuracy(model, loss_fn, val_loader):\n",
    "    # -- Disable the gradient --\n",
    "    with torch.no_grad():\n",
    "        Y_shuffled, Y_preds, losses = [],[],[]\n",
    "        for X, Y in val_loader:\n",
    "            preds = model(X)\n",
    "            loss  = loss_fn(preds, Y)\n",
    "            losses.append(loss.item())\n",
    "\n",
    "            Y_shuffled.append(Y)\n",
    "            Y_preds.append(preds.argmax(dim=-1))\n",
    "\n",
    "        Y_shuffled = torch.cat(Y_shuffled)\n",
    "        Y_preds    = torch.cat(Y_preds)\n",
    "        epoch_loss = torch.tensor(losses).mean()\n",
    "        print(\"Valid Loss : {:.3f}\".format(epoch_loss))\n",
    "        print(\"Valid Acc  : {:.3f}\".format(accuracy_score(Y_shuffled.cpu().detach().numpy(), Y_preds.cpu().detach().numpy())))\n",
    "        return epoch_loss.cpu().detach().numpy()"
   ]
  },
  {
   "cell_type": "code",
   "execution_count": 69,
   "metadata": {},
   "outputs": [
    {
     "name": "stdout",
     "output_type": "stream",
     "text": [
      "LSTMModel(\n",
      "  (embedding): Embedding(5000, 100)\n",
      "  (dropout): Dropout(p=0.5, inplace=False)\n",
      "  (lstm): LSTM(100, 110, batch_first=True, bidirectional=True)\n",
      "  (fc): Linear(in_features=110, out_features=3, bias=True)\n",
      ")\n"
     ]
    }
   ],
   "source": [
    "import torch.nn as nn\n",
    "# Define the LSTM model\n",
    "# define the model\n",
    "class LSTMModel(nn.Module):\n",
    "    def __init__(self, embedding_dim, hidden_dim, vocab_size, output_dim,num_layers,dropout,bidirectional):\n",
    "        super(LSTMModel, self).__init__()\n",
    "        self.embedding = nn.Embedding(vocab_size, embedding_dim)\n",
    "        self.dropout = nn.Dropout(dropout)\n",
    "        self.lstm = nn.LSTM(embedding_dim, hidden_dim, num_layers, batch_first=True,bidirectional=bidirection)\n",
    "        self.fc = nn.Linear(hidden_dim, output_dim)\n",
    "    \n",
    "    # shape of inputs: (batch_size, seq_len) (32,30)\n",
    "    def forward(self, inputs):\n",
    "\n",
    "        # shape of embeds: (batch_size, seq_len, embedding_dim) (32,30,100)\n",
    "        embeds = self.embedding(inputs)\n",
    "        embeds = self.dropout(embeds)\n",
    "        # shape of lstm_out: (seq_len, batch_size, hidden_dim) (30,32,128)\n",
    "        output, (hidden, carry) = self.lstm(embeds)\n",
    "\n",
    "        output = self.lstm(embeds),(hidden, carry)\n",
    "        #output = self.softmax(output)\n",
    "        output = self.fc(hidden[-1])\n",
    "        return output\n",
    "    \n",
    "    \n",
    "# define the model hyperparameters\n",
    "vocab_size = len(word_to_index)\n",
    "embedding_dim = 100\n",
    "hidden_dim = 110\n",
    "output_dim = 3\n",
    "num_layers = 1\n",
    "bidirection = True\n",
    "dropout = 0.5\n",
    "\n",
    "# instantiate the model\n",
    "\n",
    "LSTMModel = LSTMModel(embedding_dim, hidden_dim, vocab_size, output_dim,num_layers,dropout,bidirection)\n",
    "LSTMModel.embedding.weight.data.copy_(torch.from_numpy(embedding_matrix))\n",
    "LSTMModel.embedding.weight.requires_grad = False\n",
    "LSTMModel.to(device)\n",
    "\n",
    "# define the optimizer\n",
    "optimizer = torch.optim.Adam(LSTMModel.parameters(), lr=lr)\n",
    "\n",
    "# define the loss function\n",
    "criterion = nn.CrossEntropyLoss()\n",
    "\n",
    "\n",
    "print(LSTMModel)"
   ]
  },
  {
   "cell_type": "code",
   "execution_count": 70,
   "metadata": {},
   "outputs": [],
   "source": [
    "def plot_loss(losses_per_epoch, valid_losses_per_epoch):\n",
    "    plt.plot(np.arange(1,len(losses_per_epoch)+1),losses_per_epoch,'bo-')\n",
    "    plt.plot(np.arange(1,len(valid_losses_per_epoch)+1),valid_losses_per_epoch,'ro-')\n",
    "    plt.legend(['Training Loss','Validation Loss'])\n",
    "    plt.xlabel('Epoch')\n",
    "    plt.ylabel('Loss')\n",
    "    plt.title('Loss vs Epoch')\n",
    "    plt.show   "
   ]
  },
  {
   "cell_type": "code",
   "execution_count": 71,
   "metadata": {},
   "outputs": [],
   "source": [
    "from tqdm import tqdm\n",
    "# Training Loop\n",
    "def TrainingLoop(model, loss_fn, optimizer, train_loader, val_loader, epochs):\n",
    "    losses_per_epoch = []\n",
    "    valid_losses_per_epoch = []\n",
    "    epochs_no_improve = 0\n",
    "    for i in range(1, epochs+1):\n",
    "        model = model.train()\n",
    "        losses = []\n",
    "        # Cycle over the training examples (using minibatches)\n",
    "        # X are the examples, Y are the associated labels\n",
    "        for X, Y in tqdm(train_loader):\n",
    "            # Make the prediction\n",
    "            Y_preds = model(X)\n",
    "\n",
    "            # Compute the loss\n",
    "            loss = loss_fn(Y_preds, Y)\n",
    "            losses.append(loss.item())\n",
    "\n",
    "            # Reset the gradient\n",
    "            optimizer.zero_grad()\n",
    "            \n",
    "            # Compute the gradient\n",
    "            loss.backward()\n",
    "            \n",
    "            # Update the weights\n",
    "            optimizer.step()\n",
    "\n",
    "        train_loss = torch.tensor(losses).mean()\n",
    "        losses_per_epoch.append(train_loss.cpu().detach().numpy())\n",
    "        print(\"Train Loss : {:.3f}\".format(train_loss))\n",
    "        valid_losses= CalcValLossAndAccuracy(model, loss_fn, val_loader)\n",
    "        if (i!=1 and valid_losses > min(valid_losses_per_epoch)):\n",
    "            epochs_no_improve += 1\n",
    "            if epochs_no_improve == 5:\n",
    "                print('Early stopping!')\n",
    "                return losses_per_epoch, valid_losses_per_epoch\n",
    "                \n",
    "        valid_losses_per_epoch.append(valid_losses)\n",
    "    return losses_per_epoch, valid_losses_per_epoch"
   ]
  },
  {
   "cell_type": "code",
   "execution_count": 72,
   "metadata": {},
   "outputs": [],
   "source": [
    "def TestLoop(model,testset,):\n",
    "    \n",
    "    # get the maximum length of the tweets in the testset\n",
    "    max_len  = max([len(tweet) for tweet in tweets[testset]])\n",
    "    # convert the tweets to indices\n",
    "    x_test = torch.from_numpy(convert_tweets_to_indices(tweets[testset], word_to_index, max_len)).to(device)\n",
    "    test_loader = DataLoader(TensorDataset(x_test),batch_size=batch_size,shuffle=False,drop_last=False)\n",
    "    test_predicted_labels = []\n",
    "    model = model.eval()\n",
    "    with torch.no_grad():\n",
    "      for x in tqdm(test_loader):\n",
    "          x = x[0].to(device)\n",
    "          y_pred = model(x)\n",
    "          # get the arg max for each row\n",
    "          y_pred = y_pred.argmax(1).cpu().numpy()\n",
    "          test_predicted_labels.extend(y_pred)\n",
    "    #return the predicted labels\n",
    "    return test_predicted_labels\n",
    "\n",
    "\n"
   ]
  },
  {
   "attachments": {},
   "cell_type": "markdown",
   "metadata": {},
   "source": [
    "#### Train all classifiers"
   ]
  },
  {
   "cell_type": "code",
   "execution_count": 73,
   "metadata": {},
   "outputs": [
    {
     "name": "stdout",
     "output_type": "stream",
     "text": [
      "Training svm\n",
      "semeval-tweets\\twitter-test1.txt (bow-svm): 0.551\n",
      "semeval-tweets\\twitter-test2.txt (bow-svm): 0.573\n",
      "semeval-tweets\\twitter-test3.txt (bow-svm): 0.532\n",
      "Training svm\n",
      "semeval-tweets\\twitter-test1.txt (tfidf-svm): 0.512\n",
      "semeval-tweets\\twitter-test2.txt (tfidf-svm): 0.547\n",
      "semeval-tweets\\twitter-test3.txt (tfidf-svm): 0.503\n",
      "Training svm\n",
      "semeval-tweets\\twitter-test1.txt (ngram-svm): 0.559\n",
      "semeval-tweets\\twitter-test2.txt (ngram-svm): 0.613\n",
      "semeval-tweets\\twitter-test3.txt (ngram-svm): 0.535\n",
      "Training nb\n",
      "semeval-tweets\\twitter-test1.txt (bow-nb): 0.500\n",
      "semeval-tweets\\twitter-test2.txt (bow-nb): 0.500\n",
      "semeval-tweets\\twitter-test3.txt (bow-nb): 0.488\n",
      "Training nb\n",
      "semeval-tweets\\twitter-test1.txt (tfidf-nb): 0.413\n",
      "semeval-tweets\\twitter-test2.txt (tfidf-nb): 0.428\n",
      "semeval-tweets\\twitter-test3.txt (tfidf-nb): 0.415\n",
      "Training nb\n",
      "semeval-tweets\\twitter-test1.txt (ngram-nb): 0.482\n",
      "semeval-tweets\\twitter-test2.txt (ngram-nb): 0.517\n",
      "semeval-tweets\\twitter-test3.txt (ngram-nb): 0.495\n",
      "Training logistic-reg\n",
      "semeval-tweets\\twitter-test1.txt (bow-logistic-reg): 0.513\n",
      "semeval-tweets\\twitter-test2.txt (bow-logistic-reg): 0.533\n",
      "semeval-tweets\\twitter-test3.txt (bow-logistic-reg): 0.503\n",
      "Training logistic-reg\n",
      "semeval-tweets\\twitter-test1.txt (tfidf-logistic-reg): 0.377\n",
      "semeval-tweets\\twitter-test2.txt (tfidf-logistic-reg): 0.413\n",
      "semeval-tweets\\twitter-test3.txt (tfidf-logistic-reg): 0.364\n",
      "Training logistic-reg\n",
      "semeval-tweets\\twitter-test1.txt (ngram-logistic-reg): 0.521\n",
      "semeval-tweets\\twitter-test2.txt (ngram-logistic-reg): 0.546\n",
      "semeval-tweets\\twitter-test3.txt (ngram-logistic-reg): 0.503\n"
     ]
    },
    {
     "name": "stderr",
     "output_type": "stream",
     "text": [
      "100%|██████████| 1409/1409 [00:05<00:00, 265.40it/s]\n"
     ]
    },
    {
     "name": "stdout",
     "output_type": "stream",
     "text": [
      "Train Loss : 0.909\n",
      "Valid Loss : 0.867\n",
      "Valid Acc  : 0.580\n"
     ]
    },
    {
     "name": "stderr",
     "output_type": "stream",
     "text": [
      "100%|██████████| 1409/1409 [00:05<00:00, 277.33it/s]\n"
     ]
    },
    {
     "name": "stdout",
     "output_type": "stream",
     "text": [
      "Train Loss : 0.860\n",
      "Valid Loss : 0.857\n",
      "Valid Acc  : 0.591\n"
     ]
    },
    {
     "name": "stderr",
     "output_type": "stream",
     "text": [
      "100%|██████████| 1409/1409 [00:05<00:00, 277.74it/s]\n"
     ]
    },
    {
     "name": "stdout",
     "output_type": "stream",
     "text": [
      "Train Loss : 0.840\n",
      "Valid Loss : 0.842\n",
      "Valid Acc  : 0.609\n"
     ]
    },
    {
     "name": "stderr",
     "output_type": "stream",
     "text": [
      "100%|██████████| 1409/1409 [00:05<00:00, 268.23it/s]\n"
     ]
    },
    {
     "name": "stdout",
     "output_type": "stream",
     "text": [
      "Train Loss : 0.825\n",
      "Valid Loss : 0.827\n",
      "Valid Acc  : 0.618\n"
     ]
    },
    {
     "name": "stderr",
     "output_type": "stream",
     "text": [
      "100%|██████████| 1409/1409 [00:05<00:00, 276.76it/s]\n"
     ]
    },
    {
     "name": "stdout",
     "output_type": "stream",
     "text": [
      "Train Loss : 0.812\n",
      "Valid Loss : 0.827\n",
      "Valid Acc  : 0.618\n"
     ]
    },
    {
     "name": "stderr",
     "output_type": "stream",
     "text": [
      "100%|██████████| 1409/1409 [00:05<00:00, 277.09it/s]\n"
     ]
    },
    {
     "name": "stdout",
     "output_type": "stream",
     "text": [
      "Train Loss : 0.804\n",
      "Valid Loss : 0.827\n",
      "Valid Acc  : 0.614\n"
     ]
    },
    {
     "name": "stderr",
     "output_type": "stream",
     "text": [
      "100%|██████████| 1409/1409 [00:05<00:00, 268.69it/s]\n"
     ]
    },
    {
     "name": "stdout",
     "output_type": "stream",
     "text": [
      "Train Loss : 0.794\n",
      "Valid Loss : 0.816\n",
      "Valid Acc  : 0.616\n"
     ]
    },
    {
     "name": "stderr",
     "output_type": "stream",
     "text": [
      "100%|██████████| 1409/1409 [00:05<00:00, 276.65it/s]\n"
     ]
    },
    {
     "name": "stdout",
     "output_type": "stream",
     "text": [
      "Train Loss : 0.789\n",
      "Valid Loss : 0.814\n",
      "Valid Acc  : 0.633\n"
     ]
    },
    {
     "name": "stderr",
     "output_type": "stream",
     "text": [
      "100%|██████████| 1409/1409 [00:05<00:00, 276.47it/s]\n"
     ]
    },
    {
     "name": "stdout",
     "output_type": "stream",
     "text": [
      "Train Loss : 0.777\n",
      "Valid Loss : 0.810\n",
      "Valid Acc  : 0.616\n"
     ]
    },
    {
     "name": "stderr",
     "output_type": "stream",
     "text": [
      "100%|██████████| 1409/1409 [00:05<00:00, 268.23it/s]\n"
     ]
    },
    {
     "name": "stdout",
     "output_type": "stream",
     "text": [
      "Train Loss : 0.772\n",
      "Valid Loss : 0.827\n",
      "Valid Acc  : 0.623\n"
     ]
    },
    {
     "name": "stderr",
     "output_type": "stream",
     "text": [
      "100%|██████████| 1409/1409 [00:05<00:00, 273.11it/s]\n"
     ]
    },
    {
     "name": "stdout",
     "output_type": "stream",
     "text": [
      "Train Loss : 0.767\n",
      "Valid Loss : 0.831\n",
      "Valid Acc  : 0.626\n"
     ]
    },
    {
     "name": "stderr",
     "output_type": "stream",
     "text": [
      "100%|██████████| 1409/1409 [00:05<00:00, 277.47it/s]\n"
     ]
    },
    {
     "name": "stdout",
     "output_type": "stream",
     "text": [
      "Train Loss : 0.762\n",
      "Valid Loss : 0.836\n",
      "Valid Acc  : 0.613\n"
     ]
    },
    {
     "name": "stderr",
     "output_type": "stream",
     "text": [
      "100%|██████████| 1409/1409 [00:05<00:00, 270.18it/s]\n"
     ]
    },
    {
     "name": "stdout",
     "output_type": "stream",
     "text": [
      "Train Loss : 0.759\n",
      "Valid Loss : 0.813\n",
      "Valid Acc  : 0.621\n"
     ]
    },
    {
     "name": "stderr",
     "output_type": "stream",
     "text": [
      "100%|██████████| 1409/1409 [00:05<00:00, 275.52it/s]\n"
     ]
    },
    {
     "name": "stdout",
     "output_type": "stream",
     "text": [
      "Train Loss : 0.750\n",
      "Valid Loss : 0.805\n",
      "Valid Acc  : 0.634\n"
     ]
    },
    {
     "name": "stderr",
     "output_type": "stream",
     "text": [
      "100%|██████████| 1409/1409 [00:05<00:00, 276.98it/s]\n"
     ]
    },
    {
     "name": "stdout",
     "output_type": "stream",
     "text": [
      "Train Loss : 0.748\n",
      "Valid Loss : 0.823\n",
      "Valid Acc  : 0.620\n",
      "Early stopping!\n",
      "Training LSTM\n"
     ]
    },
    {
     "name": "stderr",
     "output_type": "stream",
     "text": [
      "100%|██████████| 111/111 [00:00<00:00, 264.92it/s]\n"
     ]
    },
    {
     "name": "stdout",
     "output_type": "stream",
     "text": [
      "semeval-tweets\\twitter-test1.txt (GloVe Word Embeddings-LSTM): 0.535\n"
     ]
    },
    {
     "name": "stderr",
     "output_type": "stream",
     "text": [
      "100%|██████████| 58/58 [00:00<00:00, 272.33it/s]\n"
     ]
    },
    {
     "name": "stdout",
     "output_type": "stream",
     "text": [
      "semeval-tweets\\twitter-test2.txt (GloVe Word Embeddings-LSTM): 0.554\n"
     ]
    },
    {
     "name": "stderr",
     "output_type": "stream",
     "text": [
      "100%|██████████| 75/75 [00:00<00:00, 251.67it/s]\n"
     ]
    },
    {
     "name": "stdout",
     "output_type": "stream",
     "text": [
      "semeval-tweets\\twitter-test3.txt (GloVe Word Embeddings-LSTM): 0.534\n",
      "Training LSTM\n"
     ]
    },
    {
     "name": "stderr",
     "output_type": "stream",
     "text": [
      "100%|██████████| 111/111 [00:00<00:00, 257.54it/s]\n"
     ]
    },
    {
     "name": "stdout",
     "output_type": "stream",
     "text": [
      "semeval-tweets\\twitter-test1.txt (GloVe Word Embeddings-LSTM): 0.535\n"
     ]
    },
    {
     "name": "stderr",
     "output_type": "stream",
     "text": [
      "100%|██████████| 58/58 [00:00<00:00, 261.24it/s]\n"
     ]
    },
    {
     "name": "stdout",
     "output_type": "stream",
     "text": [
      "semeval-tweets\\twitter-test2.txt (GloVe Word Embeddings-LSTM): 0.554\n"
     ]
    },
    {
     "name": "stderr",
     "output_type": "stream",
     "text": [
      "100%|██████████| 75/75 [00:00<00:00, 244.30it/s]\n"
     ]
    },
    {
     "name": "stdout",
     "output_type": "stream",
     "text": [
      "semeval-tweets\\twitter-test3.txt (GloVe Word Embeddings-LSTM): 0.534\n",
      "Training LSTM\n"
     ]
    },
    {
     "name": "stderr",
     "output_type": "stream",
     "text": [
      "100%|██████████| 111/111 [00:00<00:00, 249.44it/s]\n"
     ]
    },
    {
     "name": "stdout",
     "output_type": "stream",
     "text": [
      "semeval-tweets\\twitter-test1.txt (GloVe Word Embeddings-LSTM): 0.535\n"
     ]
    },
    {
     "name": "stderr",
     "output_type": "stream",
     "text": [
      "100%|██████████| 58/58 [00:00<00:00, 262.45it/s]\n"
     ]
    },
    {
     "name": "stdout",
     "output_type": "stream",
     "text": [
      "semeval-tweets\\twitter-test2.txt (GloVe Word Embeddings-LSTM): 0.554\n"
     ]
    },
    {
     "name": "stderr",
     "output_type": "stream",
     "text": [
      "100%|██████████| 75/75 [00:00<00:00, 250.00it/s]"
     ]
    },
    {
     "name": "stdout",
     "output_type": "stream",
     "text": [
      "semeval-tweets\\twitter-test3.txt (GloVe Word Embeddings-LSTM): 0.534\n"
     ]
    },
    {
     "name": "stderr",
     "output_type": "stream",
     "text": [
      "\n"
     ]
    }
   ],
   "source": [
    "# define the labels\n",
    "y_train = tweetgts['twitter-training-data.txt']\n",
    "# classifiers to test\n",
    "for classifier in ['svm','nb','logistic-reg','LSTM']:\n",
    "    model = None\n",
    "    # feature representations to test\n",
    "    for features in ['bow', 'tfidf', 'ngram']:                     \n",
    "\n",
    "        if classifier == 'svm':\n",
    "            model= LinearSVC(C=0.1, penalty='l2', max_iter=1000, dual=False)\n",
    "            x_train = feature_vectoriser(features)\n",
    "          \n",
    " \n",
    "        elif classifier == 'nb':\n",
    "            model = MultinomialNB(alpha=0.1, fit_prior=True)\n",
    "            x_train = feature_vectoriser(features)\n",
    "           \n",
    "        \n",
    "        elif classifier == 'logistic-reg':\n",
    "            model = LogisticRegression(C=0.1, penalty='l2', max_iter=1000)\n",
    "            x_train = feature_vectoriser(features)\n",
    "            \n",
    "\n",
    "        elif classifier == 'LSTM':\n",
    "            if features == 'bow':\n",
    "                losses_per_epoch, valid_losses_per_epoch = TrainingLoop(LSTMModel.to(device), criterion, optimizer, train_loader, valid_loader, num_epochs)        \n",
    "                #plot_loss(losses_per_epoch, valid_losses_per_epoch)\n",
    "                            \n",
    "        else:\n",
    "            print('Unknown classifier name' + classifier)\n",
    "            continue\n",
    "        \n",
    "        print('Training ' + classifier)\n",
    "\n",
    "        # Train the classifier\n",
    "        if classifier != 'LSTM':\n",
    "            model.fit(x_train, y_train)\n",
    "            \n",
    "\n",
    "        # Prediction performance of the classifiers\n",
    "        for testset in testsets:\n",
    "            # dictionary of ids and predictions\n",
    "            id_preds = {}\n",
    "            y_pred = []\n",
    "\n",
    "            if classifier == 'LSTM':\n",
    "                y_pred = TestLoop(LSTMModel,testset)\n",
    "                y_pred = [label_to_sentiment(label) for label in y_pred]\n",
    "                features = 'GloVe Word Embeddings'\n",
    "            \n",
    "            else:\n",
    "                if features == 'bow':\n",
    "                    # convert the tweets into a bag-of-word representation\n",
    "                    x_test = bow.transform(tweets[testset])\n",
    "                elif features == 'tfidf':\n",
    "                    # use the tf-idf representation of the tweets\n",
    "                    x_test = tfidf.transform(tweets[testset])\n",
    "                elif features == 'ngram':\n",
    "                    # use the n-gram representation of the tweets\n",
    "                    x_test = ngram.transform(tweets[testset])\n",
    "                # predict the sentiment of the tweets and convert the labels to sentiment\n",
    "                y_pred = [label_to_sentiment(label) for label in model.predict(x_test)]\n",
    "            \n",
    "            # get_metrics(y_pred, tweetgts[testset])\n",
    "            id_preds = {tweet_id: y_pred[i] for i, tweet_id in enumerate(tweetids[testset])}\n",
    "\n",
    "            # evaluate the performance of the classifier\n",
    "            testset_name = testset\n",
    "            testset_path = join('semeval-tweets', testset_name)\n",
    "            evaluate(id_preds, testset_path, features + '-' + classifier)"
   ]
  }
 ],
 "metadata": {
  "kernelspec": {
   "display_name": "Python 3",
   "language": "python",
   "name": "python3"
  },
  "language_info": {
   "codemirror_mode": {
    "name": "ipython",
    "version": 3
   },
   "file_extension": ".py",
   "mimetype": "text/x-python",
   "name": "python",
   "nbconvert_exporter": "python",
   "pygments_lexer": "ipython3",
   "version": "3.9.16"
  },
  "vscode": {
   "interpreter": {
    "hash": "949777d72b0d2535278d3dc13498b2535136f6dfe0678499012e853ee9abcab1"
   }
  }
 },
 "nbformat": 4,
 "nbformat_minor": 2
}
